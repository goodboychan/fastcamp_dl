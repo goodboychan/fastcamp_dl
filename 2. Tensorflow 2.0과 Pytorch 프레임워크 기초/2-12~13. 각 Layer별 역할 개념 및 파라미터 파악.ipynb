{
 "cells": [
  {
   "cell_type": "markdown",
   "metadata": {},
   "source": [
    "# PyTorch Layer 이해하기"
   ]
  },
  {
   "cell_type": "markdown",
   "metadata": {},
   "source": [
    "# 예제 불러오기"
   ]
  },
  {
   "cell_type": "code",
   "execution_count": 1,
   "metadata": {},
   "outputs": [],
   "source": [
    "import torch\n",
    "from torchvision import datasets, transforms"
   ]
  },
  {
   "cell_type": "code",
   "execution_count": 2,
   "metadata": {},
   "outputs": [],
   "source": [
    "import numpy as np\n",
    "import matplotlib.pyplot as plt\n",
    "\n",
    "%matplotlib inline"
   ]
  },
  {
   "cell_type": "code",
   "execution_count": 3,
   "metadata": {},
   "outputs": [
    {
     "data": {
      "text/plain": [
       "'cuda'"
      ]
     },
     "execution_count": 3,
     "metadata": {},
     "output_type": "execute_result"
    }
   ],
   "source": [
    "device = 'cuda' if torch.cuda.is_available() else 'cpu'\n",
    "device"
   ]
  },
  {
   "cell_type": "code",
   "execution_count": 4,
   "metadata": {},
   "outputs": [],
   "source": [
    "train_loader = torch.utils.data.DataLoader(\n",
    "    datasets.MNIST('dataset', train=True, download=True,\n",
    "                   transform=transforms.Compose([\n",
    "                       transforms.ToTensor()\n",
    "                   ])),\n",
    "    batch_size=1)"
   ]
  },
  {
   "cell_type": "code",
   "execution_count": 5,
   "metadata": {},
   "outputs": [],
   "source": [
    "image, label = next(iter(train_loader))"
   ]
  },
  {
   "cell_type": "code",
   "execution_count": 6,
   "metadata": {},
   "outputs": [
    {
     "data": {
      "text/plain": [
       "(torch.Size([1, 1, 28, 28]), torch.Size([1]))"
      ]
     },
     "execution_count": 6,
     "metadata": {},
     "output_type": "execute_result"
    }
   ],
   "source": [
    "image.shape, label.shape"
   ]
  },
  {
   "cell_type": "code",
   "execution_count": 7,
   "metadata": {},
   "outputs": [
    {
     "data": {
      "text/plain": [
       "Text(0.5, 1.0, 'tensor([5])')"
      ]
     },
     "execution_count": 7,
     "metadata": {},
     "output_type": "execute_result"
    },
    {
     "data": {
      "image/png": "[encoded data removed]",
      "text/plain": [
       "<Figure size 432x288 with 1 Axes>"
      ]
     },
     "metadata": {
      "needs_background": "light"
     },
     "output_type": "display_data"
    }
   ],
   "source": [
    "plt.imshow(image[0, 0, :, :], 'gray')\n",
    "plt.title(label)"
   ]
  },
  {
   "cell_type": "markdown",
   "metadata": {},
   "source": [
    "# 각 Layer별 설명"
   ]
  },
  {
   "cell_type": "markdown",
   "metadata": {},
   "source": [
    "- Network 쌓기 위한 준비"
   ]
  },
  {
   "cell_type": "code",
   "execution_count": 8,
   "metadata": {},
   "outputs": [],
   "source": [
    "import torch\n",
    "import torch.nn as nn\n",
    "import torch.nn.functional as F"
   ]
  },
  {
   "cell_type": "markdown",
   "metadata": {},
   "source": [
    "### Convolution"
   ]
  },
  {
   "cell_type": "markdown",
   "metadata": {},
   "source": [
    "- in_channels: 받게 될 channel의 갯수\n",
    "- out_channels: 보내고 싶은 channel의 갯수  \n",
    "- kernel_size: 만들고 싶은 kernel(weights)의 사이즈"
   ]
  },
  {
   "cell_type": "code",
   "execution_count": 9,
   "metadata": {},
   "outputs": [
    {
     "data": {
      "text/plain": [
       "Conv2d(1, 20, kernel_size=(5, 5), stride=(1, 1))"
      ]
     },
     "execution_count": 9,
     "metadata": {},
     "output_type": "execute_result"
    }
   ],
   "source": [
    "nn.Conv2d(in_channels=1, out_channels=20, kernel_size=5, stride=1)"
   ]
  },
  {
   "cell_type": "code",
   "execution_count": 10,
   "metadata": {},
   "outputs": [
    {
     "data": {
      "text/plain": [
       "Conv2d(1, 20, kernel_size=(5, 5), stride=(1, 1))"
      ]
     },
     "execution_count": 10,
     "metadata": {},
     "output_type": "execute_result"
    }
   ],
   "source": [
    "layer = nn.Conv2d(1, 20, 5, 1).to(torch.device('cuda'))\n",
    "layer"
   ]
  },
  {
   "cell_type": "markdown",
   "metadata": {},
   "source": [
    "- weight 시각화를 위해 slice하고 numpy화"
   ]
  },
  {
   "cell_type": "code",
   "execution_count": 11,
   "metadata": {},
   "outputs": [
    {
     "data": {
      "text/plain": [
       "Parameter containing:\n",
       "tensor([[[[ 1.5857e-01, -4.2297e-03, -5.0621e-02,  2.0960e-02, -1.2844e-01],\n",
       "          [-8.7020e-02,  4.2337e-02, -1.0373e-01,  3.6739e-02, -1.0404e-01],\n",
       "          [ 1.2746e-01, -9.7392e-02, -6.9317e-02, -1.3286e-01, -1.8931e-01],\n",
       "          [ 5.8292e-02,  9.1856e-02, -1.2598e-01, -6.6280e-03, -1.6042e-01],\n",
       "          [-1.7900e-02,  1.1983e-01,  1.6809e-01, -1.0183e-01, -9.3740e-02]]],\n",
       "\n",
       "\n",
       "        [[[-1.5362e-02,  6.6622e-02, -1.9568e-01,  9.8337e-02,  1.6667e-01],\n",
       "          [-1.5394e-01,  1.7430e-01, -3.3139e-02,  5.8050e-02, -1.2109e-01],\n",
       "          [ 1.5411e-01,  1.5660e-01,  7.0169e-02, -7.2910e-02,  1.0976e-03],\n",
       "          [ 1.0437e-01,  1.5117e-01, -1.7014e-01,  1.9140e-01, -1.5375e-01],\n",
       "          [ 4.8114e-02,  1.0126e-01, -7.6439e-02,  7.1796e-02,  6.5728e-04]]],\n",
       "\n",
       "\n",
       "        [[[-1.4659e-01,  1.0750e-01,  1.2078e-01, -6.2365e-02,  7.2926e-02],\n",
       "          [-1.0744e-01,  1.7785e-01, -9.6402e-02, -1.8442e-01,  1.6050e-01],\n",
       "          [ 1.9805e-01, -1.5545e-01,  1.2602e-01,  1.9338e-01,  1.2838e-01],\n",
       "          [-8.3183e-02, -1.3237e-01,  1.3572e-01, -1.2555e-01,  9.2475e-02],\n",
       "          [ 1.5031e-01, -9.7735e-02,  1.8515e-01,  1.4579e-01, -5.8869e-02]]],\n",
       "\n",
       "\n",
       "        [[[ 1.5247e-01, -5.0576e-02, -7.0707e-02, -3.9673e-02, -1.2297e-01],\n",
       "          [ 1.1719e-03,  1.0683e-01,  1.6322e-01, -7.7762e-02,  1.3714e-01],\n",
       "          [-4.5809e-02,  1.0123e-01,  2.3423e-02,  5.0416e-02,  1.1472e-01],\n",
       "          [-1.8033e-01,  6.5873e-02, -1.5843e-01, -1.7985e-01, -1.3351e-01],\n",
       "          [-1.4182e-02,  3.7257e-02, -7.8349e-02, -1.4903e-01,  1.3534e-01]]],\n",
       "\n",
       "\n",
       "        [[[ 4.6112e-02,  9.6470e-02, -1.4739e-02, -1.9687e-01, -9.0348e-03],\n",
       "          [-8.3371e-02, -3.2354e-02, -1.5976e-01,  1.6085e-01, -1.5353e-01],\n",
       "          [ 1.0910e-01, -8.5645e-02, -1.7501e-01, -5.2920e-02,  1.8486e-01],\n",
       "          [-1.9748e-01, -5.3284e-04,  9.4733e-02,  1.5463e-01, -4.8025e-02],\n",
       "          [-1.5243e-01, -1.6175e-01, -1.7155e-01,  1.6938e-01, -1.8237e-01]]],\n",
       "\n",
       "\n",
       "        [[[-2.5064e-02,  8.5812e-02,  1.9759e-02,  2.5877e-02,  1.2133e-01],\n",
       "          [ 1.0601e-01,  1.4737e-01, -1.1779e-01,  1.6638e-02, -1.2391e-01],\n",
       "          [-1.9239e-01, -1.0193e-01, -2.1682e-03, -1.7707e-01, -1.3829e-01],\n",
       "          [-1.6617e-01, -3.1881e-02, -1.3021e-01,  8.3904e-02,  8.7340e-02],\n",
       "          [ 8.5352e-02, -4.7306e-02, -1.6678e-01, -7.4403e-02,  1.3075e-01]]],\n",
       "\n",
       "\n",
       "        [[[ 1.0615e-01, -1.7865e-01,  1.8325e-01, -8.2766e-02, -6.5853e-02],\n",
       "          [-1.8688e-01,  9.7564e-02,  1.6262e-01, -1.2426e-01,  1.0925e-01],\n",
       "          [-1.8705e-01,  9.1816e-02,  9.3930e-02, -9.9241e-02, -1.8252e-01],\n",
       "          [ 9.4544e-03, -8.3924e-02, -9.5238e-02, -1.2751e-01,  3.5261e-02],\n",
       "          [ 6.0622e-02,  1.4514e-02, -7.3086e-02,  1.8116e-01, -1.1699e-01]]],\n",
       "\n",
       "\n",
       "        [[[ 2.6886e-03,  1.1823e-01,  9.2018e-02,  1.6614e-02,  1.1664e-02],\n",
       "          [-1.3960e-01, -1.7510e-01, -4.4474e-02,  1.9985e-01, -1.5904e-01],\n",
       "          [ 1.1428e-01, -3.6754e-02, -1.8691e-01, -8.5195e-02, -1.4786e-01],\n",
       "          [-6.5867e-02,  4.5524e-02, -1.0338e-02, -1.9041e-01,  1.4506e-01],\n",
       "          [-1.9759e-01, -7.1431e-02, -1.0999e-02, -6.2108e-02,  4.0356e-02]]],\n",
       "\n",
       "\n",
       "        [[[ 7.7863e-04, -9.4728e-02,  9.9896e-02, -8.8159e-02,  1.6552e-01],\n",
       "          [ 4.6895e-02, -1.2668e-01, -1.8898e-01, -1.1328e-01, -1.2111e-01],\n",
       "          [-4.5175e-02,  9.5665e-02,  1.6157e-01, -3.4878e-02,  3.6779e-03],\n",
       "          [-1.8703e-01, -2.2865e-02,  1.4401e-02, -1.3940e-01, -1.7667e-01],\n",
       "          [-1.9099e-01,  4.8787e-02, -1.8730e-01, -1.9568e-01,  1.3833e-01]]],\n",
       "\n",
       "\n",
       "        [[[-1.1070e-01,  1.5061e-01,  5.5941e-02, -2.8498e-02,  1.2408e-01],\n",
       "          [ 1.7744e-01,  2.6891e-02, -7.7140e-02, -9.0402e-02,  1.1058e-01],\n",
       "          [-2.1832e-02, -2.0271e-02, -1.1749e-02,  2.7725e-02,  1.7964e-01],\n",
       "          [ 1.2636e-01,  1.5529e-01,  5.1090e-02,  1.4118e-01, -7.7142e-02],\n",
       "          [ 7.0855e-02,  8.5470e-02, -1.2601e-01, -1.7565e-01,  1.4483e-01]]],\n",
       "\n",
       "\n",
       "        [[[-3.1743e-02,  3.5903e-02, -6.1560e-02, -1.1535e-01,  4.9884e-02],\n",
       "          [ 1.7322e-01, -1.7413e-01,  1.8768e-01,  8.0435e-02, -9.9415e-02],\n",
       "          [ 5.9288e-02, -1.7745e-01, -9.4527e-02, -1.2920e-01, -1.0049e-01],\n",
       "          [ 1.5411e-01, -1.7076e-01, -1.4264e-01, -1.3384e-01, -6.0536e-02],\n",
       "          [-1.9308e-01, -8.5619e-02,  1.7630e-01,  1.5501e-01,  1.6252e-02]]],\n",
       "\n",
       "\n",
       "        [[[-7.6467e-03, -3.9273e-02,  1.7063e-02, -4.6198e-02, -1.2386e-01],\n",
       "          [ 8.8100e-03,  1.5000e-01,  1.5782e-01, -1.6357e-01, -1.6000e-01],\n",
       "          [-2.4634e-02, -1.6500e-01, -3.0338e-03,  9.7215e-03,  1.8893e-01],\n",
       "          [-9.2228e-02,  1.4981e-01,  4.7433e-02,  1.8516e-01,  9.4937e-02],\n",
       "          [ 4.2093e-03, -1.4919e-01, -9.8048e-02,  1.7019e-01, -1.9555e-01]]],\n",
       "\n",
       "\n",
       "        [[[-2.9742e-02, -1.1427e-01, -1.4655e-01,  9.2936e-03,  1.5418e-01],\n",
       "          [-7.6282e-02, -6.3154e-02, -1.3331e-03,  3.5551e-02, -9.8045e-02],\n",
       "          [-2.2432e-04, -1.2443e-01,  7.2748e-02,  1.3469e-01,  1.2420e-01],\n",
       "          [-5.5070e-02,  1.1717e-01, -7.5218e-02,  1.6722e-01, -9.2255e-03],\n",
       "          [-1.4334e-01, -1.3813e-02, -4.3123e-02, -1.3728e-01, -7.8046e-02]]],\n",
       "\n",
       "\n",
       "        [[[ 5.7441e-02,  1.4451e-01, -4.6724e-02, -1.3393e-01, -1.9175e-01],\n",
       "          [ 1.5185e-01, -3.8343e-02,  2.6074e-02,  1.7661e-01, -9.0016e-02],\n",
       "          [ 6.1212e-02,  8.2483e-02, -1.1574e-01, -1.5554e-01,  7.3851e-02],\n",
       "          [-1.0829e-01,  1.4912e-01,  1.1082e-01, -1.9978e-01,  4.3210e-02],\n",
       "          [-5.4785e-02, -7.3895e-02, -1.8977e-01, -4.8313e-02, -1.3075e-01]]],\n",
       "\n",
       "\n",
       "        [[[ 1.6992e-01,  4.0526e-02,  2.9128e-03, -1.2739e-01,  1.3604e-02],\n",
       "          [-7.5455e-02,  3.4520e-02,  1.7750e-01,  9.1210e-02,  6.1739e-03],\n",
       "          [ 6.1643e-03, -2.7173e-02,  8.4549e-02, -7.7000e-02,  1.0062e-01],\n",
       "          [ 1.5761e-01, -1.5509e-01,  9.7926e-03,  5.1762e-02,  2.0372e-02],\n",
       "          [-1.5362e-01, -1.3969e-01, -1.9215e-01, -1.3163e-01,  1.1526e-01]]],\n",
       "\n",
       "\n",
       "        [[[-8.3683e-02,  1.7401e-01,  8.7999e-02, -8.2894e-02,  1.1448e-01],\n",
       "          [ 1.7421e-01,  1.9071e-01, -6.3634e-02,  1.1649e-01,  3.0016e-02],\n",
       "          [ 1.7420e-01, -1.1944e-01, -1.7148e-01, -8.0471e-02, -1.1336e-01],\n",
       "          [-2.0698e-02, -3.8432e-03, -1.8030e-01,  1.7648e-02,  1.6736e-01],\n",
       "          [-4.1672e-02,  1.8240e-01,  1.0649e-01,  1.8648e-01,  1.8583e-01]]],\n",
       "\n",
       "\n",
       "        [[[-1.4217e-01,  1.4618e-01,  1.6849e-01,  1.9576e-01,  7.8508e-02],\n",
       "          [ 1.9040e-01, -1.7271e-01,  1.2211e-01, -2.2782e-02,  1.3824e-01],\n",
       "          [-1.9727e-01,  4.8632e-02,  1.3206e-01,  1.4510e-01, -1.2285e-01],\n",
       "          [ 1.7107e-02,  1.8776e-01, -9.1401e-02, -1.4739e-01,  1.0938e-01],\n",
       "          [-1.5409e-01, -1.5516e-01,  1.5451e-01, -1.0059e-01,  1.0653e-01]]],\n",
       "\n",
       "\n",
       "        [[[-1.5656e-01, -1.4989e-01, -1.5851e-01, -1.9543e-01,  1.5512e-01],\n",
       "          [-1.8620e-01,  4.9415e-02,  9.7789e-02,  1.7586e-01, -4.8608e-02],\n",
       "          [-1.1403e-01,  1.2479e-01, -1.2869e-01,  5.8643e-02,  1.2365e-01],\n",
       "          [ 1.7147e-01,  1.3860e-01,  7.5329e-02, -1.5966e-01,  1.8276e-01],\n",
       "          [ 4.2826e-02,  1.6423e-01,  3.7104e-05, -2.1209e-02, -1.1668e-01]]],\n",
       "\n",
       "\n",
       "        [[[-8.5170e-02,  1.8188e-01, -1.7830e-01,  1.0806e-01,  8.1652e-03],\n",
       "          [-9.3918e-02,  1.1346e-01,  1.9583e-01,  6.2951e-02,  4.2274e-02],\n",
       "          [ 7.0220e-02, -1.9415e-01,  7.1227e-02, -1.6124e-01, -1.5756e-01],\n",
       "          [ 6.9331e-02,  4.8033e-03,  5.5842e-02,  1.3310e-01,  1.6905e-01],\n",
       "          [ 8.1469e-02, -1.2307e-01, -1.8297e-01,  7.9401e-02,  5.4524e-02]]],\n",
       "\n",
       "\n",
       "        [[[ 1.2129e-01, -1.2535e-01,  5.9964e-02, -9.6613e-02,  1.6373e-01],\n",
       "          [-2.1829e-02, -1.5268e-01,  1.9981e-01, -1.2727e-01,  1.8632e-01],\n",
       "          [-3.7560e-02,  1.7236e-01,  3.0483e-02, -4.9145e-02, -1.2924e-01],\n",
       "          [-3.5704e-02, -1.5500e-01,  8.6053e-02,  1.4252e-01, -1.0707e-01],\n",
       "          [-1.3865e-01, -1.0368e-01,  2.4194e-02,  1.6012e-01, -9.2452e-02]]]],\n",
       "       device='cuda:0', requires_grad=True)"
      ]
     },
     "execution_count": 11,
     "metadata": {},
     "output_type": "execute_result"
    }
   ],
   "source": [
    "weight = layer.weight\n",
    "weight"
   ]
  },
  {
   "cell_type": "code",
   "execution_count": 12,
   "metadata": {},
   "outputs": [
    {
     "data": {
      "text/plain": [
       "torch.Size([20, 1, 5, 5])"
      ]
     },
     "execution_count": 12,
     "metadata": {},
     "output_type": "execute_result"
    }
   ],
   "source": [
    "weight.shape"
   ]
  },
  {
   "cell_type": "markdown",
   "metadata": {},
   "source": [
    "- 여기서 weight는 학습 가능한 상태이기 때문에 바로 numpy로 뽑아낼 수 없음\n",
    "- detach() method는 그래프에서 잠깐 빼서 gradient에 영향을 받지 않게 함"
   ]
  },
  {
   "cell_type": "code",
   "execution_count": 13,
   "metadata": {},
   "outputs": [
    {
     "data": {
      "text/plain": [
       "array([[[[ 1.58566639e-01, -4.22969460e-03, -5.06208688e-02,\n",
       "           2.09601671e-02, -1.28436774e-01],\n",
       "         [-8.70198235e-02,  4.23369110e-02, -1.03733614e-01,\n",
       "           3.67386341e-02, -1.04037739e-01],\n",
       "         [ 1.27455696e-01, -9.73915607e-02, -6.93174601e-02,\n",
       "          -1.32863641e-01, -1.89307496e-01],\n",
       "         [ 5.82918078e-02,  9.18560475e-02, -1.25978768e-01,\n",
       "          -6.62799180e-03, -1.60419196e-01],\n",
       "         [-1.78996027e-02,  1.19830266e-01,  1.68090746e-01,\n",
       "          -1.01832248e-01, -9.37398896e-02]]],\n",
       "\n",
       "\n",
       "       [[[-1.53624117e-02,  6.66216761e-02, -1.95684060e-01,\n",
       "           9.83371884e-02,  1.66666433e-01],\n",
       "         [-1.53943941e-01,  1.74296543e-01, -3.31389159e-02,\n",
       "           5.80500215e-02, -1.21087722e-01],\n",
       "         [ 1.54108360e-01,  1.56600997e-01,  7.01690167e-02,\n",
       "          -7.29097575e-02,  1.09760463e-03],\n",
       "         [ 1.04374513e-01,  1.51170835e-01, -1.70141742e-01,\n",
       "           1.91403165e-01, -1.53747082e-01],\n",
       "         [ 4.81135398e-02,  1.01260260e-01, -7.64391944e-02,\n",
       "           7.17962533e-02,  6.57275319e-04]]],\n",
       "\n",
       "\n",
       "       [[[-1.46594316e-01,  1.07496068e-01,  1.20775953e-01,\n",
       "          -6.23652637e-02,  7.29262382e-02],\n",
       "         [-1.07437372e-01,  1.77851811e-01, -9.64016467e-02,\n",
       "          -1.84421584e-01,  1.60495654e-01],\n",
       "         [ 1.98049083e-01, -1.55447453e-01,  1.26021311e-01,\n",
       "           1.93384603e-01,  1.28379509e-01],\n",
       "         [-8.31832215e-02, -1.32368281e-01,  1.35719016e-01,\n",
       "          -1.25552267e-01,  9.24746245e-02],\n",
       "         [ 1.50308743e-01, -9.77349505e-02,  1.85145602e-01,\n",
       "           1.45788208e-01, -5.88687956e-02]]],\n",
       "\n",
       "\n",
       "       [[[ 1.52470008e-01, -5.05760610e-02, -7.07069337e-02,\n",
       "          -3.96726429e-02, -1.22968055e-01],\n",
       "         [ 1.17190182e-03,  1.06828585e-01,  1.63215235e-01,\n",
       "          -7.77615085e-02,  1.37139246e-01],\n",
       "         [-4.58087176e-02,  1.01225629e-01,  2.34231949e-02,\n",
       "           5.04162163e-02,  1.14721015e-01],\n",
       "         [-1.80326208e-01,  6.58728629e-02, -1.58427805e-01,\n",
       "          -1.79854065e-01, -1.33510306e-01],\n",
       "         [-1.41816139e-02,  3.72571051e-02, -7.83491358e-02,\n",
       "          -1.49026707e-01,  1.35338470e-01]]],\n",
       "\n",
       "\n",
       "       [[[ 4.61119413e-02,  9.64698642e-02, -1.47392452e-02,\n",
       "          -1.96871638e-01, -9.03482735e-03],\n",
       "         [-8.33711624e-02, -3.23538482e-02, -1.59755394e-01,\n",
       "           1.60850540e-01, -1.53531432e-01],\n",
       "         [ 1.09098479e-01, -8.56449604e-02, -1.75013974e-01,\n",
       "          -5.29202521e-02,  1.84864685e-01],\n",
       "         [-1.97479352e-01, -5.32835722e-04,  9.47332531e-02,\n",
       "           1.54629841e-01, -4.80248183e-02],\n",
       "         [-1.52427748e-01, -1.61745876e-01, -1.71551943e-01,\n",
       "           1.69376627e-01, -1.82366133e-01]]],\n",
       "\n",
       "\n",
       "       [[[-2.50635147e-02,  8.58117789e-02,  1.97585523e-02,\n",
       "           2.58769542e-02,  1.21328458e-01],\n",
       "         [ 1.06009081e-01,  1.47372380e-01, -1.17793702e-01,\n",
       "           1.66383088e-02, -1.23908162e-01],\n",
       "         [-1.92391038e-01, -1.01929381e-01, -2.16817856e-03,\n",
       "          -1.77065119e-01, -1.38294861e-01],\n",
       "         [-1.66172117e-01, -3.18808258e-02, -1.30214781e-01,\n",
       "           8.39036256e-02,  8.73398036e-02],\n",
       "         [ 8.53517503e-02, -4.73060161e-02, -1.66775987e-01,\n",
       "          -7.44031370e-02,  1.30745783e-01]]],\n",
       "\n",
       "\n",
       "       [[[ 1.06152907e-01, -1.78648457e-01,  1.83252767e-01,\n",
       "          -8.27661306e-02, -6.58534765e-02],\n",
       "         [-1.86877891e-01,  9.75640863e-02,  1.62619457e-01,\n",
       "          -1.24262050e-01,  1.09245464e-01],\n",
       "         [-1.87050968e-01,  9.18157250e-02,  9.39301699e-02,\n",
       "          -9.92408991e-02, -1.82519197e-01],\n",
       "         [ 9.45436954e-03, -8.39240327e-02, -9.52382609e-02,\n",
       "          -1.27506077e-01,  3.52614224e-02],\n",
       "         [ 6.06221408e-02,  1.45142078e-02, -7.30855167e-02,\n",
       "           1.81163594e-01, -1.16990589e-01]]],\n",
       "\n",
       "\n",
       "       [[[ 2.68861651e-03,  1.18230715e-01,  9.20183808e-02,\n",
       "           1.66139603e-02,  1.16643906e-02],\n",
       "         [-1.39599010e-01, -1.75104216e-01, -4.44739610e-02,\n",
       "           1.99849114e-01, -1.59041196e-01],\n",
       "         [ 1.14275709e-01, -3.67536247e-02, -1.86908603e-01,\n",
       "          -8.51954743e-02, -1.47855997e-01],\n",
       "         [-6.58666790e-02,  4.55242097e-02, -1.03380382e-02,\n",
       "          -1.90408990e-01,  1.45063415e-01],\n",
       "         [-1.97594434e-01, -7.14306384e-02, -1.09987259e-02,\n",
       "          -6.21082336e-02,  4.03564721e-02]]],\n",
       "\n",
       "\n",
       "       [[[ 7.78630376e-04, -9.47275907e-02,  9.98956412e-02,\n",
       "          -8.81586075e-02,  1.65517673e-01],\n",
       "         [ 4.68952358e-02, -1.26678467e-01, -1.88978657e-01,\n",
       "          -1.13278918e-01, -1.21109776e-01],\n",
       "         [-4.51748371e-02,  9.56654996e-02,  1.61567047e-01,\n",
       "          -3.48777771e-02,  3.67791951e-03],\n",
       "         [-1.87026724e-01, -2.28645056e-02,  1.44009143e-02,\n",
       "          -1.39400274e-01, -1.76674560e-01],\n",
       "         [-1.90994963e-01,  4.87869233e-02, -1.87302947e-01,\n",
       "          -1.95675120e-01,  1.38330117e-01]]],\n",
       "\n",
       "\n",
       "       [[[-1.10704780e-01,  1.50612637e-01,  5.59408516e-02,\n",
       "          -2.84982622e-02,  1.24079600e-01],\n",
       "         [ 1.77443519e-01,  2.68905610e-02, -7.71403313e-02,\n",
       "          -9.04023424e-02,  1.10576168e-01],\n",
       "         [-2.18323171e-02, -2.02707052e-02, -1.17491931e-02,\n",
       "           2.77251899e-02,  1.79642722e-01],\n",
       "         [ 1.26360133e-01,  1.55291811e-01,  5.10903746e-02,\n",
       "           1.41184971e-01, -7.71424994e-02],\n",
       "         [ 7.08552450e-02,  8.54704231e-02, -1.26010448e-01,\n",
       "          -1.75649196e-01,  1.44834653e-01]]],\n",
       "\n",
       "\n",
       "       [[[-3.17433327e-02,  3.59032899e-02, -6.15599602e-02,\n",
       "          -1.15349986e-01,  4.98835742e-02],\n",
       "         [ 1.73215553e-01, -1.74127370e-01,  1.87680170e-01,\n",
       "           8.04349333e-02, -9.94147807e-02],\n",
       "         [ 5.92883378e-02, -1.77453518e-01, -9.45272967e-02,\n",
       "          -1.29199296e-01, -1.00485019e-01],\n",
       "         [ 1.54108062e-01, -1.70759305e-01, -1.42642111e-01,\n",
       "          -1.33838490e-01, -6.05359077e-02],\n",
       "         [-1.93082571e-01, -8.56194273e-02,  1.76296547e-01,\n",
       "           1.55005261e-01,  1.62518322e-02]]],\n",
       "\n",
       "\n",
       "       [[[-7.64665008e-03, -3.92728746e-02,  1.70633048e-02,\n",
       "          -4.61978465e-02, -1.23855136e-01],\n",
       "         [ 8.80999863e-03,  1.50001064e-01,  1.57823697e-01,\n",
       "          -1.63567588e-01, -1.60004616e-01],\n",
       "         [-2.46336460e-02, -1.65000468e-01, -3.03383172e-03,\n",
       "           9.72147286e-03,  1.88925698e-01],\n",
       "         [-9.22276005e-02,  1.49810001e-01,  4.74329889e-02,\n",
       "           1.85158744e-01,  9.49368626e-02],\n",
       "         [ 4.20925021e-03, -1.49194032e-01, -9.80476364e-02,\n",
       "           1.70193598e-01, -1.95554540e-01]]],\n",
       "\n",
       "\n",
       "       [[[-2.97415704e-02, -1.14273243e-01, -1.46546334e-01,\n",
       "           9.29363072e-03,  1.54183164e-01],\n",
       "         [-7.62817860e-02, -6.31539524e-02, -1.33307278e-03,\n",
       "           3.55510712e-02, -9.80445892e-02],\n",
       "         [-2.24322081e-04, -1.24433137e-01,  7.27484375e-02,\n",
       "           1.34686038e-01,  1.24197260e-01],\n",
       "         [-5.50700724e-02,  1.17170289e-01, -7.52175823e-02,\n",
       "           1.67217031e-01, -9.22553241e-03],\n",
       "         [-1.43343851e-01, -1.38132274e-02, -4.31227386e-02,\n",
       "          -1.37283564e-01, -7.80455098e-02]]],\n",
       "\n",
       "\n",
       "       [[[ 5.74410111e-02,  1.44505873e-01, -4.67240065e-02,\n",
       "          -1.33928180e-01, -1.91749647e-01],\n",
       "         [ 1.51849523e-01, -3.83433104e-02,  2.60744989e-02,\n",
       "           1.76609471e-01, -9.00160074e-02],\n",
       "         [ 6.12121671e-02,  8.24834853e-02, -1.15738206e-01,\n",
       "          -1.55541018e-01,  7.38514215e-02],\n",
       "         [-1.08294085e-01,  1.49117902e-01,  1.10817984e-01,\n",
       "          -1.99782237e-01,  4.32096720e-02],\n",
       "         [-5.47849834e-02, -7.38947690e-02, -1.89765647e-01,\n",
       "          -4.83129919e-02, -1.30747914e-01]]],\n",
       "\n",
       "\n",
       "       [[[ 1.69915929e-01,  4.05262262e-02,  2.91284919e-03,\n",
       "          -1.27388805e-01,  1.36035681e-02],\n",
       "         [-7.54546151e-02,  3.45195234e-02,  1.77497402e-01,\n",
       "           9.12097842e-02,  6.17387891e-03],\n",
       "         [ 6.16431236e-03, -2.71734744e-02,  8.45486075e-02,\n",
       "          -7.69998059e-02,  1.00617066e-01],\n",
       "         [ 1.57610670e-01, -1.55090690e-01,  9.79259610e-03,\n",
       "           5.17623574e-02,  2.03720331e-02],\n",
       "         [-1.53617457e-01, -1.39693663e-01, -1.92148283e-01,\n",
       "          -1.31625324e-01,  1.15258738e-01]]],\n",
       "\n",
       "\n",
       "       [[[-8.36825371e-02,  1.74013272e-01,  8.79990608e-02,\n",
       "          -8.28937814e-02,  1.14479378e-01],\n",
       "         [ 1.74209401e-01,  1.90712348e-01, -6.36344701e-02,\n",
       "           1.16485909e-01,  3.00162584e-02],\n",
       "         [ 1.74202606e-01, -1.19438343e-01, -1.71478614e-01,\n",
       "          -8.04706141e-02, -1.13364749e-01],\n",
       "         [-2.06975490e-02, -3.84323299e-03, -1.80301115e-01,\n",
       "           1.76482499e-02,  1.67356804e-01],\n",
       "         [-4.16715592e-02,  1.82397172e-01,  1.06494501e-01,\n",
       "           1.86483189e-01,  1.85829893e-01]]],\n",
       "\n",
       "\n",
       "       [[[-1.42165571e-01,  1.46181181e-01,  1.68492302e-01,\n",
       "           1.95756301e-01,  7.85081536e-02],\n",
       "         [ 1.90395698e-01, -1.72712520e-01,  1.22106776e-01,\n",
       "          -2.27815360e-02,  1.38239399e-01],\n",
       "         [-1.97268084e-01,  4.86315489e-02,  1.32061347e-01,\n",
       "           1.45098343e-01, -1.22849755e-01],\n",
       "         [ 1.71067268e-02,  1.87763110e-01, -9.14011225e-02,\n",
       "          -1.47388145e-01,  1.09380886e-01],\n",
       "         [-1.54085279e-01, -1.55157417e-01,  1.54507235e-01,\n",
       "          -1.00588083e-01,  1.06525019e-01]]],\n",
       "\n",
       "\n",
       "       [[[-1.56557843e-01, -1.49891540e-01, -1.58510521e-01,\n",
       "          -1.95425779e-01,  1.55122921e-01],\n",
       "         [-1.86197266e-01,  4.94154692e-02,  9.77890044e-02,\n",
       "           1.75860927e-01, -4.86082137e-02],\n",
       "         [-1.14031531e-01,  1.24787703e-01, -1.28693759e-01,\n",
       "           5.86426109e-02,  1.23646215e-01],\n",
       "         [ 1.71474084e-01,  1.38604447e-01,  7.53290802e-02,\n",
       "          -1.59664005e-01,  1.82755604e-01],\n",
       "         [ 4.28258926e-02,  1.64232001e-01,  3.71038914e-05,\n",
       "          -2.12092400e-02, -1.16684079e-01]]],\n",
       "\n",
       "\n",
       "       [[[-8.51699859e-02,  1.81879744e-01, -1.78296730e-01,\n",
       "           1.08056352e-01,  8.16516578e-03],\n",
       "         [-9.39181373e-02,  1.13456115e-01,  1.95828781e-01,\n",
       "           6.29510134e-02,  4.22739089e-02],\n",
       "         [ 7.02195019e-02, -1.94152743e-01,  7.12272972e-02,\n",
       "          -1.61242649e-01, -1.57563686e-01],\n",
       "         [ 6.93312436e-02,  4.80325520e-03,  5.58420569e-02,\n",
       "           1.33101687e-01,  1.69046506e-01],\n",
       "         [ 8.14690739e-02, -1.23071887e-01, -1.82972237e-01,\n",
       "           7.94012398e-02,  5.45235425e-02]]],\n",
       "\n",
       "\n",
       "       [[[ 1.21290192e-01, -1.25348091e-01,  5.99644333e-02,\n",
       "          -9.66131240e-02,  1.63726494e-01],\n",
       "         [-2.18293667e-02, -1.52683690e-01,  1.99810192e-01,\n",
       "          -1.27265841e-01,  1.86323538e-01],\n",
       "         [-3.75601500e-02,  1.72356620e-01,  3.04826498e-02,\n",
       "          -4.91446704e-02, -1.29244059e-01],\n",
       "         [-3.57042551e-02, -1.55003279e-01,  8.60526413e-02,\n",
       "           1.42519936e-01, -1.07068442e-01],\n",
       "         [-1.38653830e-01, -1.03681758e-01,  2.41940916e-02,\n",
       "           1.60122707e-01, -9.24522430e-02]]]], dtype=float32)"
      ]
     },
     "execution_count": 13,
     "metadata": {},
     "output_type": "execute_result"
    }
   ],
   "source": [
    "weight = weight.detach().cpu().numpy()\n",
    "weight"
   ]
  },
  {
   "cell_type": "code",
   "execution_count": 14,
   "metadata": {},
   "outputs": [
    {
     "data": {
      "text/plain": [
       "<matplotlib.colorbar.Colorbar at 0x7f5c82e82b10>"
      ]
     },
     "execution_count": 14,
     "metadata": {},
     "output_type": "execute_result"
    },
    {
     "data": {
      "image/png": "[encoded data removed]",
      "text/plain": [
       "<Figure size 432x288 with 2 Axes>"
      ]
     },
     "metadata": {
      "needs_background": "light"
     },
     "output_type": "display_data"
    }
   ],
   "source": [
    "plt.imshow(weight[0, 0, :, :], 'jet')\n",
    "plt.colorbar()"
   ]
  },
  {
   "cell_type": "markdown",
   "metadata": {},
   "source": [
    "- output 시각화 준비를 위해 numpy화"
   ]
  },
  {
   "cell_type": "code",
   "execution_count": 15,
   "metadata": {},
   "outputs": [],
   "source": [
    "output_data = layer(image.to(device))"
   ]
  },
  {
   "cell_type": "code",
   "execution_count": 16,
   "metadata": {},
   "outputs": [],
   "source": [
    "output_data = output_data.data"
   ]
  },
  {
   "cell_type": "code",
   "execution_count": 17,
   "metadata": {},
   "outputs": [],
   "source": [
    "output= output_data.cpu().numpy()"
   ]
  },
  {
   "cell_type": "code",
   "execution_count": 18,
   "metadata": {},
   "outputs": [
    {
     "data": {
      "text/plain": [
       "(1, 20, 24, 24)"
      ]
     },
     "execution_count": 18,
     "metadata": {},
     "output_type": "execute_result"
    }
   ],
   "source": [
    "output.shape"
   ]
  },
  {
   "cell_type": "markdown",
   "metadata": {},
   "source": [
    "- Input으로 들어간 이미지 numpy화 "
   ]
  },
  {
   "cell_type": "code",
   "execution_count": 19,
   "metadata": {},
   "outputs": [
    {
     "data": {
      "text/plain": [
       "(1, 1, 28, 28)"
      ]
     },
     "execution_count": 19,
     "metadata": {},
     "output_type": "execute_result"
    }
   ],
   "source": [
    "image_arr = image.numpy()\n",
    "image_arr.shape"
   ]
  },
  {
   "cell_type": "code",
   "execution_count": 20,
   "metadata": {},
   "outputs": [
    {
     "data": {
      "text/plain": [
       "<matplotlib.image.AxesImage at 0x7f5c82d83390>"
      ]
     },
     "execution_count": 20,
     "metadata": {},
     "output_type": "execute_result"
    },
    {
     "data": {
      "image/png": "[encoded data removed]",
      "text/plain": [
       "<Figure size 1080x2160 with 3 Axes>"
      ]
     },
     "metadata": {
      "needs_background": "light"
     },
     "output_type": "display_data"
    }
   ],
   "source": [
    "plt.figure(figsize=(15, 30))\n",
    "plt.subplot(131)\n",
    "plt.title('input')\n",
    "plt.imshow(np.squeeze(image_arr), 'gray')\n",
    "\n",
    "plt.subplot(132)\n",
    "plt.title(\"weight\")\n",
    "plt.imshow(weight[0, 0, :, :], 'jet')\n",
    "\n",
    "plt.subplot(133)\n",
    "plt.title('output')\n",
    "plt.imshow(output[0, 0, :, :], 'gray')"
   ]
  },
  {
   "cell_type": "markdown",
   "metadata": {},
   "source": [
    "### Pooling"
   ]
  },
  {
   "cell_type": "markdown",
   "metadata": {},
   "source": [
    "input을 먼저 앞에 넣고, 뒤에 kernel 사이즈와 stride를 순서대로 넣음"
   ]
  },
  {
   "cell_type": "code",
   "execution_count": 21,
   "metadata": {},
   "outputs": [
    {
     "data": {
      "text/plain": [
       "torch.Size([1, 1, 28, 28])"
      ]
     },
     "execution_count": 21,
     "metadata": {},
     "output_type": "execute_result"
    }
   ],
   "source": [
    "image.shape"
   ]
  },
  {
   "cell_type": "code",
   "execution_count": 22,
   "metadata": {},
   "outputs": [
    {
     "data": {
      "text/plain": [
       "torch.Size([1, 1, 14, 14])"
      ]
     },
     "execution_count": 22,
     "metadata": {},
     "output_type": "execute_result"
    }
   ],
   "source": [
    "pool = F.max_pool2d(image, 2, 2)\n",
    "pool.shape"
   ]
  },
  {
   "cell_type": "markdown",
   "metadata": {},
   "source": [
    "- MaxPool Layer는 weight가 없기 때문에 바로 numpy()가 가능"
   ]
  },
  {
   "cell_type": "code",
   "execution_count": 23,
   "metadata": {},
   "outputs": [
    {
     "data": {
      "text/plain": [
       "(1, 1, 14, 14)"
      ]
     },
     "execution_count": 23,
     "metadata": {},
     "output_type": "execute_result"
    }
   ],
   "source": [
    "pool_arr = pool.numpy()\n",
    "pool_arr.shape"
   ]
  },
  {
   "cell_type": "code",
   "execution_count": 24,
   "metadata": {},
   "outputs": [
    {
     "data": {
      "text/plain": [
       "torch.Size([1, 1, 28, 28])"
      ]
     },
     "execution_count": 24,
     "metadata": {},
     "output_type": "execute_result"
    }
   ],
   "source": [
    "image.shape"
   ]
  },
  {
   "cell_type": "code",
   "execution_count": 25,
   "metadata": {},
   "outputs": [
    {
     "data": {
      "text/plain": [
       "<matplotlib.image.AxesImage at 0x7f5c80d68a50>"
      ]
     },
     "execution_count": 25,
     "metadata": {},
     "output_type": "execute_result"
    },
    {
     "data": {
      "image/png": "[encoded data removed]",
      "text/plain": [
       "<Figure size 720x1080 with 2 Axes>"
      ]
     },
     "metadata": {
      "needs_background": "light"
     },
     "output_type": "display_data"
    }
   ],
   "source": [
    "plt.figure(figsize=(10, 15))\n",
    "plt.subplot(121)\n",
    "plt.title('input')\n",
    "plt.imshow(np.squeeze(image_arr), 'gray')\n",
    "\n",
    "plt.subplot(122)\n",
    "plt.title('output')\n",
    "plt.imshow(np.squeeze(pool_arr), 'gray')"
   ]
  },
  {
   "cell_type": "markdown",
   "metadata": {},
   "source": [
    "### Linear"
   ]
  },
  {
   "cell_type": "markdown",
   "metadata": {},
   "source": [
    "nn.Linear는 2d가 아닌 1d만 들어가기 때문에 .view() 1D로 펼쳐줘야함"
   ]
  },
  {
   "cell_type": "code",
   "execution_count": 26,
   "metadata": {},
   "outputs": [
    {
     "data": {
      "text/plain": [
       "torch.Size([1, 1, 28, 28])"
      ]
     },
     "execution_count": 26,
     "metadata": {},
     "output_type": "execute_result"
    }
   ],
   "source": [
    "image.shape"
   ]
  },
  {
   "cell_type": "code",
   "execution_count": 27,
   "metadata": {},
   "outputs": [
    {
     "data": {
      "text/plain": [
       "torch.Size([1, 784])"
      ]
     },
     "execution_count": 27,
     "metadata": {},
     "output_type": "execute_result"
    }
   ],
   "source": [
    "flatten = image.view(1, 28 * 28)\n",
    "flatten.shape"
   ]
  },
  {
   "cell_type": "code",
   "execution_count": 28,
   "metadata": {},
   "outputs": [
    {
     "data": {
      "text/plain": [
       "torch.Size([1, 10])"
      ]
     },
     "execution_count": 28,
     "metadata": {},
     "output_type": "execute_result"
    }
   ],
   "source": [
    "lin = nn.Linear(784, 10)(flatten)\n",
    "lin.shape"
   ]
  },
  {
   "cell_type": "code",
   "execution_count": 29,
   "metadata": {},
   "outputs": [
    {
     "data": {
      "text/plain": [
       "tensor([[-0.1337, -0.2347, -0.1447,  0.1962,  0.0928,  0.0582, -0.0382, -0.2526,\n",
       "          0.1013,  0.3348]], grad_fn=<AddmmBackward>)"
      ]
     },
     "execution_count": 29,
     "metadata": {},
     "output_type": "execute_result"
    }
   ],
   "source": [
    "lin"
   ]
  },
  {
   "cell_type": "code",
   "execution_count": 30,
   "metadata": {},
   "outputs": [
    {
     "data": {
      "text/plain": [
       "<matplotlib.image.AxesImage at 0x7f5c8033da90>"
      ]
     },
     "execution_count": 30,
     "metadata": {},
     "output_type": "execute_result"
    },
    {
     "data": {
      "image/png": "[encoded data removed]",
      "text/plain": [
       "<Figure size 432x288 with 1 Axes>"
      ]
     },
     "metadata": {
      "needs_background": "light"
     },
     "output_type": "display_data"
    }
   ],
   "source": [
    "plt.imshow(lin.detach().cpu().numpy(), 'jet')"
   ]
  },
  {
   "cell_type": "markdown",
   "metadata": {},
   "source": [
    "### Softmax"
   ]
  },
  {
   "cell_type": "markdown",
   "metadata": {},
   "source": [
    "결과를 numpy로 꺼내기 위해선 weight가 담긴 Linear에 weight를 꺼줘야함"
   ]
  },
  {
   "cell_type": "code",
   "execution_count": 31,
   "metadata": {},
   "outputs": [],
   "source": [
    "with torch.no_grad():\n",
    "    flatten = image.view(1, 28 * 28)\n",
    "    lin = nn.Linear(784, 10)(flatten)\n",
    "    softmax = F.softmax(lin, dim=1)"
   ]
  },
  {
   "cell_type": "code",
   "execution_count": 32,
   "metadata": {},
   "outputs": [
    {
     "data": {
      "text/plain": [
       "tensor([[0.1252, 0.0849, 0.0830, 0.0890, 0.1138, 0.1024, 0.0933, 0.1078, 0.1145,\n",
       "         0.0861]])"
      ]
     },
     "execution_count": 32,
     "metadata": {},
     "output_type": "execute_result"
    }
   ],
   "source": [
    "softmax"
   ]
  },
  {
   "cell_type": "code",
   "execution_count": 35,
   "metadata": {},
   "outputs": [
    {
     "data": {
      "text/plain": [
       "0.99999994"
      ]
     },
     "execution_count": 35,
     "metadata": {},
     "output_type": "execute_result"
    }
   ],
   "source": [
    "np.sum(softmax.cpu().numpy())"
   ]
  },
  {
   "cell_type": "markdown",
   "metadata": {},
   "source": [
    "# Layer 쌓기"
   ]
  },
  {
   "cell_type": "markdown",
   "metadata": {},
   "source": [
    "예제 출처: https://pytorch.org/tutorials/beginner/pytorch_with_examples.html#id23"
   ]
  },
  {
   "cell_type": "markdown",
   "metadata": {},
   "source": [
    "nn 과 nn.functional의 차이점\n",
    "- nn은 학습 파라미터가 담긴 것 \n",
    "- nn.functional은 학습 파라미터가 없는 것이라 생각하면 간단"
   ]
  },
  {
   "cell_type": "code",
   "execution_count": 42,
   "metadata": {},
   "outputs": [],
   "source": [
    "class Net(nn.Module):\n",
    "    def __init__(self):\n",
    "        super(Net, self).__init__()\n",
    "        self.conv1 = nn.Conv2d(1, 20, 5, 1)\n",
    "        self.conv2 = nn.Conv2d(20, 50, 5, 1)\n",
    "        self.fc1 = nn.Linear(4 * 4 * 50, 500)\n",
    "        self.fc2 = nn.Linear(500, 10)\n",
    "        \n",
    "    def forward(self, x):\n",
    "        # Feature extraction\n",
    "        x = F.relu(self.conv1(x))\n",
    "        x = F.max_pool2d(x, 2, 2)\n",
    "        x = F.relu(self.conv2(x))\n",
    "        x = F.max_pool2d(x, 2, 2)\n",
    "        \n",
    "#         print(x.shape)\n",
    "        # Fully connected (classification)\n",
    "        x = x.view(-1, 50 * 4* 4)\n",
    "        x = F.relu(self.fc1(x))\n",
    "        x = self.fc2(x)\n",
    "        return F.log_softmax(x, dim=1)"
   ]
  },
  {
   "cell_type": "markdown",
   "metadata": {},
   "source": [
    "- Image를 Model에 넣어서 결과 확인"
   ]
  },
  {
   "cell_type": "code",
   "execution_count": 43,
   "metadata": {},
   "outputs": [],
   "source": [
    "model = Net()"
   ]
  },
  {
   "cell_type": "code",
   "execution_count": 44,
   "metadata": {},
   "outputs": [
    {
     "data": {
      "text/plain": [
       "tensor([[-2.2808, -2.2426, -2.3590, -2.3537, -2.2787, -2.2300, -2.2831, -2.3256,\n",
       "         -2.3258, -2.3566]], grad_fn=<LogSoftmaxBackward>)"
      ]
     },
     "execution_count": 44,
     "metadata": {},
     "output_type": "execute_result"
    }
   ],
   "source": [
    "model.forward(image)"
   ]
  },
  {
   "cell_type": "code",
   "execution_count": 46,
   "metadata": {},
   "outputs": [
    {
     "data": {
      "text/plain": [
       "Conv2d(1, 20, kernel_size=(5, 5), stride=(1, 1))"
      ]
     },
     "execution_count": 46,
     "metadata": {},
     "output_type": "execute_result"
    }
   ],
   "source": [
    "model.conv1"
   ]
  }
 ],
 "metadata": {
  "kernelspec": {
   "display_name": "Python 3",
   "language": "python",
   "name": "python3"
  },
  "language_info": {
   "codemirror_mode": {
    "name": "ipython",
    "version": 3
   },
   "file_extension": ".py",
   "mimetype": "text/x-python",
   "name": "python",
   "nbconvert_exporter": "python",
   "pygments_lexer": "ipython3",
   "version": "3.7.4"
  }
 },
 "nbformat": 4,
 "nbformat_minor": 2
}
