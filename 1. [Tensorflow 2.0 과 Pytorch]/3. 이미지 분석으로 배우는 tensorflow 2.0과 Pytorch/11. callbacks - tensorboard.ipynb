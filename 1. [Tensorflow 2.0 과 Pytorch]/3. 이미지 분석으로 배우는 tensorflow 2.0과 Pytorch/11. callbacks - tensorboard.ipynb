{
 "cells": [
  {
   "cell_type": "markdown",
   "metadata": {},
   "source": [
    "# TensorFlow 2.0"
   ]
  },
  {
   "cell_type": "code",
   "execution_count": 1,
   "metadata": {},
   "outputs": [],
   "source": [
    "import os\n",
    "from glob import glob\n",
    "from datetime import datetime\n",
    "\n",
    "import numpy as np\n",
    "\n",
    "import tensorflow as tf\n",
    "from tensorflow.keras import layers\n",
    "\n",
    "from tensorflow.keras import datasets \n",
    "\n",
    "import matplotlib.pyplot as plt\n",
    "\n",
    "%load_ext tensorboard\n",
    "%matplotlib inline"
   ]
  },
  {
   "cell_type": "markdown",
   "metadata": {},
   "source": [
    "## Hyperparameter Tunning"
   ]
  },
  {
   "cell_type": "code",
   "execution_count": 2,
   "metadata": {},
   "outputs": [],
   "source": [
    "num_epochs = 100\n",
    "batch_size = 32\n",
    "\n",
    "learning_rate = 0.001\n",
    "\n",
    "dropout_rate = 0.5\n",
    "\n",
    "input_shape = (32, 32, 3)\n",
    "num_classes = 10"
   ]
  },
  {
   "cell_type": "markdown",
   "metadata": {},
   "source": [
    "## Build Model"
   ]
  },
  {
   "cell_type": "code",
   "execution_count": 3,
   "metadata": {},
   "outputs": [],
   "source": [
    "inputs = layers.Input(input_shape)\n",
    "\n",
    "net = layers.Conv2D(32, (3, 3), padding='SAME')(inputs)\n",
    "net = layers.Activation('relu')(net)\n",
    "net = layers.Conv2D(32, (3, 3), padding='SAME')(net)\n",
    "net = layers.Activation('relu')(net)\n",
    "net = layers.MaxPooling2D(pool_size=(2, 2))(net)\n",
    "net = layers.Dropout(dropout_rate)(net)\n",
    "\n",
    "net = layers.Conv2D(64, (3, 3), padding='SAME')(net)\n",
    "net = layers.Activation('relu')(net)\n",
    "net = layers.Conv2D(64, (3, 3), padding='SAME')(net)\n",
    "net = layers.Activation('relu')(net)\n",
    "net = layers.MaxPooling2D(pool_size=(2, 2))(net)\n",
    "net = layers.Dropout(dropout_rate)(net)\n",
    "\n",
    "net = layers.Flatten()(net)\n",
    "net = layers.Dense(512)(net)\n",
    "net = layers.Activation('relu')(net)\n",
    "net = layers.Dropout(dropout_rate)(net)\n",
    "net = layers.Dense(num_classes)(net)\n",
    "net = layers.Activation('softmax')(net)\n",
    "\n",
    "model = tf.keras.Model(inputs=inputs, outputs=net, name='Basic_CNN')"
   ]
  },
  {
   "cell_type": "code",
   "execution_count": 4,
   "metadata": {},
   "outputs": [],
   "source": [
    "# Model is the full model w/o custom layers\n",
    "model.compile(optimizer=tf.keras.optimizers.Adam(learning_rate),  # Optimization\n",
    "              loss='sparse_categorical_crossentropy',  # Loss Function \n",
    "              metrics=['accuracy'])  # Metrics / Accuracy"
   ]
  },
  {
   "cell_type": "markdown",
   "metadata": {},
   "source": [
    "# Data Preprocess"
   ]
  },
  {
   "cell_type": "code",
   "execution_count": 5,
   "metadata": {},
   "outputs": [],
   "source": [
    "train_paths = glob('./dataset/cifar/train/*.png')[:100]\n",
    "test_paths = glob('./dataset/cifar/test/*.png')[:100]"
   ]
  },
  {
   "cell_type": "code",
   "execution_count": 6,
   "metadata": {},
   "outputs": [],
   "source": [
    "def get_class_name(path):\n",
    "    return path.split('_')[-1].replace('.png', '')"
   ]
  },
  {
   "cell_type": "code",
   "execution_count": 7,
   "metadata": {},
   "outputs": [],
   "source": [
    "train_labels = [get_class_name(path) for path in train_paths]\n",
    "class_names = np.unique(train_labels)"
   ]
  },
  {
   "cell_type": "code",
   "execution_count": 8,
   "metadata": {},
   "outputs": [],
   "source": [
    "def get_label(path):\n",
    "    fname = tf.strings.split(path, '_')[-1]\n",
    "    lbl_name = tf.strings.regex_replace(fname, '.png', '')\n",
    "    onehot = tf.cast(lbl_name == class_names, tf.uint8)\n",
    "    return tf.argmax(onehot)  # 이번에는 onehot이 아닌 label 번호로"
   ]
  },
  {
   "cell_type": "code",
   "execution_count": 9,
   "metadata": {},
   "outputs": [],
   "source": [
    "def load_image_label(path):\n",
    "    gfile = tf.io.read_file(path)\n",
    "    image = tf.io.decode_image(gfile)\n",
    "    image = tf.cast(image, tf.float32) / 255.  # rescale\n",
    "    \n",
    "    label = get_label(path)\n",
    "    return image, label"
   ]
  },
  {
   "cell_type": "code",
   "execution_count": 10,
   "metadata": {},
   "outputs": [],
   "source": [
    "def image_preprocess(image, label):\n",
    "    image = tf.image.random_flip_up_down(image)\n",
    "    image = tf.image.random_flip_left_right(image)\n",
    "    return image, label"
   ]
  },
  {
   "cell_type": "code",
   "execution_count": 11,
   "metadata": {},
   "outputs": [],
   "source": [
    "AUTOTUNE = tf.data.experimental.AUTOTUNE"
   ]
  },
  {
   "cell_type": "code",
   "execution_count": 12,
   "metadata": {
    "scrolled": false
   },
   "outputs": [],
   "source": [
    "train_dataset = tf.data.Dataset.from_tensor_slices(train_paths)\n",
    "train_dataset = train_dataset.map(load_image_label, num_parallel_calls=AUTOTUNE)\n",
    "train_dataset = train_dataset.map(image_preprocess, num_parallel_calls=AUTOTUNE)\n",
    "train_dataset = train_dataset.batch(batch_size)\n",
    "train_dataset = train_dataset.shuffle(buffer_size=len(train_paths))\n",
    "train_dataset = train_dataset.repeat()"
   ]
  },
  {
   "cell_type": "code",
   "execution_count": 13,
   "metadata": {},
   "outputs": [],
   "source": [
    "test_dataset = tf.data.Dataset.from_tensor_slices(test_paths)\n",
    "test_dataset = test_dataset.map(load_image_label, num_parallel_calls=AUTOTUNE)\n",
    "test_dataset = test_dataset.batch(batch_size)\n",
    "test_dataset = test_dataset.repeat()"
   ]
  },
  {
   "cell_type": "markdown",
   "metadata": {},
   "source": [
    "# Callbacks"
   ]
  },
  {
   "cell_type": "code",
   "execution_count": 14,
   "metadata": {},
   "outputs": [
    {
     "data": {
      "text/plain": [
       "datetime.datetime(2020, 5, 13, 11, 6, 31, 564617)"
      ]
     },
     "execution_count": 14,
     "metadata": {},
     "output_type": "execute_result"
    }
   ],
   "source": [
    "start_time = datetime.now()\n",
    "start_time"
   ]
  },
  {
   "cell_type": "code",
   "execution_count": 15,
   "metadata": {},
   "outputs": [
    {
     "data": {
      "text/plain": [
       "'20200513-110631'"
      ]
     },
     "execution_count": 15,
     "metadata": {},
     "output_type": "execute_result"
    }
   ],
   "source": [
    "datetime.now().strftime(\"%Y%m%d-%H%M%S\")"
   ]
  },
  {
   "cell_type": "code",
   "execution_count": 16,
   "metadata": {},
   "outputs": [],
   "source": [
    "logdir = os.path.join('logs', datetime.now().strftime('%Y%m%d-%H%M%S'))"
   ]
  },
  {
   "cell_type": "code",
   "execution_count": 17,
   "metadata": {},
   "outputs": [],
   "source": [
    "tensorboard = tf.keras.callbacks.TensorBoard(\n",
    "    log_dir=logdir,\n",
    "    write_graph=True,\n",
    "    write_images=True,\n",
    "    histogram_freq=1\n",
    ")"
   ]
  },
  {
   "cell_type": "code",
   "execution_count": null,
   "metadata": {},
   "outputs": [],
   "source": [
    "%tensorboard --logdir logs --host 10.178.144.232 --port 8010"
   ]
  },
  {
   "cell_type": "markdown",
   "metadata": {},
   "source": [
    "#### tensorboard example\n",
    "![tensorboard](image/tensorboard.jpg)"
   ]
  },
  {
   "cell_type": "markdown",
   "metadata": {},
   "source": [
    "## Training"
   ]
  },
  {
   "cell_type": "code",
   "execution_count": 18,
   "metadata": {},
   "outputs": [
    {
     "name": "stdout",
     "output_type": "stream",
     "text": [
      "Epoch 1/100\n",
      "3/3 [==============================] - 2s 543ms/step - loss: 2.3072 - accuracy: 0.0735 - val_loss: 2.3416 - val_accuracy: 0.0729\n",
      "Epoch 2/100\n",
      "3/3 [==============================] - 0s 122ms/step - loss: 2.2794 - accuracy: 0.1912 - val_loss: 2.3171 - val_accuracy: 0.1562\n",
      "Epoch 3/100\n",
      "3/3 [==============================] - 0s 122ms/step - loss: 2.4307 - accuracy: 0.0625 - val_loss: 2.3009 - val_accuracy: 0.1354\n",
      "Epoch 4/100\n",
      "3/3 [==============================] - 0s 118ms/step - loss: 2.2445 - accuracy: 0.0882 - val_loss: 2.2978 - val_accuracy: 0.1042\n",
      "Epoch 5/100\n",
      "3/3 [==============================] - 0s 122ms/step - loss: 2.2751 - accuracy: 0.1354 - val_loss: 2.3019 - val_accuracy: 0.0729\n",
      "Epoch 6/100\n",
      "3/3 [==============================] - 0s 118ms/step - loss: 2.1942 - accuracy: 0.1750 - val_loss: 2.3115 - val_accuracy: 0.1250\n",
      "Epoch 7/100\n",
      "3/3 [==============================] - 0s 119ms/step - loss: 2.1658 - accuracy: 0.2206 - val_loss: 2.3414 - val_accuracy: 0.0729\n",
      "Epoch 8/100\n",
      "3/3 [==============================] - 0s 119ms/step - loss: 2.3184 - accuracy: 0.1771 - val_loss: 2.3570 - val_accuracy: 0.0729\n",
      "Epoch 9/100\n",
      "3/3 [==============================] - 0s 122ms/step - loss: 2.2639 - accuracy: 0.1324 - val_loss: 2.3178 - val_accuracy: 0.0729\n",
      "Epoch 10/100\n",
      "3/3 [==============================] - 0s 121ms/step - loss: 2.1942 - accuracy: 0.1471 - val_loss: 2.3109 - val_accuracy: 0.1771\n",
      "Epoch 11/100\n",
      "3/3 [==============================] - 0s 119ms/step - loss: 2.2125 - accuracy: 0.2188 - val_loss: 2.3049 - val_accuracy: 0.1875\n",
      "Epoch 12/100\n",
      "3/3 [==============================] - 0s 120ms/step - loss: 2.2300 - accuracy: 0.2059 - val_loss: 2.2977 - val_accuracy: 0.1771\n",
      "Epoch 13/100\n",
      "3/3 [==============================] - 0s 120ms/step - loss: 2.2052 - accuracy: 0.1354 - val_loss: 2.2938 - val_accuracy: 0.1979\n",
      "Epoch 14/100\n",
      "3/3 [==============================] - 0s 120ms/step - loss: 2.0804 - accuracy: 0.2206 - val_loss: 2.3012 - val_accuracy: 0.1667\n",
      "Epoch 15/100\n",
      "3/3 [==============================] - 0s 121ms/step - loss: 2.0963 - accuracy: 0.0882 - val_loss: 2.3596 - val_accuracy: 0.2083\n",
      "Epoch 16/100\n",
      "3/3 [==============================] - 0s 119ms/step - loss: 2.0126 - accuracy: 0.2500 - val_loss: 2.3807 - val_accuracy: 0.1667\n",
      "Epoch 17/100\n",
      "3/3 [==============================] - 0s 121ms/step - loss: 1.9219 - accuracy: 0.1618 - val_loss: 2.3934 - val_accuracy: 0.1875\n",
      "Epoch 18/100\n",
      "3/3 [==============================] - 0s 124ms/step - loss: 2.0587 - accuracy: 0.2083 - val_loss: 2.3666 - val_accuracy: 0.2188\n",
      "Epoch 19/100\n",
      "3/3 [==============================] - 0s 123ms/step - loss: 1.8910 - accuracy: 0.1912 - val_loss: 2.3167 - val_accuracy: 0.1875\n",
      "Epoch 20/100\n",
      "3/3 [==============================] - 0s 120ms/step - loss: 2.0582 - accuracy: 0.1471 - val_loss: 2.3276 - val_accuracy: 0.2188\n",
      "Epoch 21/100\n",
      "3/3 [==============================] - 0s 123ms/step - loss: 1.9855 - accuracy: 0.2500 - val_loss: 2.3021 - val_accuracy: 0.2083\n",
      "Epoch 22/100\n",
      "3/3 [==============================] - 0s 122ms/step - loss: 2.0739 - accuracy: 0.2206 - val_loss: 2.2889 - val_accuracy: 0.1667\n",
      "Epoch 23/100\n",
      "3/3 [==============================] - 0s 123ms/step - loss: 1.9792 - accuracy: 0.1912 - val_loss: 2.2746 - val_accuracy: 0.1979\n",
      "Epoch 24/100\n",
      "3/3 [==============================] - 0s 126ms/step - loss: 2.1069 - accuracy: 0.1667 - val_loss: 2.2366 - val_accuracy: 0.1875\n",
      "Epoch 25/100\n",
      "3/3 [==============================] - 0s 121ms/step - loss: 1.8081 - accuracy: 0.2794 - val_loss: 2.2324 - val_accuracy: 0.1771\n",
      "Epoch 26/100\n",
      "3/3 [==============================] - 0s 121ms/step - loss: 1.9484 - accuracy: 0.2500 - val_loss: 2.2474 - val_accuracy: 0.1562\n",
      "Epoch 27/100\n",
      "3/3 [==============================] - 0s 126ms/step - loss: 2.0228 - accuracy: 0.2917 - val_loss: 2.2637 - val_accuracy: 0.2083\n",
      "Epoch 28/100\n",
      "3/3 [==============================] - 0s 119ms/step - loss: 1.8734 - accuracy: 0.2059 - val_loss: 2.2385 - val_accuracy: 0.1667\n",
      "Epoch 29/100\n",
      "3/3 [==============================] - 0s 121ms/step - loss: 1.8046 - accuracy: 0.3382 - val_loss: 2.2499 - val_accuracy: 0.1667\n",
      "Epoch 30/100\n",
      "3/3 [==============================] - 0s 129ms/step - loss: 2.0774 - accuracy: 0.2917 - val_loss: 2.2782 - val_accuracy: 0.2604\n",
      "Epoch 31/100\n",
      "3/3 [==============================] - 0s 123ms/step - loss: 1.8478 - accuracy: 0.1765 - val_loss: 2.1874 - val_accuracy: 0.2083\n",
      "Epoch 32/100\n",
      "3/3 [==============================] - 0s 118ms/step - loss: 1.8216 - accuracy: 0.1618 - val_loss: 2.1974 - val_accuracy: 0.1875\n",
      "Epoch 33/100\n",
      "3/3 [==============================] - 0s 122ms/step - loss: 1.7969 - accuracy: 0.3235 - val_loss: 2.2305 - val_accuracy: 0.1875\n",
      "Epoch 34/100\n",
      "3/3 [==============================] - 0s 121ms/step - loss: 1.9905 - accuracy: 0.2396 - val_loss: 2.2325 - val_accuracy: 0.1979\n",
      "Epoch 35/100\n",
      "3/3 [==============================] - 0s 121ms/step - loss: 1.4354 - accuracy: 0.3000 - val_loss: 2.2601 - val_accuracy: 0.1667\n",
      "Epoch 36/100\n",
      "3/3 [==============================] - 0s 125ms/step - loss: 2.1232 - accuracy: 0.2083 - val_loss: 2.3596 - val_accuracy: 0.1875\n",
      "Epoch 37/100\n",
      "3/3 [==============================] - 0s 126ms/step - loss: 1.8334 - accuracy: 0.2794 - val_loss: 2.2041 - val_accuracy: 0.2083\n",
      "Epoch 38/100\n",
      "3/3 [==============================] - 0s 124ms/step - loss: 1.9390 - accuracy: 0.2604 - val_loss: 2.1839 - val_accuracy: 0.1875\n",
      "Epoch 39/100\n",
      "3/3 [==============================] - 0s 125ms/step - loss: 1.5694 - accuracy: 0.3500 - val_loss: 2.2070 - val_accuracy: 0.1875\n",
      "Epoch 40/100\n",
      "3/3 [==============================] - 0s 119ms/step - loss: 1.8755 - accuracy: 0.3229 - val_loss: 2.3212 - val_accuracy: 0.1771\n",
      "Epoch 41/100\n",
      "3/3 [==============================] - 0s 124ms/step - loss: 1.7357 - accuracy: 0.2794 - val_loss: 2.2839 - val_accuracy: 0.1875\n",
      "Epoch 42/100\n",
      "3/3 [==============================] - 0s 122ms/step - loss: 1.8812 - accuracy: 0.2917 - val_loss: 2.2246 - val_accuracy: 0.2188\n",
      "Epoch 43/100\n",
      "3/3 [==============================] - 0s 123ms/step - loss: 1.6973 - accuracy: 0.2647 - val_loss: 2.2984 - val_accuracy: 0.2292\n",
      "Epoch 44/100\n",
      "3/3 [==============================] - 0s 119ms/step - loss: 1.7947 - accuracy: 0.3088 - val_loss: 2.1903 - val_accuracy: 0.1979\n",
      "Epoch 45/100\n",
      "3/3 [==============================] - 0s 121ms/step - loss: 1.6655 - accuracy: 0.2647 - val_loss: 2.2426 - val_accuracy: 0.1458\n",
      "Epoch 46/100\n",
      "3/3 [==============================] - 0s 121ms/step - loss: 1.9211 - accuracy: 0.2917 - val_loss: 2.2965 - val_accuracy: 0.1771\n",
      "Epoch 47/100\n",
      "3/3 [==============================] - 0s 121ms/step - loss: 1.7313 - accuracy: 0.2941 - val_loss: 2.1843 - val_accuracy: 0.1458\n",
      "Epoch 48/100\n",
      "3/3 [==============================] - 0s 119ms/step - loss: 1.7952 - accuracy: 0.3824 - val_loss: 2.1920 - val_accuracy: 0.1354\n",
      "Epoch 49/100\n",
      "3/3 [==============================] - 0s 123ms/step - loss: 1.6708 - accuracy: 0.3676 - val_loss: 2.2342 - val_accuracy: 0.1875\n",
      "Epoch 50/100\n",
      "3/3 [==============================] - 0s 126ms/step - loss: 1.6128 - accuracy: 0.3235 - val_loss: 2.3634 - val_accuracy: 0.1771\n",
      "Epoch 51/100\n",
      "3/3 [==============================] - 0s 130ms/step - loss: 1.5509 - accuracy: 0.3088 - val_loss: 2.3105 - val_accuracy: 0.1771\n",
      "Epoch 52/100\n",
      "3/3 [==============================] - 0s 123ms/step - loss: 1.8760 - accuracy: 0.3438 - val_loss: 2.2656 - val_accuracy: 0.2083\n",
      "Epoch 53/100\n",
      "3/3 [==============================] - 0s 128ms/step - loss: 1.5081 - accuracy: 0.3382 - val_loss: 2.2759 - val_accuracy: 0.2188\n",
      "Epoch 54/100\n",
      "3/3 [==============================] - 0s 120ms/step - loss: 1.3546 - accuracy: 0.5000 - val_loss: 2.2107 - val_accuracy: 0.2292\n",
      "Epoch 55/100\n",
      "3/3 [==============================] - 0s 128ms/step - loss: 1.3352 - accuracy: 0.4853 - val_loss: 2.2417 - val_accuracy: 0.2083\n",
      "Epoch 56/100\n",
      "3/3 [==============================] - 0s 123ms/step - loss: 1.5876 - accuracy: 0.4167 - val_loss: 2.3245 - val_accuracy: 0.2188\n",
      "Epoch 57/100\n",
      "3/3 [==============================] - 0s 123ms/step - loss: 1.3133 - accuracy: 0.4853 - val_loss: 2.3343 - val_accuracy: 0.2083\n",
      "Epoch 58/100\n",
      "3/3 [==============================] - 0s 123ms/step - loss: 1.2504 - accuracy: 0.4559 - val_loss: 2.4416 - val_accuracy: 0.1875\n"
     ]
    },
    {
     "name": "stdout",
     "output_type": "stream",
     "text": [
      "Epoch 59/100\n",
      "3/3 [==============================] - 0s 124ms/step - loss: 1.4331 - accuracy: 0.4706 - val_loss: 2.4079 - val_accuracy: 0.1771\n",
      "Epoch 60/100\n",
      "3/3 [==============================] - 0s 126ms/step - loss: 1.5946 - accuracy: 0.4271 - val_loss: 2.3990 - val_accuracy: 0.1771\n",
      "Epoch 61/100\n",
      "3/3 [==============================] - 0s 123ms/step - loss: 1.2726 - accuracy: 0.4559 - val_loss: 2.2904 - val_accuracy: 0.1979\n",
      "Epoch 62/100\n",
      "3/3 [==============================] - 0s 120ms/step - loss: 1.4513 - accuracy: 0.3676 - val_loss: 2.3197 - val_accuracy: 0.1979\n",
      "Epoch 63/100\n",
      "3/3 [==============================] - 0s 121ms/step - loss: 1.3666 - accuracy: 0.5104 - val_loss: 2.4416 - val_accuracy: 0.1875\n",
      "Epoch 64/100\n",
      "3/3 [==============================] - 0s 119ms/step - loss: 1.2929 - accuracy: 0.5294 - val_loss: 2.5333 - val_accuracy: 0.1771\n",
      "Epoch 65/100\n",
      "3/3 [==============================] - 0s 125ms/step - loss: 1.1284 - accuracy: 0.5147 - val_loss: 2.4423 - val_accuracy: 0.1875\n",
      "Epoch 66/100\n",
      "3/3 [==============================] - 0s 123ms/step - loss: 1.1306 - accuracy: 0.5147 - val_loss: 2.4888 - val_accuracy: 0.1458\n",
      "Epoch 67/100\n",
      "3/3 [==============================] - 0s 121ms/step - loss: 1.3033 - accuracy: 0.5000 - val_loss: 2.5419 - val_accuracy: 0.1771\n",
      "Epoch 68/100\n",
      "3/3 [==============================] - 0s 118ms/step - loss: 1.3209 - accuracy: 0.4559 - val_loss: 2.4146 - val_accuracy: 0.1771\n",
      "Epoch 69/100\n",
      "3/3 [==============================] - 0s 121ms/step - loss: 1.5879 - accuracy: 0.4062 - val_loss: 2.2953 - val_accuracy: 0.2188\n",
      "Epoch 70/100\n",
      "3/3 [==============================] - 0s 122ms/step - loss: 1.1364 - accuracy: 0.4853 - val_loss: 2.3937 - val_accuracy: 0.2292\n",
      "Epoch 71/100\n",
      "3/3 [==============================] - 0s 120ms/step - loss: 1.3229 - accuracy: 0.3971 - val_loss: 2.4562 - val_accuracy: 0.2188\n",
      "Epoch 72/100\n",
      "3/3 [==============================] - 0s 118ms/step - loss: 1.2692 - accuracy: 0.4706 - val_loss: 2.4560 - val_accuracy: 0.1875\n",
      "Epoch 73/100\n",
      "3/3 [==============================] - 0s 122ms/step - loss: 1.1229 - accuracy: 0.5735 - val_loss: 2.4999 - val_accuracy: 0.1875\n",
      "Epoch 74/100\n",
      "3/3 [==============================] - 0s 124ms/step - loss: 1.3766 - accuracy: 0.4792 - val_loss: 2.5481 - val_accuracy: 0.1979\n",
      "Epoch 75/100\n",
      "3/3 [==============================] - 0s 123ms/step - loss: 0.6765 - accuracy: 0.6500 - val_loss: 2.6657 - val_accuracy: 0.2396\n",
      "Epoch 76/100\n",
      "3/3 [==============================] - 0s 122ms/step - loss: 1.5156 - accuracy: 0.4792 - val_loss: 2.7583 - val_accuracy: 0.2083\n",
      "Epoch 77/100\n",
      "3/3 [==============================] - 0s 120ms/step - loss: 1.0267 - accuracy: 0.5441 - val_loss: 2.5041 - val_accuracy: 0.2188\n",
      "Epoch 78/100\n",
      "3/3 [==============================] - 0s 122ms/step - loss: 0.9127 - accuracy: 0.6029 - val_loss: 2.5342 - val_accuracy: 0.2083\n",
      "Epoch 79/100\n",
      "3/3 [==============================] - 0s 124ms/step - loss: 1.2291 - accuracy: 0.5104 - val_loss: 2.7795 - val_accuracy: 0.1875\n",
      "Epoch 80/100\n",
      "3/3 [==============================] - 0s 119ms/step - loss: 0.9129 - accuracy: 0.6765 - val_loss: 2.5862 - val_accuracy: 0.2188\n",
      "Epoch 81/100\n",
      "3/3 [==============================] - 0s 120ms/step - loss: 1.0579 - accuracy: 0.6354 - val_loss: 2.4904 - val_accuracy: 0.2083\n",
      "Epoch 82/100\n",
      "3/3 [==============================] - 0s 122ms/step - loss: 0.8741 - accuracy: 0.6471 - val_loss: 2.6131 - val_accuracy: 0.1979\n",
      "Epoch 83/100\n",
      "3/3 [==============================] - 0s 123ms/step - loss: 0.7889 - accuracy: 0.6471 - val_loss: 2.7930 - val_accuracy: 0.2188\n",
      "Epoch 84/100\n",
      "3/3 [==============================] - 0s 130ms/step - loss: 0.7221 - accuracy: 0.6324 - val_loss: 3.0635 - val_accuracy: 0.1667\n",
      "Epoch 85/100\n",
      "3/3 [==============================] - 0s 120ms/step - loss: 0.9821 - accuracy: 0.5735 - val_loss: 3.1674 - val_accuracy: 0.2604\n",
      "Epoch 86/100\n",
      "3/3 [==============================] - 0s 124ms/step - loss: 1.1633 - accuracy: 0.6042 - val_loss: 2.7310 - val_accuracy: 0.2083\n",
      "Epoch 87/100\n",
      "3/3 [==============================] - 0s 122ms/step - loss: 1.0078 - accuracy: 0.6029 - val_loss: 2.5985 - val_accuracy: 0.1979\n",
      "Epoch 88/100\n",
      "3/3 [==============================] - 0s 118ms/step - loss: 1.0556 - accuracy: 0.5294 - val_loss: 2.4195 - val_accuracy: 0.1979\n",
      "Epoch 89/100\n",
      "3/3 [==============================] - 0s 121ms/step - loss: 0.8591 - accuracy: 0.6765 - val_loss: 2.6107 - val_accuracy: 0.2812\n",
      "Epoch 90/100\n",
      "3/3 [==============================] - 0s 120ms/step - loss: 1.1324 - accuracy: 0.6042 - val_loss: 2.4441 - val_accuracy: 0.2708\n",
      "Epoch 91/100\n",
      "3/3 [==============================] - 0s 122ms/step - loss: 0.8318 - accuracy: 0.6471 - val_loss: 2.3532 - val_accuracy: 0.2396\n",
      "Epoch 92/100\n",
      "3/3 [==============================] - 0s 126ms/step - loss: 0.7476 - accuracy: 0.6765 - val_loss: 2.6173 - val_accuracy: 0.1875\n",
      "Epoch 93/100\n",
      "3/3 [==============================] - 0s 121ms/step - loss: 1.1242 - accuracy: 0.5625 - val_loss: 2.5760 - val_accuracy: 0.2292\n",
      "Epoch 94/100\n",
      "3/3 [==============================] - 0s 123ms/step - loss: 0.7764 - accuracy: 0.6471 - val_loss: 2.7127 - val_accuracy: 0.2396\n",
      "Epoch 95/100\n",
      "3/3 [==============================] - 0s 129ms/step - loss: 0.7053 - accuracy: 0.6618 - val_loss: 3.2163 - val_accuracy: 0.1979\n",
      "Epoch 96/100\n",
      "3/3 [==============================] - 0s 125ms/step - loss: 0.8177 - accuracy: 0.5882 - val_loss: 2.8618 - val_accuracy: 0.1979\n",
      "Epoch 97/100\n",
      "3/3 [==============================] - 0s 124ms/step - loss: 0.9371 - accuracy: 0.7188 - val_loss: 2.9450 - val_accuracy: 0.2396\n",
      "Epoch 98/100\n",
      "3/3 [==============================] - 0s 126ms/step - loss: 0.4167 - accuracy: 0.7250 - val_loss: 3.0678 - val_accuracy: 0.2292\n",
      "Epoch 99/100\n",
      "3/3 [==============================] - 0s 126ms/step - loss: 0.8030 - accuracy: 0.7292 - val_loss: 2.7843 - val_accuracy: 0.2188\n",
      "Epoch 100/100\n",
      "3/3 [==============================] - 0s 126ms/step - loss: 0.6433 - accuracy: 0.6765 - val_loss: 2.8108 - val_accuracy: 0.2188\n"
     ]
    },
    {
     "data": {
      "text/plain": [
       "<tensorflow.python.keras.callbacks.History at 0x7f072030ef90>"
      ]
     },
     "execution_count": 18,
     "metadata": {},
     "output_type": "execute_result"
    }
   ],
   "source": [
    "steps_per_epoch = len(train_paths) // batch_size\n",
    "validation_steps = len(test_paths) // batch_size\n",
    "\n",
    "model.fit_generator(\n",
    "    train_dataset,\n",
    "    steps_per_epoch=steps_per_epoch,\n",
    "    validation_data=test_dataset,\n",
    "    validation_steps=validation_steps,\n",
    "    epochs=num_epochs,\n",
    "    callbacks=[tensorboard]\n",
    ")"
   ]
  },
  {
   "cell_type": "markdown",
   "metadata": {},
   "source": [
    "### LambdaCallback"
   ]
  },
  {
   "cell_type": "code",
   "execution_count": 19,
   "metadata": {},
   "outputs": [],
   "source": [
    "# https://www.tensorflow.org/tensorboard/r2/image_summaries\n",
    "\n",
    "import sklearn.metrics\n",
    "import itertools\n",
    "import io\n",
    "\n",
    "file_writer_cm = tf.summary.create_file_writer(logdir + '/cm')\n",
    "\n",
    "def plot_to_image(figure):\n",
    "    \"\"\"Converts the matplotlib plot specified by 'figure' to a PNG image and\n",
    "    returns it. The supplied figure is closed and inaccessible after this call.\"\"\"\n",
    "    # Save the plot to a PNG in memory.\n",
    "    buf = io.BytesIO()\n",
    "    plt.savefig(buf, format='png')\n",
    "    # Closing the figure prevents it from being displayed directly inside\n",
    "    # the notebook.\n",
    "    plt.close(figure)\n",
    "    buf.seek(0)\n",
    "    # Convert PNG buffer to TF image\n",
    "    image = tf.image.decode_png(buf.getvalue(), channels=4)\n",
    "    # Add the batch dimension\n",
    "    image = tf.expand_dims(image, 0)\n",
    "    return image\n",
    "\n",
    "\n",
    "def plot_confusion_matrix(cm, class_names):\n",
    "    \"\"\"\n",
    "    Returns a matplotlib figure containing the plotted confusion matrix.\n",
    "\n",
    "    Args:\n",
    "    cm (array, shape = [n, n]): a confusion matrix of integer classes\n",
    "    class_names (array, shape = [n]): String names of the integer classes\n",
    "    \"\"\"\n",
    "    figure = plt.figure(figsize=(8, 8))\n",
    "    plt.imshow(cm, interpolation='nearest', cmap=plt.cm.Blues)\n",
    "    plt.title(\"Confusion matrix\")\n",
    "    plt.colorbar()\n",
    "    tick_marks = np.arange(len(class_names))\n",
    "    plt.xticks(tick_marks, class_names, rotation=45)\n",
    "    plt.yticks(tick_marks, class_names)\n",
    "\n",
    "    # Normalize the confusion matrix.\n",
    "    cm = np.around(cm.astype('float') / cm.sum(axis=1)[:, np.newaxis], decimals=2)\n",
    "\n",
    "    # Use white text if squares are dark; otherwise black.\n",
    "    threshold = cm.max() / 2.\n",
    "    for i, j in itertools.product(range(cm.shape[0]), range(cm.shape[1])):\n",
    "        color = \"white\" if cm[i, j] > threshold else \"black\"\n",
    "        plt.text(j, i, cm[i, j], horizontalalignment=\"center\", color=color)\n",
    "\n",
    "    plt.tight_layout()\n",
    "    plt.ylabel('True label')\n",
    "    plt.xlabel('Predicted label')\n",
    "    return figure"
   ]
  },
  {
   "cell_type": "code",
   "execution_count": 20,
   "metadata": {},
   "outputs": [],
   "source": [
    "test_images, test_labels = next(iter(test_dataset))  # Confusion Matrix 그릴 때 필요한 Test Image\n",
    "\n",
    "\n",
    "def log_confusion_matrix(epoch, logs):\n",
    "    # Use the model to predict the values from the validation dataset.\n",
    "    test_pred_raw = model.predict(test_images)\n",
    "    test_pred = np.argmax(test_pred_raw, axis=1)\n",
    "\n",
    "    # Calculate the confusion matrix.\n",
    "    cm = sklearn.metrics.confusion_matrix(test_labels, test_pred)\n",
    "    # Log the confusion matrix as an image summary.\n",
    "    figure = plot_confusion_matrix(cm, class_names=class_names)\n",
    "    cm_image = plot_to_image(figure)\n",
    "\n",
    "    # Log the confusion matrix as an image summary.\n",
    "    with file_writer_cm.as_default():\n",
    "        tf.summary.image(\"Confusion Matrix\", cm_image, step=epoch)"
   ]
  },
  {
   "cell_type": "code",
   "execution_count": 21,
   "metadata": {},
   "outputs": [],
   "source": [
    "# Define the per-epoch callback\n",
    "cm_callback = tf.keras.callbacks.LambdaCallback(on_epoch_end=log_confusion_matrix)"
   ]
  },
  {
   "cell_type": "code",
   "execution_count": 22,
   "metadata": {},
   "outputs": [
    {
     "name": "stdout",
     "output_type": "stream",
     "text": [
      "Epoch 1/100\n",
      "3/3 [==============================] - 1s 237ms/step - loss: 0.5365 - accuracy: 0.8382 - val_loss: 2.8721 - val_accuracy: 0.1875\n",
      "Epoch 2/100\n",
      "1/3 [=========>....................] - ETA: 0s - loss: 0.8038 - accuracy: 0.6562"
     ]
    },
    {
     "name": "stderr",
     "output_type": "stream",
     "text": [
      "/home/chanseok/anaconda3/lib/python3.7/site-packages/ipykernel_launcher.py:43: RuntimeWarning: invalid value encountered in true_divide\n"
     ]
    },
    {
     "name": "stdout",
     "output_type": "stream",
     "text": [
      "3/3 [==============================] - 1s 213ms/step - loss: 0.4697 - accuracy: 0.7794 - val_loss: 3.0744 - val_accuracy: 0.2083\n",
      "Epoch 3/100\n",
      "3/3 [==============================] - 1s 230ms/step - loss: 0.7693 - accuracy: 0.7292 - val_loss: 2.9743 - val_accuracy: 0.1771\n",
      "Epoch 4/100\n",
      "3/3 [==============================] - 1s 213ms/step - loss: 0.5093 - accuracy: 0.8088 - val_loss: 3.1558 - val_accuracy: 0.2188\n",
      "Epoch 5/100\n",
      "3/3 [==============================] - 1s 199ms/step - loss: 0.5584 - accuracy: 0.7647 - val_loss: 3.2521 - val_accuracy: 0.2188\n",
      "Epoch 6/100\n",
      "3/3 [==============================] - 1s 203ms/step - loss: 0.3261 - accuracy: 0.8824 - val_loss: 3.2900 - val_accuracy: 0.1979\n",
      "Epoch 7/100\n",
      "3/3 [==============================] - 1s 206ms/step - loss: 0.7332 - accuracy: 0.7708 - val_loss: 3.2225 - val_accuracy: 0.2396\n",
      "Epoch 8/100\n",
      "3/3 [==============================] - 1s 208ms/step - loss: 0.4707 - accuracy: 0.7941 - val_loss: 3.1992 - val_accuracy: 0.2292\n"
     ]
    },
    {
     "name": "stderr",
     "output_type": "stream",
     "text": [
      "/home/chanseok/anaconda3/lib/python3.7/site-packages/ipykernel_launcher.py:43: RuntimeWarning: invalid value encountered in true_divide\n"
     ]
    },
    {
     "name": "stdout",
     "output_type": "stream",
     "text": [
      "Epoch 9/100\n",
      "\r",
      "1/3 [=========>....................] - ETA: 0s - loss: 0.1826 - accuracy: 1.0000"
     ]
    },
    {
     "name": "stderr",
     "output_type": "stream",
     "text": [
      "/home/chanseok/anaconda3/lib/python3.7/site-packages/ipykernel_launcher.py:43: RuntimeWarning: invalid value encountered in true_divide\n"
     ]
    },
    {
     "name": "stdout",
     "output_type": "stream",
     "text": [
      "3/3 [==============================] - 1s 217ms/step - loss: 0.4596 - accuracy: 0.7647 - val_loss: 3.3160 - val_accuracy: 0.2500\n",
      "Epoch 10/100\n",
      "1/3 [=========>....................] - ETA: 0s - loss: 0.5139 - accuracy: 0.8125"
     ]
    },
    {
     "name": "stderr",
     "output_type": "stream",
     "text": [
      "/home/chanseok/anaconda3/lib/python3.7/site-packages/ipykernel_launcher.py:43: RuntimeWarning: invalid value encountered in true_divide\n"
     ]
    },
    {
     "name": "stdout",
     "output_type": "stream",
     "text": [
      "3/3 [==============================] - 1s 239ms/step - loss: 0.3954 - accuracy: 0.8088 - val_loss: 3.2490 - val_accuracy: 0.1875\n",
      "Epoch 11/100\n",
      "3/3 [==============================] - 1s 200ms/step - loss: 0.6922 - accuracy: 0.7604 - val_loss: 3.1764 - val_accuracy: 0.2188\n",
      "Epoch 12/100\n",
      "3/3 [==============================] - 1s 198ms/step - loss: 0.4866 - accuracy: 0.7647 - val_loss: 3.2514 - val_accuracy: 0.2083\n",
      "Epoch 13/100\n",
      "3/3 [==============================] - 1s 202ms/step - loss: 0.4741 - accuracy: 0.8088 - val_loss: 3.1755 - val_accuracy: 0.2188\n",
      "Epoch 14/100\n",
      "3/3 [==============================] - 1s 200ms/step - loss: 0.3914 - accuracy: 0.7647 - val_loss: 3.3090 - val_accuracy: 0.1875\n",
      "Epoch 15/100\n",
      "3/3 [==============================] - 1s 207ms/step - loss: 0.4733 - accuracy: 0.7794 - val_loss: 3.5062 - val_accuracy: 0.2500\n",
      "Epoch 16/100\n",
      "3/3 [==============================] - 1s 197ms/step - loss: 0.6422 - accuracy: 0.7917 - val_loss: 3.2457 - val_accuracy: 0.2500\n",
      "Epoch 17/100\n",
      "3/3 [==============================] - 1s 199ms/step - loss: 0.2987 - accuracy: 0.8824 - val_loss: 3.3245 - val_accuracy: 0.2083\n",
      "Epoch 18/100\n",
      "3/3 [==============================] - 1s 218ms/step - loss: 0.4802 - accuracy: 0.8382 - val_loss: 3.4431 - val_accuracy: 0.2396\n"
     ]
    },
    {
     "name": "stderr",
     "output_type": "stream",
     "text": [
      "/home/chanseok/anaconda3/lib/python3.7/site-packages/ipykernel_launcher.py:43: RuntimeWarning: invalid value encountered in true_divide\n"
     ]
    },
    {
     "name": "stdout",
     "output_type": "stream",
     "text": [
      "Epoch 19/100\n",
      "3/3 [==============================] - 1s 202ms/step - loss: 0.4597 - accuracy: 0.8646 - val_loss: 3.5006 - val_accuracy: 0.2500\n",
      "Epoch 20/100\n",
      "3/3 [==============================] - 1s 232ms/step - loss: 0.3604 - accuracy: 0.8382 - val_loss: 3.2754 - val_accuracy: 0.2604\n",
      "Epoch 21/100\n",
      "3/3 [==============================] - 1s 210ms/step - loss: 0.5250 - accuracy: 0.8333 - val_loss: 3.3544 - val_accuracy: 0.2708\n",
      "Epoch 22/100\n",
      "1/3 [=========>....................] - ETA: 0s - loss: 0.0560 - accuracy: 1.0000"
     ]
    },
    {
     "name": "stderr",
     "output_type": "stream",
     "text": [
      "/home/chanseok/anaconda3/lib/python3.7/site-packages/ipykernel_launcher.py:43: RuntimeWarning: invalid value encountered in true_divide\n"
     ]
    },
    {
     "name": "stdout",
     "output_type": "stream",
     "text": [
      "3/3 [==============================] - 1s 207ms/step - loss: 0.2902 - accuracy: 0.8676 - val_loss: 3.7704 - val_accuracy: 0.2604\n",
      "Epoch 23/100\n",
      "1/3 [=========>....................] - ETA: 0s - loss: 0.6185 - accuracy: 0.8125"
     ]
    },
    {
     "name": "stderr",
     "output_type": "stream",
     "text": [
      "/home/chanseok/anaconda3/lib/python3.7/site-packages/ipykernel_launcher.py:43: RuntimeWarning: invalid value encountered in true_divide\n"
     ]
    },
    {
     "name": "stdout",
     "output_type": "stream",
     "text": [
      "3/3 [==============================] - 1s 210ms/step - loss: 0.3113 - accuracy: 0.8500 - val_loss: 4.1338 - val_accuracy: 0.2188\n",
      "Epoch 24/100\n",
      "3/3 [==============================] - 1s 209ms/step - loss: 0.5187 - accuracy: 0.8125 - val_loss: 3.7245 - val_accuracy: 0.2292\n"
     ]
    },
    {
     "name": "stderr",
     "output_type": "stream",
     "text": [
      "/home/chanseok/anaconda3/lib/python3.7/site-packages/ipykernel_launcher.py:43: RuntimeWarning: invalid value encountered in true_divide\n"
     ]
    },
    {
     "name": "stdout",
     "output_type": "stream",
     "text": [
      "Epoch 25/100\n",
      "3/3 [==============================] - 1s 202ms/step - loss: 0.3029 - accuracy: 0.9118 - val_loss: 3.7308 - val_accuracy: 0.2292\n",
      "Epoch 26/100\n",
      "1/3 [=========>....................] - ETA: 0s - loss: 0.7785 - accuracy: 0.7188"
     ]
    },
    {
     "name": "stderr",
     "output_type": "stream",
     "text": [
      "/home/chanseok/anaconda3/lib/python3.7/site-packages/ipykernel_launcher.py:43: RuntimeWarning: invalid value encountered in true_divide\n"
     ]
    },
    {
     "name": "stdout",
     "output_type": "stream",
     "text": [
      "3/3 [==============================] - 1s 220ms/step - loss: 0.4391 - accuracy: 0.7794 - val_loss: 3.7591 - val_accuracy: 0.2396\n",
      "Epoch 27/100\n",
      "1/3 [=========>....................] - ETA: 0s - loss: 0.5567 - accuracy: 0.8750"
     ]
    },
    {
     "name": "stderr",
     "output_type": "stream",
     "text": [
      "/home/chanseok/anaconda3/lib/python3.7/site-packages/ipykernel_launcher.py:43: RuntimeWarning: invalid value encountered in true_divide\n"
     ]
    },
    {
     "name": "stdout",
     "output_type": "stream",
     "text": [
      "3/3 [==============================] - 1s 219ms/step - loss: 0.3126 - accuracy: 0.9265 - val_loss: 3.6350 - val_accuracy: 0.2292\n",
      "Epoch 28/100\n",
      "1/3 [=========>....................] - ETA: 0s - loss: 0.5924 - accuracy: 0.7500"
     ]
    },
    {
     "name": "stderr",
     "output_type": "stream",
     "text": [
      "/home/chanseok/anaconda3/lib/python3.7/site-packages/ipykernel_launcher.py:43: RuntimeWarning: invalid value encountered in true_divide\n"
     ]
    },
    {
     "name": "stdout",
     "output_type": "stream",
     "text": [
      "3/3 [==============================] - 1s 204ms/step - loss: 0.5229 - accuracy: 0.8021 - val_loss: 3.5797 - val_accuracy: 0.3021\n",
      "Epoch 29/100\n",
      "1/3 [=========>....................] - ETA: 0s - loss: 0.3199 - accuracy: 0.9062"
     ]
    },
    {
     "name": "stderr",
     "output_type": "stream",
     "text": [
      "/home/chanseok/anaconda3/lib/python3.7/site-packages/ipykernel_launcher.py:43: RuntimeWarning: invalid value encountered in true_divide\n"
     ]
    },
    {
     "name": "stdout",
     "output_type": "stream",
     "text": [
      "3/3 [==============================] - 1s 210ms/step - loss: 0.3909 - accuracy: 0.8750 - val_loss: 3.7470 - val_accuracy: 0.2396\n",
      "Epoch 30/100\n",
      "1/3 [=========>....................] - ETA: 0s - loss: 0.0873 - accuracy: 1.0000"
     ]
    },
    {
     "name": "stderr",
     "output_type": "stream",
     "text": [
      "/home/chanseok/anaconda3/lib/python3.7/site-packages/ipykernel_launcher.py:43: RuntimeWarning: invalid value encountered in true_divide\n"
     ]
    },
    {
     "name": "stdout",
     "output_type": "stream",
     "text": [
      "3/3 [==============================] - 1s 206ms/step - loss: 0.2239 - accuracy: 0.9118 - val_loss: 3.5172 - val_accuracy: 0.2812\n",
      "Epoch 31/100\n",
      "1/3 [=========>....................] - ETA: 0s - loss: 0.1180 - accuracy: 1.0000"
     ]
    },
    {
     "name": "stderr",
     "output_type": "stream",
     "text": [
      "/home/chanseok/anaconda3/lib/python3.7/site-packages/ipykernel_launcher.py:43: RuntimeWarning: invalid value encountered in true_divide\n"
     ]
    },
    {
     "name": "stdout",
     "output_type": "stream",
     "text": [
      "3/3 [==============================] - 1s 245ms/step - loss: 0.2862 - accuracy: 0.8971 - val_loss: 3.6930 - val_accuracy: 0.2812\n",
      "Epoch 32/100\n",
      "1/3 [=========>....................] - ETA: 0s - loss: 0.5837 - accuracy: 0.8438"
     ]
    },
    {
     "name": "stderr",
     "output_type": "stream",
     "text": [
      "/home/chanseok/anaconda3/lib/python3.7/site-packages/ipykernel_launcher.py:43: RuntimeWarning: invalid value encountered in true_divide\n"
     ]
    },
    {
     "name": "stdout",
     "output_type": "stream",
     "text": [
      "3/3 [==============================] - 1s 204ms/step - loss: 0.3506 - accuracy: 0.8529 - val_loss: 4.2790 - val_accuracy: 0.2292\n",
      "Epoch 33/100\n",
      "3/3 [==============================] - 1s 206ms/step - loss: 0.2701 - accuracy: 0.8676 - val_loss: 4.0041 - val_accuracy: 0.2083\n",
      "Epoch 34/100\n",
      "1/3 [=========>....................] - ETA: 0s - loss: 0.5130 - accuracy: 0.7812"
     ]
    },
    {
     "name": "stderr",
     "output_type": "stream",
     "text": [
      "/home/chanseok/anaconda3/lib/python3.7/site-packages/ipykernel_launcher.py:43: RuntimeWarning: invalid value encountered in true_divide\n"
     ]
    },
    {
     "name": "stdout",
     "output_type": "stream",
     "text": [
      "3/3 [==============================] - 1s 203ms/step - loss: 0.3689 - accuracy: 0.8235 - val_loss: 4.0340 - val_accuracy: 0.2292\n",
      "Epoch 35/100\n",
      "3/3 [==============================] - 1s 203ms/step - loss: 0.4246 - accuracy: 0.8382 - val_loss: 4.7967 - val_accuracy: 0.1979\n",
      "Epoch 36/100\n",
      "3/3 [==============================] - 1s 205ms/step - loss: 0.6843 - accuracy: 0.7812 - val_loss: 3.9618 - val_accuracy: 0.2396\n"
     ]
    },
    {
     "name": "stderr",
     "output_type": "stream",
     "text": [
      "/home/chanseok/anaconda3/lib/python3.7/site-packages/ipykernel_launcher.py:43: RuntimeWarning: invalid value encountered in true_divide\n"
     ]
    },
    {
     "name": "stdout",
     "output_type": "stream",
     "text": [
      "Epoch 37/100\n",
      "3/3 [==============================] - 1s 211ms/step - loss: 0.3315 - accuracy: 0.8824 - val_loss: 3.8740 - val_accuracy: 0.1771\n",
      "Epoch 38/100\n",
      "1/3 [=========>....................] - ETA: 0s - loss: 0.6566 - accuracy: 0.7500"
     ]
    },
    {
     "name": "stderr",
     "output_type": "stream",
     "text": [
      "/home/chanseok/anaconda3/lib/python3.7/site-packages/ipykernel_launcher.py:43: RuntimeWarning: invalid value encountered in true_divide\n",
      "/home/chanseok/anaconda3/lib/python3.7/site-packages/ipykernel_launcher.py:43: RuntimeWarning: invalid value encountered in true_divide\n"
     ]
    },
    {
     "name": "stdout",
     "output_type": "stream",
     "text": [
      "3/3 [==============================] - 1s 209ms/step - loss: 0.4131 - accuracy: 0.8382 - val_loss: 3.9817 - val_accuracy: 0.1771\n",
      "Epoch 39/100\n",
      "1/3 [=========>....................] - ETA: 0s - loss: 0.3463 - accuracy: 0.8750"
     ]
    },
    {
     "name": "stderr",
     "output_type": "stream",
     "text": [
      "/home/chanseok/anaconda3/lib/python3.7/site-packages/ipykernel_launcher.py:43: RuntimeWarning: invalid value encountered in true_divide\n"
     ]
    },
    {
     "name": "stdout",
     "output_type": "stream",
     "text": [
      "3/3 [==============================] - 1s 207ms/step - loss: 0.4421 - accuracy: 0.8542 - val_loss: 3.5635 - val_accuracy: 0.2188\n",
      "Epoch 40/100\n",
      "3/3 [==============================] - 1s 194ms/step - loss: 0.1899 - accuracy: 0.9412 - val_loss: 3.3345 - val_accuracy: 0.2396\n",
      "Epoch 41/100\n",
      "3/3 [==============================] - 1s 197ms/step - loss: 0.3495 - accuracy: 0.8382 - val_loss: 3.3271 - val_accuracy: 0.2708\n",
      "Epoch 42/100\n",
      "3/3 [==============================] - 1s 202ms/step - loss: 0.4055 - accuracy: 0.8854 - val_loss: 3.5093 - val_accuracy: 0.2500\n",
      "Epoch 43/100\n",
      "3/3 [==============================] - 1s 199ms/step - loss: 0.1885 - accuracy: 0.9706 - val_loss: 3.7823 - val_accuracy: 0.2604\n",
      "Epoch 44/100\n",
      "3/3 [==============================] - 1s 203ms/step - loss: 0.3324 - accuracy: 0.8971 - val_loss: 3.9595 - val_accuracy: 0.2708\n",
      "Epoch 45/100\n",
      "3/3 [==============================] - 1s 251ms/step - loss: 0.1845 - accuracy: 0.9412 - val_loss: 4.2633 - val_accuracy: 0.2500\n",
      "Epoch 46/100\n",
      "3/3 [==============================] - 1s 206ms/step - loss: 0.2765 - accuracy: 0.8971 - val_loss: 4.1216 - val_accuracy: 0.2604\n",
      "Epoch 47/100\n",
      "3/3 [==============================] - 1s 198ms/step - loss: 0.2972 - accuracy: 0.9062 - val_loss: 4.3908 - val_accuracy: 0.2500\n",
      "Epoch 48/100\n",
      "3/3 [==============================] - 1s 199ms/step - loss: 0.1483 - accuracy: 0.9265 - val_loss: 4.8190 - val_accuracy: 0.2292\n",
      "Epoch 49/100\n",
      "3/3 [==============================] - 1s 198ms/step - loss: 0.1104 - accuracy: 0.9706 - val_loss: 4.9177 - val_accuracy: 0.2812\n",
      "Epoch 50/100\n",
      "3/3 [==============================] - 1s 203ms/step - loss: 0.3636 - accuracy: 0.9167 - val_loss: 4.6257 - val_accuracy: 0.2604\n",
      "Epoch 51/100\n",
      "1/3 [=========>....................] - ETA: 0s - loss: 0.1181 - accuracy: 1.0000"
     ]
    },
    {
     "name": "stderr",
     "output_type": "stream",
     "text": [
      "/home/chanseok/anaconda3/lib/python3.7/site-packages/ipykernel_launcher.py:43: RuntimeWarning: invalid value encountered in true_divide\n"
     ]
    },
    {
     "name": "stdout",
     "output_type": "stream",
     "text": [
      "3/3 [==============================] - 1s 206ms/step - loss: 0.2573 - accuracy: 0.8971 - val_loss: 4.5896 - val_accuracy: 0.2292\n",
      "Epoch 52/100\n",
      "1/3 [=========>....................] - ETA: 0s - loss: 0.1022 - accuracy: 1.0000"
     ]
    },
    {
     "name": "stderr",
     "output_type": "stream",
     "text": [
      "/home/chanseok/anaconda3/lib/python3.7/site-packages/ipykernel_launcher.py:43: RuntimeWarning: invalid value encountered in true_divide\n"
     ]
    },
    {
     "name": "stdout",
     "output_type": "stream",
     "text": [
      "3/3 [==============================] - 1s 203ms/step - loss: 0.1689 - accuracy: 0.9559 - val_loss: 4.5597 - val_accuracy: 0.2396\n",
      "Epoch 53/100\n",
      "1/3 [=========>....................] - ETA: 0s - loss: 0.1393 - accuracy: 0.9688"
     ]
    },
    {
     "name": "stderr",
     "output_type": "stream",
     "text": [
      "/home/chanseok/anaconda3/lib/python3.7/site-packages/ipykernel_launcher.py:43: RuntimeWarning: invalid value encountered in true_divide\n"
     ]
    },
    {
     "name": "stdout",
     "output_type": "stream",
     "text": [
      "3/3 [==============================] - 1s 207ms/step - loss: 0.1156 - accuracy: 0.9559 - val_loss: 4.5390 - val_accuracy: 0.2292\n",
      "Epoch 54/100\n",
      "1/3 [=========>....................] - ETA: 0s - loss: 0.2056 - accuracy: 0.9688"
     ]
    },
    {
     "name": "stderr",
     "output_type": "stream",
     "text": [
      "/home/chanseok/anaconda3/lib/python3.7/site-packages/ipykernel_launcher.py:43: RuntimeWarning: invalid value encountered in true_divide\n"
     ]
    },
    {
     "name": "stdout",
     "output_type": "stream",
     "text": [
      "3/3 [==============================] - 1s 206ms/step - loss: 0.1784 - accuracy: 0.9271 - val_loss: 4.7180 - val_accuracy: 0.2396\n",
      "Epoch 55/100\n",
      "3/3 [==============================] - 1s 199ms/step - loss: 0.0710 - accuracy: 0.9706 - val_loss: 4.8776 - val_accuracy: 0.2500\n",
      "Epoch 56/100\n",
      "1/3 [=========>....................] - ETA: 0s - loss: 0.6276 - accuracy: 0.7812"
     ]
    },
    {
     "name": "stderr",
     "output_type": "stream",
     "text": [
      "/home/chanseok/anaconda3/lib/python3.7/site-packages/ipykernel_launcher.py:43: RuntimeWarning: invalid value encountered in true_divide\n"
     ]
    },
    {
     "name": "stdout",
     "output_type": "stream",
     "text": [
      "3/3 [==============================] - 1s 204ms/step - loss: 0.2853 - accuracy: 0.8676 - val_loss: 4.7668 - val_accuracy: 0.2083\n",
      "Epoch 57/100\n",
      "1/3 [=========>....................] - ETA: 0s - loss: 0.0018 - accuracy: 1.0000"
     ]
    },
    {
     "name": "stderr",
     "output_type": "stream",
     "text": [
      "/home/chanseok/anaconda3/lib/python3.7/site-packages/ipykernel_launcher.py:43: RuntimeWarning: invalid value encountered in true_divide\n"
     ]
    },
    {
     "name": "stdout",
     "output_type": "stream",
     "text": [
      "3/3 [==============================] - 1s 206ms/step - loss: 0.2214 - accuracy: 0.9118 - val_loss: 4.5067 - val_accuracy: 0.2396\n",
      "Epoch 58/100\n",
      "1/3 [=========>....................] - ETA: 0s - loss: 0.1642 - accuracy: 0.9688"
     ]
    },
    {
     "name": "stderr",
     "output_type": "stream",
     "text": [
      "/home/chanseok/anaconda3/lib/python3.7/site-packages/ipykernel_launcher.py:43: RuntimeWarning: invalid value encountered in true_divide\n"
     ]
    },
    {
     "name": "stdout",
     "output_type": "stream",
     "text": [
      "3/3 [==============================] - 1s 208ms/step - loss: 0.2231 - accuracy: 0.9167 - val_loss: 4.4888 - val_accuracy: 0.2500\n",
      "Epoch 59/100\n",
      "3/3 [==============================] - 1s 205ms/step - loss: 0.1608 - accuracy: 0.9412 - val_loss: 5.0835 - val_accuracy: 0.2500\n"
     ]
    },
    {
     "name": "stderr",
     "output_type": "stream",
     "text": [
      "/home/chanseok/anaconda3/lib/python3.7/site-packages/ipykernel_launcher.py:43: RuntimeWarning: invalid value encountered in true_divide\n"
     ]
    },
    {
     "name": "stdout",
     "output_type": "stream",
     "text": [
      "Epoch 60/100\n",
      "3/3 [==============================] - 1s 207ms/step - loss: 0.2052 - accuracy: 0.8971 - val_loss: 5.3707 - val_accuracy: 0.2396\n",
      "Epoch 61/100\n",
      "3/3 [==============================] - 1s 200ms/step - loss: 0.2490 - accuracy: 0.8958 - val_loss: 4.9210 - val_accuracy: 0.2292\n",
      "Epoch 62/100\n",
      "3/3 [==============================] - 1s 262ms/step - loss: 0.3311 - accuracy: 0.8676 - val_loss: 4.0859 - val_accuracy: 0.2708\n",
      "Epoch 63/100\n",
      "3/3 [==============================] - 1s 200ms/step - loss: 0.2662 - accuracy: 0.9265 - val_loss: 3.9055 - val_accuracy: 0.2708\n",
      "Epoch 64/100\n",
      "3/3 [==============================] - 1s 206ms/step - loss: 0.2277 - accuracy: 0.8971 - val_loss: 4.2264 - val_accuracy: 0.2292\n",
      "Epoch 65/100\n",
      "3/3 [==============================] - 1s 206ms/step - loss: 0.5363 - accuracy: 0.9412 - val_loss: 4.1596 - val_accuracy: 0.2500\n",
      "Epoch 66/100\n",
      "3/3 [==============================] - 1s 205ms/step - loss: 0.2617 - accuracy: 0.8958 - val_loss: 4.1585 - val_accuracy: 0.2917\n",
      "Epoch 67/100\n",
      "3/3 [==============================] - 1s 201ms/step - loss: 0.2313 - accuracy: 0.8750 - val_loss: 4.1635 - val_accuracy: 0.2812\n",
      "Epoch 68/100\n",
      "3/3 [==============================] - 1s 202ms/step - loss: 0.4969 - accuracy: 0.8646 - val_loss: 4.0915 - val_accuracy: 0.2500\n",
      "Epoch 69/100\n",
      "3/3 [==============================] - 1s 199ms/step - loss: 0.3037 - accuracy: 0.8529 - val_loss: 4.0439 - val_accuracy: 0.2083\n",
      "Epoch 70/100\n",
      "3/3 [==============================] - 1s 200ms/step - loss: 0.2443 - accuracy: 0.8676 - val_loss: 3.9684 - val_accuracy: 0.3125\n",
      "Epoch 71/100\n",
      "3/3 [==============================] - 1s 203ms/step - loss: 0.3318 - accuracy: 0.8646 - val_loss: 3.9298 - val_accuracy: 0.2708\n",
      "Epoch 72/100\n",
      "3/3 [==============================] - 1s 202ms/step - loss: 0.2271 - accuracy: 0.9412 - val_loss: 3.8199 - val_accuracy: 0.2604\n",
      "Epoch 73/100\n",
      "3/3 [==============================] - 1s 206ms/step - loss: 0.2112 - accuracy: 0.8971 - val_loss: 3.8151 - val_accuracy: 0.3021\n",
      "Epoch 74/100\n",
      "3/3 [==============================] - 1s 205ms/step - loss: 0.2340 - accuracy: 0.9167 - val_loss: 3.9625 - val_accuracy: 0.2917\n",
      "Epoch 75/100\n",
      "3/3 [==============================] - 1s 217ms/step - loss: 0.1265 - accuracy: 0.9559 - val_loss: 4.1026 - val_accuracy: 0.2917\n",
      "Epoch 76/100\n",
      "3/3 [==============================] - 1s 211ms/step - loss: 0.1924 - accuracy: 0.9265 - val_loss: 4.1972 - val_accuracy: 0.2708\n",
      "Epoch 77/100\n",
      "3/3 [==============================] - 1s 212ms/step - loss: 0.1795 - accuracy: 0.9412 - val_loss: 4.2253 - val_accuracy: 0.2500\n",
      "Epoch 78/100\n",
      "3/3 [==============================] - 1s 206ms/step - loss: 0.1517 - accuracy: 0.9118 - val_loss: 4.0428 - val_accuracy: 0.3021\n",
      "Epoch 79/100\n",
      "3/3 [==============================] - 1s 203ms/step - loss: 0.1738 - accuracy: 0.9375 - val_loss: 4.0106 - val_accuracy: 0.2604\n",
      "Epoch 80/100\n",
      "3/3 [==============================] - 1s 200ms/step - loss: 0.1340 - accuracy: 0.9559 - val_loss: 4.1085 - val_accuracy: 0.2604\n",
      "Epoch 81/100\n",
      "3/3 [==============================] - 1s 203ms/step - loss: 0.0655 - accuracy: 0.9853 - val_loss: 4.1901 - val_accuracy: 0.2500\n",
      "Epoch 82/100\n",
      "3/3 [==============================] - 1s 202ms/step - loss: 0.2195 - accuracy: 0.9118 - val_loss: 4.3475 - val_accuracy: 0.2500\n",
      "Epoch 83/100\n",
      "3/3 [==============================] - 1s 216ms/step - loss: 0.1795 - accuracy: 0.9167 - val_loss: 4.3557 - val_accuracy: 0.2396\n",
      "Epoch 84/100\n",
      "3/3 [==============================] - 1s 202ms/step - loss: 0.0884 - accuracy: 0.9559 - val_loss: 4.2889 - val_accuracy: 0.2396\n",
      "Epoch 85/100\n",
      "3/3 [==============================] - 1s 298ms/step - loss: 0.1289 - accuracy: 0.9265 - val_loss: 4.2964 - val_accuracy: 0.2604\n",
      "Epoch 86/100\n",
      "3/3 [==============================] - 1s 201ms/step - loss: 0.0346 - accuracy: 1.0000 - val_loss: 4.5054 - val_accuracy: 0.2708\n",
      "Epoch 87/100\n",
      "3/3 [==============================] - 1s 214ms/step - loss: 0.0968 - accuracy: 0.9792 - val_loss: 4.6640 - val_accuracy: 0.2396\n",
      "Epoch 88/100\n",
      "3/3 [==============================] - 1s 206ms/step - loss: 0.0497 - accuracy: 1.0000 - val_loss: 4.9324 - val_accuracy: 0.2083\n",
      "Epoch 89/100\n",
      "3/3 [==============================] - 1s 207ms/step - loss: 0.1591 - accuracy: 0.9375 - val_loss: 5.0203 - val_accuracy: 0.1979\n",
      "Epoch 90/100\n",
      "3/3 [==============================] - 1s 200ms/step - loss: 0.0145 - accuracy: 1.0000 - val_loss: 4.8485 - val_accuracy: 0.2292\n",
      "Epoch 91/100\n",
      "3/3 [==============================] - 1s 205ms/step - loss: 0.0502 - accuracy: 0.9792 - val_loss: 4.8048 - val_accuracy: 0.2396\n",
      "Epoch 92/100\n",
      "3/3 [==============================] - 1s 210ms/step - loss: 0.1112 - accuracy: 0.9706 - val_loss: 4.8198 - val_accuracy: 0.2396\n",
      "Epoch 93/100\n",
      "3/3 [==============================] - 1s 207ms/step - loss: 0.0557 - accuracy: 0.9706 - val_loss: 4.9425 - val_accuracy: 0.2292\n",
      "Epoch 94/100\n",
      "3/3 [==============================] - 1s 202ms/step - loss: 0.0772 - accuracy: 0.9559 - val_loss: 5.1057 - val_accuracy: 0.2188\n",
      "Epoch 95/100\n",
      "3/3 [==============================] - 1s 205ms/step - loss: 0.0683 - accuracy: 0.9688 - val_loss: 5.2104 - val_accuracy: 0.2292\n",
      "Epoch 96/100\n",
      "3/3 [==============================] - 1s 197ms/step - loss: 0.0420 - accuracy: 0.9853 - val_loss: 5.3033 - val_accuracy: 0.2396\n",
      "Epoch 97/100\n",
      "3/3 [==============================] - 1s 199ms/step - loss: 0.0932 - accuracy: 0.9479 - val_loss: 5.1228 - val_accuracy: 0.2812\n",
      "Epoch 98/100\n",
      "3/3 [==============================] - 1s 222ms/step - loss: 0.0674 - accuracy: 0.9412 - val_loss: 5.0264 - val_accuracy: 0.2917\n",
      "Epoch 99/100\n",
      "1/3 [=========>....................] - ETA: 0s - loss: 0.1134 - accuracy: 0.9688"
     ]
    },
    {
     "name": "stderr",
     "output_type": "stream",
     "text": [
      "/home/chanseok/anaconda3/lib/python3.7/site-packages/ipykernel_launcher.py:43: RuntimeWarning: invalid value encountered in true_divide\n"
     ]
    },
    {
     "name": "stdout",
     "output_type": "stream",
     "text": [
      "3/3 [==============================] - 1s 212ms/step - loss: 0.0527 - accuracy: 0.9853 - val_loss: 5.2492 - val_accuracy: 0.2500\n",
      "Epoch 100/100\n",
      "1/3 [=========>....................] - ETA: 0s - loss: 0.0038 - accuracy: 1.0000"
     ]
    },
    {
     "name": "stderr",
     "output_type": "stream",
     "text": [
      "/home/chanseok/anaconda3/lib/python3.7/site-packages/ipykernel_launcher.py:43: RuntimeWarning: invalid value encountered in true_divide\n"
     ]
    },
    {
     "name": "stdout",
     "output_type": "stream",
     "text": [
      "\b\b\b\b\b\b\b\b\b\b\b\b\b\b\b\b\b\b\b\b\b\b\b\b\b\b\b\b\b\b\b\b\b\b\b\b\b\b\b\b\b\b\b\b\b\b\b\b\b\b\b\b\b\b\b\b\b\b\b\b\b\b\b\b\b\b\b\b\b\b\b\b\b\b\b\b\b\b\b\b\r",
      "3/3 [==============================] - 1s 209ms/step - loss: 0.0483 - accuracy: 0.9706 - val_loss: 5.4912 - val_accuracy: 0.2604\n"
     ]
    },
    {
     "data": {
      "text/plain": [
       "<tensorflow.python.keras.callbacks.History at 0x7f07c06b4090>"
      ]
     },
     "execution_count": 22,
     "metadata": {},
     "output_type": "execute_result"
    }
   ],
   "source": [
    "steps_per_epoch = len(train_paths) // batch_size\n",
    "validation_steps = len(test_paths) // batch_size\n",
    "\n",
    "model.fit_generator(\n",
    "    train_dataset,\n",
    "    steps_per_epoch=steps_per_epoch,\n",
    "    validation_data=test_dataset,\n",
    "    validation_steps=validation_steps,\n",
    "    epochs=num_epochs,\n",
    "    callbacks=[tensorboard, cm_callback]\n",
    ")"
   ]
  },
  {
   "cell_type": "markdown",
   "metadata": {},
   "source": [
    "## Expert"
   ]
  },
  {
   "cell_type": "code",
   "execution_count": 23,
   "metadata": {},
   "outputs": [],
   "source": [
    "loss_object = tf.keras.losses.SparseCategoricalCrossentropy()\n",
    "optimizer = tf.keras.optimizers.Adam()"
   ]
  },
  {
   "cell_type": "code",
   "execution_count": 24,
   "metadata": {},
   "outputs": [],
   "source": [
    "train_loss = tf.keras.metrics.Mean(name='train_loss')\n",
    "train_accuracy = tf.keras.metrics.SparseCategoricalAccuracy(name='train_accuracy')\n",
    "\n",
    "test_loss = tf.keras.metrics.Mean(name='test_loss')\n",
    "test_accuracy = tf.keras.metrics.SparseCategoricalAccuracy(name='test_accuracy')"
   ]
  },
  {
   "cell_type": "code",
   "execution_count": 25,
   "metadata": {},
   "outputs": [],
   "source": [
    "@tf.function\n",
    "def train_step(images, labels):\n",
    "    with tf.GradientTape() as tape:\n",
    "        predictions = model(images)\n",
    "        loss = loss_object(labels, predictions)\n",
    "        \n",
    "    gradients = tape.gradient(loss, model.trainable_variables)\n",
    "    optimizer.apply_gradients(zip(gradients, model.trainable_variables))\n",
    "    \n",
    "    train_loss(loss)\n",
    "    train_accuracy(labels, predictions)"
   ]
  },
  {
   "cell_type": "code",
   "execution_count": 26,
   "metadata": {},
   "outputs": [],
   "source": [
    "@tf.function\n",
    "def test_step(images, labels):\n",
    "    predictions = model(images)\n",
    "    t_loss = loss_object(labels, predictions)\n",
    "    \n",
    "    test_loss(t_loss)\n",
    "    test_accuracy(labels, predictions)"
   ]
  },
  {
   "cell_type": "code",
   "execution_count": 27,
   "metadata": {},
   "outputs": [],
   "source": [
    "file_writer = tf.summary.create_file_writer(logdir)"
   ]
  },
  {
   "cell_type": "code",
   "execution_count": 29,
   "metadata": {},
   "outputs": [],
   "source": [
    "from tqdm.notebook import tqdm"
   ]
  },
  {
   "cell_type": "code",
   "execution_count": null,
   "metadata": {},
   "outputs": [
    {
     "data": {
      "application/vnd.jupyter.widget-view+json": {
       "model_id": "484a0135a59648e9a5115f19462c0596",
       "version_major": 2,
       "version_minor": 0
      },
      "text/plain": [
       "HBox(children=(FloatProgress(value=0.0), HTML(value='')))"
      ]
     },
     "metadata": {},
     "output_type": "display_data"
    }
   ],
   "source": [
    "for epoch in tqdm(range(num_epochs)):\n",
    "    for step, (images, labels) in enumerate(train_dataset):\n",
    "        train_step(images, labels)\n",
    "        \n",
    "    with file_writer.as_default():\n",
    "        tf.summary.images('input_image', images, step=step + (step * epoch))\n",
    "        tf.summary.scalar('train_loss', train_loss.result(), step=step + (step * epoch))\n",
    "        tf.summary.scalar('train_accuracy', train_accuracy.result(), step=step + (step * epoch))\n",
    "        \n",
    "    for test_images, test_labels in test_dataset:\n",
    "        test_step(test_images, test_labels)\n",
    "        \n",
    "    template = 'Epoch {}. Loss: {}, Accuracy: {}, Test Loss: {}, Test Accuracy: {}'\n",
    "    print(template.format(epoch + 1, train_loss.result(), train_accuracy.result() * 100,\n",
    "                                     test_loss.result(), test_accuracy.result() * 100))"
   ]
  },
  {
   "cell_type": "code",
   "execution_count": null,
   "metadata": {},
   "outputs": [],
   "source": []
  }
 ],
 "metadata": {
  "kernelspec": {
   "display_name": "Python 3",
   "language": "python",
   "name": "python3"
  },
  "language_info": {
   "codemirror_mode": {
    "name": "ipython",
    "version": 3
   },
   "file_extension": ".py",
   "mimetype": "text/x-python",
   "name": "python",
   "nbconvert_exporter": "python",
   "pygments_lexer": "ipython3",
   "version": "3.7.4"
  }
 },
 "nbformat": 4,
 "nbformat_minor": 2
}
