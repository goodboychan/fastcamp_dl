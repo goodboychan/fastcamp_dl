{
 "cells": [
  {
   "cell_type": "markdown",
   "metadata": {},
   "source": [
    "# TensorFlow 2.0"
   ]
  },
  {
   "cell_type": "code",
   "execution_count": 1,
   "metadata": {},
   "outputs": [],
   "source": [
    "import os\n",
    "from glob import glob\n",
    "from datetime import datetime\n",
    "\n",
    "import numpy as np\n",
    "\n",
    "import tensorflow as tf\n",
    "from tensorflow.keras import layers\n",
    "\n",
    "from tensorflow.keras import datasets \n",
    "\n",
    "import matplotlib.pyplot as plt\n",
    "\n",
    "%matplotlib inline"
   ]
  },
  {
   "cell_type": "markdown",
   "metadata": {},
   "source": [
    "## Hyperparameter Tunning"
   ]
  },
  {
   "cell_type": "code",
   "execution_count": 2,
   "metadata": {},
   "outputs": [],
   "source": [
    "num_epochs = 50\n",
    "batch_size = 32\n",
    "\n",
    "learning_rate = 0.001\n",
    "\n",
    "dropout_rate = 0.5\n",
    "\n",
    "input_shape = (32, 32, 3)\n",
    "num_classes = 10"
   ]
  },
  {
   "cell_type": "markdown",
   "metadata": {},
   "source": [
    "## Build Model"
   ]
  },
  {
   "cell_type": "code",
   "execution_count": 3,
   "metadata": {},
   "outputs": [],
   "source": [
    "inputs = layers.Input(input_shape)\n",
    "\n",
    "net = layers.Conv2D(32, (3, 3), padding='SAME')(inputs)\n",
    "net = layers.Activation('relu')(net)\n",
    "net = layers.Conv2D(32, (3, 3), padding='SAME')(net)\n",
    "net = layers.Activation('relu')(net)\n",
    "net = layers.MaxPooling2D(pool_size=(2, 2))(net)\n",
    "net = layers.Dropout(dropout_rate)(net)\n",
    "\n",
    "net = layers.Conv2D(64, (3, 3), padding='SAME')(net)\n",
    "net = layers.Activation('relu')(net)\n",
    "net = layers.Conv2D(64, (3, 3), padding='SAME')(net)\n",
    "net = layers.Activation('relu')(net)\n",
    "net = layers.MaxPooling2D(pool_size=(2, 2))(net)\n",
    "net = layers.Dropout(dropout_rate)(net)\n",
    "\n",
    "net = layers.Flatten()(net)\n",
    "net = layers.Dense(512)(net)\n",
    "net = layers.Activation('relu')(net)\n",
    "net = layers.Dropout(dropout_rate)(net)\n",
    "net = layers.Dense(num_classes)(net)\n",
    "net = layers.Activation('softmax')(net)\n",
    "\n",
    "model = tf.keras.Model(inputs=inputs, outputs=net, name='Basic_CNN')"
   ]
  },
  {
   "cell_type": "code",
   "execution_count": 4,
   "metadata": {},
   "outputs": [],
   "source": [
    "# Model is the full model w/o custom layers\n",
    "model.compile(optimizer=tf.keras.optimizers.Adam(learning_rate),  # Optimization\n",
    "              loss='sparse_categorical_crossentropy',  # Loss Function \n",
    "              metrics=['accuracy'])  # Metrics / Accuracy"
   ]
  },
  {
   "cell_type": "markdown",
   "metadata": {},
   "source": [
    "# Data Preprocess"
   ]
  },
  {
   "cell_type": "code",
   "execution_count": 5,
   "metadata": {},
   "outputs": [],
   "source": [
    "train_paths = glob('dataset/cifar/train/*.png')[:1000]\n",
    "test_paths = glob('dataset/cifar/test/*.png')[:1000]"
   ]
  },
  {
   "cell_type": "code",
   "execution_count": 6,
   "metadata": {},
   "outputs": [],
   "source": [
    "def get_class_name(path):\n",
    "    return path.split('_')[-1].replace('.png', '')"
   ]
  },
  {
   "cell_type": "code",
   "execution_count": 7,
   "metadata": {},
   "outputs": [],
   "source": [
    "train_labels = [get_class_name(path) for path in train_paths]\n",
    "class_names = np.unique(train_labels)"
   ]
  },
  {
   "cell_type": "code",
   "execution_count": 8,
   "metadata": {},
   "outputs": [],
   "source": [
    "def get_label(path):\n",
    "    fname = tf.strings.split(path, '_')[-1]\n",
    "    lbl_name = tf.strings.regex_replace(fname, '.png', '')\n",
    "    onehot = tf.cast(lbl_name == class_names, tf.uint8)\n",
    "    return tf.argmax(onehot)  # 이번에는 onehot이 아닌 label 번호로"
   ]
  },
  {
   "cell_type": "code",
   "execution_count": 9,
   "metadata": {},
   "outputs": [],
   "source": [
    "def load_image_label(path):\n",
    "    gfile = tf.io.read_file(path)\n",
    "    image = tf.io.decode_image(gfile)\n",
    "    image = tf.cast(image, tf.float32) / 255.  # rescale\n",
    "    \n",
    "    label = get_label(path)\n",
    "    return image, label"
   ]
  },
  {
   "cell_type": "code",
   "execution_count": 10,
   "metadata": {},
   "outputs": [],
   "source": [
    "def image_preprocess(image, label):\n",
    "    image = tf.image.random_flip_up_down(image)\n",
    "    image = tf.image.random_flip_left_right(image)\n",
    "    return image, label"
   ]
  },
  {
   "cell_type": "code",
   "execution_count": 11,
   "metadata": {},
   "outputs": [],
   "source": [
    "AUTOTUNE = tf.data.experimental.AUTOTUNE"
   ]
  },
  {
   "cell_type": "code",
   "execution_count": 12,
   "metadata": {
    "scrolled": false
   },
   "outputs": [],
   "source": [
    "train_dataset = tf.data.Dataset.from_tensor_slices(train_paths)\n",
    "train_dataset = train_dataset.map(load_image_label, num_parallel_calls=AUTOTUNE)\n",
    "train_dataset = train_dataset.map(image_preprocess, num_parallel_calls=AUTOTUNE)\n",
    "train_dataset = train_dataset.batch(batch_size)\n",
    "train_dataset = train_dataset.shuffle(buffer_size=len(train_paths))\n",
    "train_dataset = train_dataset.repeat()"
   ]
  },
  {
   "cell_type": "code",
   "execution_count": 13,
   "metadata": {},
   "outputs": [],
   "source": [
    "test_dataset = tf.data.Dataset.from_tensor_slices(test_paths)\n",
    "test_dataset = test_dataset.map(load_image_label, num_parallel_calls=AUTOTUNE)\n",
    "test_dataset = test_dataset.batch(batch_size)\n",
    "test_dataset = test_dataset.repeat()"
   ]
  },
  {
   "cell_type": "markdown",
   "metadata": {},
   "source": [
    "## Training"
   ]
  },
  {
   "cell_type": "markdown",
   "metadata": {},
   "source": [
    "http://localhost:6006"
   ]
  },
  {
   "cell_type": "code",
   "execution_count": 14,
   "metadata": {
    "scrolled": false
   },
   "outputs": [
    {
     "name": "stdout",
     "output_type": "stream",
     "text": [
      "Epoch 1/50\n",
      "31/31 [==============================] - 2s 72ms/step - loss: 2.3011 - accuracy: 0.1219 - val_loss: 2.2800 - val_accuracy: 0.0988\n",
      "Epoch 2/50\n",
      "31/31 [==============================] - 1s 34ms/step - loss: 2.1947 - accuracy: 0.1767 - val_loss: 2.1634 - val_accuracy: 0.1694\n",
      "Epoch 3/50\n",
      "31/31 [==============================] - 1s 33ms/step - loss: 2.1164 - accuracy: 0.2035 - val_loss: 2.1418 - val_accuracy: 0.1845\n",
      "Epoch 4/50\n",
      "31/31 [==============================] - 1s 35ms/step - loss: 2.1100 - accuracy: 0.2228 - val_loss: 2.0865 - val_accuracy: 0.2319\n",
      "Epoch 5/50\n",
      "31/31 [==============================] - 1s 33ms/step - loss: 2.0263 - accuracy: 0.2320 - val_loss: 2.0145 - val_accuracy: 0.2450\n",
      "Epoch 6/50\n",
      "31/31 [==============================] - 1s 34ms/step - loss: 2.0097 - accuracy: 0.2479 - val_loss: 1.9687 - val_accuracy: 0.2611\n",
      "Epoch 7/50\n",
      "31/31 [==============================] - 1s 33ms/step - loss: 1.9806 - accuracy: 0.2490 - val_loss: 1.9516 - val_accuracy: 0.2782\n",
      "Epoch 8/50\n",
      "31/31 [==============================] - 1s 34ms/step - loss: 1.9289 - accuracy: 0.2707 - val_loss: 1.8195 - val_accuracy: 0.3417\n",
      "Epoch 9/50\n",
      "31/31 [==============================] - 1s 33ms/step - loss: 1.8324 - accuracy: 0.3273 - val_loss: 1.8217 - val_accuracy: 0.3266\n",
      "Epoch 10/50\n",
      "31/31 [==============================] - 1s 34ms/step - loss: 1.8559 - accuracy: 0.3089 - val_loss: 1.7756 - val_accuracy: 0.3518\n",
      "Epoch 11/50\n",
      "31/31 [==============================] - 1s 35ms/step - loss: 1.7962 - accuracy: 0.3450 - val_loss: 1.7005 - val_accuracy: 0.3790\n",
      "Epoch 12/50\n",
      "31/31 [==============================] - 1s 34ms/step - loss: 1.7018 - accuracy: 0.3626 - val_loss: 1.8057 - val_accuracy: 0.3125\n",
      "Epoch 13/50\n",
      "31/31 [==============================] - 1s 35ms/step - loss: 1.7174 - accuracy: 0.3488 - val_loss: 1.6580 - val_accuracy: 0.3982\n",
      "Epoch 14/50\n",
      "31/31 [==============================] - 1s 34ms/step - loss: 1.6373 - accuracy: 0.3926 - val_loss: 1.6467 - val_accuracy: 0.3891\n",
      "Epoch 15/50\n",
      "31/31 [==============================] - 1s 34ms/step - loss: 1.6866 - accuracy: 0.3538 - val_loss: 1.6626 - val_accuracy: 0.3871\n",
      "Epoch 16/50\n",
      "31/31 [==============================] - 1s 35ms/step - loss: 1.6015 - accuracy: 0.4029 - val_loss: 1.7459 - val_accuracy: 0.3498\n",
      "Epoch 17/50\n",
      "31/31 [==============================] - 1s 34ms/step - loss: 1.6138 - accuracy: 0.3871 - val_loss: 1.6470 - val_accuracy: 0.3750\n",
      "Epoch 18/50\n",
      "31/31 [==============================] - 1s 35ms/step - loss: 1.5547 - accuracy: 0.4256 - val_loss: 1.6320 - val_accuracy: 0.4032\n",
      "Epoch 19/50\n",
      "31/31 [==============================] - 1s 36ms/step - loss: 1.5148 - accuracy: 0.4308 - val_loss: 1.6239 - val_accuracy: 0.3891\n",
      "Epoch 20/50\n",
      "31/31 [==============================] - 1s 34ms/step - loss: 1.5517 - accuracy: 0.4184 - val_loss: 1.6421 - val_accuracy: 0.3921\n",
      "Epoch 21/50\n",
      "31/31 [==============================] - 1s 34ms/step - loss: 1.5121 - accuracy: 0.4496 - val_loss: 1.5909 - val_accuracy: 0.4224\n",
      "Epoch 22/50\n",
      "31/31 [==============================] - 1s 34ms/step - loss: 1.4785 - accuracy: 0.4607 - val_loss: 1.5884 - val_accuracy: 0.4143\n",
      "Epoch 23/50\n",
      "31/31 [==============================] - 1s 34ms/step - loss: 1.4304 - accuracy: 0.4649 - val_loss: 1.5761 - val_accuracy: 0.4194\n",
      "Epoch 24/50\n",
      "31/31 [==============================] - 1s 36ms/step - loss: 1.4457 - accuracy: 0.4514 - val_loss: 1.5965 - val_accuracy: 0.4264\n",
      "Epoch 25/50\n",
      "31/31 [==============================] - 1s 36ms/step - loss: 1.4279 - accuracy: 0.4731 - val_loss: 1.6371 - val_accuracy: 0.3972\n",
      "Epoch 26/50\n",
      "31/31 [==============================] - 1s 36ms/step - loss: 1.4346 - accuracy: 0.4886 - val_loss: 1.5950 - val_accuracy: 0.4224\n",
      "Epoch 27/50\n",
      "31/31 [==============================] - 1s 34ms/step - loss: 1.3843 - accuracy: 0.4938 - val_loss: 1.6071 - val_accuracy: 0.4224\n",
      "Epoch 28/50\n",
      "31/31 [==============================] - 1s 34ms/step - loss: 1.3328 - accuracy: 0.4852 - val_loss: 1.6426 - val_accuracy: 0.4284\n",
      "Epoch 29/50\n",
      "31/31 [==============================] - 1s 34ms/step - loss: 1.3860 - accuracy: 0.5050 - val_loss: 1.6348 - val_accuracy: 0.4103\n",
      "Epoch 30/50\n",
      "31/31 [==============================] - 1s 34ms/step - loss: 1.2615 - accuracy: 0.5455 - val_loss: 1.5274 - val_accuracy: 0.4506\n",
      "Epoch 31/50\n",
      "31/31 [==============================] - 1s 35ms/step - loss: 1.3115 - accuracy: 0.5289 - val_loss: 1.5512 - val_accuracy: 0.4254\n",
      "Epoch 32/50\n",
      "31/31 [==============================] - 1s 33ms/step - loss: 1.3379 - accuracy: 0.5093 - val_loss: 1.6070 - val_accuracy: 0.4214\n",
      "Epoch 33/50\n",
      "31/31 [==============================] - 1s 34ms/step - loss: 1.2664 - accuracy: 0.5196 - val_loss: 1.6171 - val_accuracy: 0.4304\n",
      "Epoch 34/50\n",
      "31/31 [==============================] - 1s 34ms/step - loss: 1.2271 - accuracy: 0.5341 - val_loss: 1.6023 - val_accuracy: 0.4476\n",
      "Epoch 35/50\n",
      "31/31 [==============================] - 1s 34ms/step - loss: 1.2078 - accuracy: 0.5475 - val_loss: 1.5770 - val_accuracy: 0.4345\n",
      "Epoch 36/50\n",
      "31/31 [==============================] - 1s 34ms/step - loss: 1.2017 - accuracy: 0.5610 - val_loss: 1.5354 - val_accuracy: 0.4657\n",
      "Epoch 37/50\n",
      "31/31 [==============================] - 1s 34ms/step - loss: 1.2169 - accuracy: 0.5504 - val_loss: 1.5200 - val_accuracy: 0.4708\n",
      "Epoch 38/50\n",
      "31/31 [==============================] - 1s 35ms/step - loss: 1.1641 - accuracy: 0.5614 - val_loss: 1.5588 - val_accuracy: 0.4375\n",
      "Epoch 39/50\n",
      "31/31 [==============================] - 1s 34ms/step - loss: 1.1140 - accuracy: 0.6136 - val_loss: 1.5757 - val_accuracy: 0.4415\n",
      "Epoch 40/50\n",
      "31/31 [==============================] - 1s 34ms/step - loss: 1.1168 - accuracy: 0.5950 - val_loss: 1.5500 - val_accuracy: 0.4597\n",
      "Epoch 41/50\n",
      "31/31 [==============================] - 1s 34ms/step - loss: 1.0753 - accuracy: 0.6157 - val_loss: 1.5356 - val_accuracy: 0.4526\n",
      "Epoch 42/50\n",
      "31/31 [==============================] - 1s 34ms/step - loss: 1.0935 - accuracy: 0.6023 - val_loss: 1.6075 - val_accuracy: 0.4587\n",
      "Epoch 43/50\n",
      "31/31 [==============================] - 1s 35ms/step - loss: 1.0853 - accuracy: 0.5998 - val_loss: 1.5900 - val_accuracy: 0.4506\n",
      "Epoch 44/50\n",
      "31/31 [==============================] - 1s 36ms/step - loss: 1.0259 - accuracy: 0.6049 - val_loss: 1.5904 - val_accuracy: 0.4627\n",
      "Epoch 45/50\n",
      "31/31 [==============================] - 1s 34ms/step - loss: 1.0595 - accuracy: 0.6008 - val_loss: 1.5693 - val_accuracy: 0.4556\n",
      "Epoch 46/50\n",
      "31/31 [==============================] - 1s 35ms/step - loss: 0.9809 - accuracy: 0.6208 - val_loss: 1.5562 - val_accuracy: 0.4647\n",
      "Epoch 47/50\n",
      "31/31 [==============================] - 1s 33ms/step - loss: 1.0232 - accuracy: 0.6220 - val_loss: 1.5865 - val_accuracy: 0.4577\n",
      "Epoch 48/50\n",
      "31/31 [==============================] - 1s 34ms/step - loss: 0.9715 - accuracy: 0.6314 - val_loss: 1.6050 - val_accuracy: 0.4607\n",
      "Epoch 49/50\n",
      "31/31 [==============================] - 1s 34ms/step - loss: 1.0387 - accuracy: 0.6240 - val_loss: 1.5693 - val_accuracy: 0.4688\n",
      "Epoch 50/50\n",
      "31/31 [==============================] - 1s 34ms/step - loss: 0.9611 - accuracy: 0.6322 - val_loss: 1.5731 - val_accuracy: 0.4728\n"
     ]
    }
   ],
   "source": [
    "steps_per_epoch = len(train_paths) // batch_size\n",
    "validation_steps = len(test_paths) // batch_size\n",
    "\n",
    "history = model.fit_generator(\n",
    "    train_dataset,\n",
    "    steps_per_epoch=steps_per_epoch,\n",
    "    validation_data=test_dataset,\n",
    "    validation_steps=validation_steps,\n",
    "    epochs=num_epochs\n",
    ")"
   ]
  },
  {
   "cell_type": "markdown",
   "metadata": {},
   "source": [
    "# History 들여다 보기 "
   ]
  },
  {
   "cell_type": "code",
   "execution_count": 15,
   "metadata": {},
   "outputs": [
    {
     "data": {
      "text/plain": [
       "dict_keys(['loss', 'accuracy', 'val_loss', 'val_accuracy'])"
      ]
     },
     "execution_count": 15,
     "metadata": {},
     "output_type": "execute_result"
    }
   ],
   "source": [
    "history.history.keys()"
   ]
  },
  {
   "cell_type": "code",
   "execution_count": 16,
   "metadata": {},
   "outputs": [
    {
     "data": {
      "text/plain": [
       "{'batch_size': None,\n",
       " 'epochs': 50,\n",
       " 'steps': 31,\n",
       " 'samples': 31,\n",
       " 'verbose': 0,\n",
       " 'do_validation': True,\n",
       " 'metrics': ['loss', 'accuracy', 'val_loss', 'val_accuracy']}"
      ]
     },
     "execution_count": 16,
     "metadata": {},
     "output_type": "execute_result"
    }
   ],
   "source": [
    "history.params"
   ]
  },
  {
   "cell_type": "code",
   "execution_count": 17,
   "metadata": {},
   "outputs": [],
   "source": [
    "new_model = history.model"
   ]
  },
  {
   "cell_type": "code",
   "execution_count": 18,
   "metadata": {},
   "outputs": [],
   "source": [
    "image, label = load_image_label(test_paths[0])"
   ]
  },
  {
   "cell_type": "code",
   "execution_count": 24,
   "metadata": {},
   "outputs": [
    {
     "data": {
      "text/plain": [
       "Text(0.5, 1.0, '8')"
      ]
     },
     "execution_count": 24,
     "metadata": {},
     "output_type": "execute_result"
    },
    {
     "data": {
      "image/png": "[encoded data removed]",
      "text/plain": [
       "<Figure size 432x288 with 1 Axes>"
      ]
     },
     "metadata": {
      "needs_background": "light"
     },
     "output_type": "display_data"
    }
   ],
   "source": [
    "plt.imshow(image)\n",
    "plt.title(label)"
   ]
  },
  {
   "cell_type": "code",
   "execution_count": 28,
   "metadata": {},
   "outputs": [
    {
     "name": "stdout",
     "output_type": "stream",
     "text": [
      "[[0.18952669 0.00483067 0.04673858 0.04563198 0.03793671 0.04506341\n",
      "  0.00924305 0.02191168 0.5777838  0.02133343]] tf.Tensor(8, shape=(), dtype=int64)\n"
     ]
    }
   ],
   "source": [
    "# new_model.predict(image[tf.newaxis, ...])\n",
    "prediction_onehot = new_model.predict(image[tf.newaxis, ...])\n",
    "prediction = tf.argmax(tf.squeeze(prediction_onehot))\n",
    "print(prediction_onehot, prediction)"
   ]
  },
  {
   "cell_type": "code",
   "execution_count": 31,
   "metadata": {},
   "outputs": [
    {
     "data": {
      "image/png": "[encoded data removed]",
      "text/plain": [
       "<Figure size 432x288 with 1 Axes>"
      ]
     },
     "metadata": {
      "needs_background": "light"
     },
     "output_type": "display_data"
    }
   ],
   "source": [
    "plt.plot(history.history['accuracy'])\n",
    "plt.plot(history.history['val_accuracy'])\n",
    "plt.title(\"Model Accuracy\")\n",
    "plt.ylabel('accuracy')\n",
    "plt.xlabel('epoch')\n",
    "plt.legend(['train', 'validation'])\n",
    "plt.show()"
   ]
  },
  {
   "cell_type": "code",
   "execution_count": 32,
   "metadata": {},
   "outputs": [
    {
     "data": {
      "image/png": "[encoded data removed]",
      "text/plain": [
       "<Figure size 432x288 with 1 Axes>"
      ]
     },
     "metadata": {
      "needs_background": "light"
     },
     "output_type": "display_data"
    }
   ],
   "source": [
    "plt.plot(history.history['loss'])\n",
    "plt.plot(history.history['val_loss'])\n",
    "plt.title('Model Loss')\n",
    "plt.ylabel('loss')\n",
    "plt.xlabel('epoch')\n",
    "plt.legend(['train', 'validation'])\n",
    "plt.show()"
   ]
  }
 ],
 "metadata": {
  "kernelspec": {
   "display_name": "Python 3",
   "language": "python",
   "name": "python3"
  },
  "language_info": {
   "codemirror_mode": {
    "name": "ipython",
    "version": 3
   },
   "file_extension": ".py",
   "mimetype": "text/x-python",
   "name": "python",
   "nbconvert_exporter": "python",
   "pygments_lexer": "ipython3",
   "version": "3.7.4"
  }
 },
 "nbformat": 4,
 "nbformat_minor": 2
}
