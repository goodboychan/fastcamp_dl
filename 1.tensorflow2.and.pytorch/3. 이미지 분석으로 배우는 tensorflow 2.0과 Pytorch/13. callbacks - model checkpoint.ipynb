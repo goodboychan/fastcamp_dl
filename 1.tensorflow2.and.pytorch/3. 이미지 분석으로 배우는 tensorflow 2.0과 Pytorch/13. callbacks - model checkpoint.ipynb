{
 "cells": [
  {
   "cell_type": "markdown",
   "metadata": {},
   "source": [
    "# TensorFlow 2.0"
   ]
  },
  {
   "cell_type": "code",
   "execution_count": 1,
   "metadata": {},
   "outputs": [],
   "source": [
    "import os\n",
    "from glob import glob\n",
    "from datetime import datetime\n",
    "\n",
    "import numpy as np\n",
    "\n",
    "import tensorflow as tf\n",
    "from tensorflow.keras import layers\n",
    "\n",
    "from tensorflow.keras import datasets \n",
    "\n",
    "import matplotlib.pyplot as plt\n",
    "\n",
    "%matplotlib inline"
   ]
  },
  {
   "cell_type": "markdown",
   "metadata": {},
   "source": [
    "## Hyperparameter Tunning"
   ]
  },
  {
   "cell_type": "code",
   "execution_count": 2,
   "metadata": {},
   "outputs": [],
   "source": [
    "num_epochs = 20\n",
    "batch_size = 32\n",
    "\n",
    "learning_rate = 0.001\n",
    "\n",
    "dropout_rate = 0.5\n",
    "\n",
    "input_shape = (32, 32, 3)\n",
    "num_classes = 10"
   ]
  },
  {
   "cell_type": "markdown",
   "metadata": {},
   "source": [
    "## Build Model"
   ]
  },
  {
   "cell_type": "code",
   "execution_count": 3,
   "metadata": {},
   "outputs": [],
   "source": [
    "inputs = layers.Input(input_shape)\n",
    "\n",
    "net = layers.Conv2D(32, (3, 3), padding='SAME')(inputs)\n",
    "net = layers.Activation('relu')(net)\n",
    "net = layers.Conv2D(32, (3, 3), padding='SAME')(net)\n",
    "net = layers.Activation('relu')(net)\n",
    "net = layers.MaxPooling2D(pool_size=(2, 2))(net)\n",
    "net = layers.Dropout(dropout_rate)(net)\n",
    "\n",
    "net = layers.Conv2D(64, (3, 3), padding='SAME')(net)\n",
    "net = layers.Activation('relu')(net)\n",
    "net = layers.Conv2D(64, (3, 3), padding='SAME')(net)\n",
    "net = layers.Activation('relu')(net)\n",
    "net = layers.MaxPooling2D(pool_size=(2, 2))(net)\n",
    "net = layers.Dropout(dropout_rate)(net)\n",
    "\n",
    "net = layers.Flatten()(net)\n",
    "net = layers.Dense(512)(net)\n",
    "net = layers.Activation('relu')(net)\n",
    "net = layers.Dropout(dropout_rate)(net)\n",
    "net = layers.Dense(num_classes)(net)\n",
    "net = layers.Activation('softmax')(net)\n",
    "\n",
    "model = tf.keras.Model(inputs=inputs, outputs=net, name='Basic_CNN')"
   ]
  },
  {
   "cell_type": "code",
   "execution_count": 4,
   "metadata": {},
   "outputs": [],
   "source": [
    "# Model is the full model w/o custom layers\n",
    "model.compile(optimizer=tf.keras.optimizers.Adam(learning_rate),  # Optimization\n",
    "              loss='sparse_categorical_crossentropy',  # Loss Function \n",
    "              metrics=['accuracy'])  # Metrics / Accuracy"
   ]
  },
  {
   "cell_type": "markdown",
   "metadata": {},
   "source": [
    "# Data Preprocess"
   ]
  },
  {
   "cell_type": "code",
   "execution_count": 5,
   "metadata": {},
   "outputs": [],
   "source": [
    "train_paths = glob('dataset/cifar/train/*.png')[:1000]\n",
    "test_paths = glob('dataset/cifar/test/*.png')[:1000]"
   ]
  },
  {
   "cell_type": "code",
   "execution_count": 6,
   "metadata": {},
   "outputs": [
    {
     "data": {
      "text/plain": [
       "1000"
      ]
     },
     "execution_count": 6,
     "metadata": {},
     "output_type": "execute_result"
    }
   ],
   "source": [
    "len(train_paths)"
   ]
  },
  {
   "cell_type": "code",
   "execution_count": 7,
   "metadata": {},
   "outputs": [],
   "source": [
    "def get_class_name(path):\n",
    "    return path.split('_')[-1].replace('.png', '')"
   ]
  },
  {
   "cell_type": "code",
   "execution_count": 8,
   "metadata": {},
   "outputs": [],
   "source": [
    "train_labels = [get_class_name(path) for path in train_paths]\n",
    "class_names = np.unique(train_labels)"
   ]
  },
  {
   "cell_type": "code",
   "execution_count": 9,
   "metadata": {},
   "outputs": [],
   "source": [
    "def get_label(path):\n",
    "    fname = tf.strings.split(path, '_')[-1]\n",
    "    lbl_name = tf.strings.regex_replace(fname, '.png', '')\n",
    "    onehot = tf.cast(lbl_name == class_names, tf.uint8)\n",
    "    return tf.argmax(onehot)  # 이번에는 onehot이 아닌 label 번호로"
   ]
  },
  {
   "cell_type": "code",
   "execution_count": 10,
   "metadata": {},
   "outputs": [],
   "source": [
    "def load_image_label(path):\n",
    "    gfile = tf.io.read_file(path)\n",
    "    image = tf.io.decode_image(gfile)\n",
    "    image = tf.cast(image, tf.float32) / 255.  # rescale\n",
    "    \n",
    "    label = get_label(path)\n",
    "    return image, label"
   ]
  },
  {
   "cell_type": "code",
   "execution_count": 11,
   "metadata": {},
   "outputs": [],
   "source": [
    "def image_preprocess(image, label):\n",
    "    image = tf.image.random_flip_up_down(image)\n",
    "    image = tf.image.random_flip_left_right(image)\n",
    "    return image, label"
   ]
  },
  {
   "cell_type": "code",
   "execution_count": 12,
   "metadata": {},
   "outputs": [],
   "source": [
    "AUTOTUNE = tf.data.experimental.AUTOTUNE"
   ]
  },
  {
   "cell_type": "code",
   "execution_count": 13,
   "metadata": {
    "scrolled": false
   },
   "outputs": [],
   "source": [
    "train_dataset = tf.data.Dataset.from_tensor_slices(train_paths)\n",
    "train_dataset = train_dataset.map(load_image_label, num_parallel_calls=AUTOTUNE)\n",
    "train_dataset = train_dataset.map(image_preprocess, num_parallel_calls=AUTOTUNE)\n",
    "train_dataset = train_dataset.batch(batch_size)\n",
    "train_dataset = train_dataset.shuffle(buffer_size=len(train_paths))\n",
    "train_dataset = train_dataset.repeat()"
   ]
  },
  {
   "cell_type": "code",
   "execution_count": 14,
   "metadata": {},
   "outputs": [],
   "source": [
    "test_dataset = tf.data.Dataset.from_tensor_slices(test_paths)\n",
    "test_dataset = test_dataset.map(load_image_label, num_parallel_calls=AUTOTUNE)\n",
    "test_dataset = test_dataset.batch(batch_size)\n",
    "test_dataset = test_dataset.repeat()"
   ]
  },
  {
   "cell_type": "markdown",
   "metadata": {},
   "source": [
    "# Checkpoint"
   ]
  },
  {
   "cell_type": "code",
   "execution_count": 15,
   "metadata": {},
   "outputs": [],
   "source": [
    "save_path = 'checkpoints'"
   ]
  },
  {
   "cell_type": "code",
   "execution_count": 19,
   "metadata": {},
   "outputs": [],
   "source": [
    "checkpoint = tf.keras.callbacks.ModelCheckpoint(save_path, \n",
    "                                                monitor='val_accuracy', \n",
    "                                                verbose=True, \n",
    "                                                save_best_only=True,\n",
    "                                               mode='max') ## Loss - min // Accuracy - Max"
   ]
  },
  {
   "cell_type": "markdown",
   "metadata": {},
   "source": [
    "## Training"
   ]
  },
  {
   "cell_type": "code",
   "execution_count": null,
   "metadata": {},
   "outputs": [
    {
     "name": "stdout",
     "output_type": "stream",
     "text": [
      "Epoch 1/20\n",
      "28/31 [==========================>...] - ETA: 0s - loss: 1.1327 - accuracy: 0.5837\n",
      "Epoch 00001: val_accuracy improved from -inf to 0.44355, saving model to checkpoints\n",
      "INFO:tensorflow:Assets written to: checkpoints/assets\n",
      "31/31 [==============================] - 2s 67ms/step - loss: 1.1297 - accuracy: 0.5837 - val_loss: 1.5776 - val_accuracy: 0.4435\n",
      "Epoch 2/20\n",
      "29/31 [===========================>..] - ETA: 0s - loss: 1.0865 - accuracy: 0.6128\n",
      "Epoch 00002: val_accuracy improved from 0.44355 to 0.46069, saving model to checkpoints\n",
      "INFO:tensorflow:Assets written to: checkpoints/assets\n",
      "31/31 [==============================] - 2s 63ms/step - loss: 1.1008 - accuracy: 0.6054 - val_loss: 1.5979 - val_accuracy: 0.4607\n",
      "Epoch 3/20\n",
      "30/31 [============================>.] - ETA: 0s - loss: 1.0405 - accuracy: 0.6260\n",
      "Epoch 00003: val_accuracy did not improve from 0.46069\n",
      "31/31 [==============================] - 1s 35ms/step - loss: 1.0383 - accuracy: 0.6260 - val_loss: 1.5799 - val_accuracy: 0.4395\n",
      "Epoch 4/20\n",
      "30/31 [============================>.] - ETA: 0s - loss: 1.0736 - accuracy: 0.6020\n",
      "Epoch 00004: val_accuracy improved from 0.46069 to 0.46774, saving model to checkpoints\n",
      "INFO:tensorflow:Assets written to: checkpoints/assets\n",
      "31/31 [==============================] - 2s 72ms/step - loss: 1.0670 - accuracy: 0.6006 - val_loss: 1.5509 - val_accuracy: 0.4677\n",
      "Epoch 5/20\n",
      "29/31 [===========================>..] - ETA: 0s - loss: 1.0003 - accuracy: 0.6294\n",
      "Epoch 00005: val_accuracy improved from 0.46774 to 0.47278, saving model to checkpoints\n",
      "INFO:tensorflow:Assets written to: checkpoints/assets\n",
      "31/31 [==============================] - 2s 64ms/step - loss: 1.0050 - accuracy: 0.6302 - val_loss: 1.5656 - val_accuracy: 0.4728\n",
      "Epoch 6/20\n",
      "30/31 [============================>.] - ETA: 0s - loss: 0.9829 - accuracy: 0.6368\n",
      "Epoch 00006: val_accuracy did not improve from 0.47278\n",
      "31/31 [==============================] - 1s 35ms/step - loss: 0.9882 - accuracy: 0.6384 - val_loss: 1.6112 - val_accuracy: 0.4526\n",
      "Epoch 7/20\n",
      "30/31 [============================>.] - ETA: 0s - loss: 1.0504 - accuracy: 0.6187\n",
      "Epoch 00007: val_accuracy improved from 0.47278 to 0.47581, saving model to checkpoints\n",
      "INFO:tensorflow:Assets written to: checkpoints/assets\n",
      "31/31 [==============================] - 2s 72ms/step - loss: 1.0463 - accuracy: 0.6179 - val_loss: 1.5689 - val_accuracy: 0.4758\n",
      "Epoch 8/20\n",
      "29/31 [===========================>..] - ETA: 0s - loss: 0.9316 - accuracy: 0.6449\n",
      "Epoch 00008: val_accuracy improved from 0.47581 to 0.48488, saving model to checkpoints\n",
      "INFO:tensorflow:Assets written to: checkpoints/assets\n",
      "31/31 [==============================] - 2s 65ms/step - loss: 0.9345 - accuracy: 0.6488 - val_loss: 1.6041 - val_accuracy: 0.4849\n",
      "Epoch 9/20\n",
      "30/31 [============================>.] - ETA: 0s - loss: 0.9083 - accuracy: 0.6634\n",
      "Epoch 00009: val_accuracy did not improve from 0.48488\n",
      "31/31 [==============================] - 1s 36ms/step - loss: 0.9225 - accuracy: 0.6557 - val_loss: 1.5974 - val_accuracy: 0.4758\n",
      "Epoch 10/20\n",
      "28/31 [==========================>...] - ETA: 0s - loss: 0.9683 - accuracy: 0.6551\n",
      "Epoch 00010: val_accuracy did not improve from 0.48488\n",
      "31/31 [==============================] - 1s 35ms/step - loss: 0.9449 - accuracy: 0.6539 - val_loss: 1.6619 - val_accuracy: 0.4758\n",
      "Epoch 11/20\n",
      "28/31 [==========================>...] - ETA: 0s - loss: 0.8950 - accuracy: 0.6525\n",
      "Epoch 00011: val_accuracy improved from 0.48488 to 0.48690, saving model to checkpoints\n",
      "INFO:tensorflow:Assets written to: checkpoints/assets\n",
      "31/31 [==============================] - 2s 72ms/step - loss: 0.8961 - accuracy: 0.6529 - val_loss: 1.6156 - val_accuracy: 0.4869\n",
      "Epoch 12/20\n",
      "30/31 [============================>.] - ETA: 0s - loss: 0.9398 - accuracy: 0.6573\n",
      "Epoch 00012: val_accuracy did not improve from 0.48690\n",
      "31/31 [==============================] - 1s 35ms/step - loss: 0.9259 - accuracy: 0.6643 - val_loss: 1.6664 - val_accuracy: 0.4435\n",
      "Epoch 13/20\n",
      "30/31 [============================>.] - ETA: 0s - loss: 0.8716 - accuracy: 0.6848\n",
      "Epoch 00013: val_accuracy did not improve from 0.48690\n",
      "31/31 [==============================] - 1s 36ms/step - loss: 0.8668 - accuracy: 0.6870 - val_loss: 1.6085 - val_accuracy: 0.4819\n",
      "Epoch 14/20\n",
      "29/31 [===========================>..] - ETA: 0s - loss: 0.8009 - accuracy: 0.6898\n",
      "Epoch 00014: val_accuracy did not improve from 0.48690\n",
      "31/31 [==============================] - 1s 36ms/step - loss: 0.8228 - accuracy: 0.6854 - val_loss: 1.6864 - val_accuracy: 0.4688\n",
      "Epoch 15/20\n",
      "30/31 [============================>.] - ETA: 0s - loss: 0.8463 - accuracy: 0.6752\n",
      "Epoch 00015: val_accuracy did not improve from 0.48690\n",
      "31/31 [==============================] - 1s 37ms/step - loss: 0.8529 - accuracy: 0.6746 - val_loss: 1.6910 - val_accuracy: 0.4819\n",
      "Epoch 16/20\n",
      "30/31 [============================>.] - ETA: 0s - loss: 0.8707 - accuracy: 0.6865\n",
      "Epoch 00016: val_accuracy improved from 0.48690 to 0.49597, saving model to checkpoints\n",
      "INFO:tensorflow:Assets written to: checkpoints/assets\n",
      "31/31 [==============================] - 2s 64ms/step - loss: 0.8693 - accuracy: 0.6895 - val_loss: 1.6168 - val_accuracy: 0.4960\n",
      "Epoch 17/20\n",
      "29/31 [===========================>..] - ETA: 0s - loss: 0.8536 - accuracy: 0.6792\n",
      "Epoch 00017: val_accuracy did not improve from 0.49597\n",
      "31/31 [==============================] - 1s 33ms/step - loss: 0.8595 - accuracy: 0.6767 - val_loss: 1.6379 - val_accuracy: 0.4819\n",
      "Epoch 18/20\n",
      "30/31 [============================>.] - ETA: 0s - loss: 0.8118 - accuracy: 0.6923\n",
      "Epoch 00018: val_accuracy did not improve from 0.49597\n",
      "31/31 [==============================] - 1s 35ms/step - loss: 0.8229 - accuracy: 0.6880 - val_loss: 1.6782 - val_accuracy: 0.4778\n",
      "Epoch 19/20\n",
      "28/31 [==========================>...] - ETA: 0s - loss: 0.8011 - accuracy: 0.6995\n",
      "Epoch 00019: val_accuracy did not improve from 0.49597\n",
      "31/31 [==============================] - 1s 34ms/step - loss: 0.7775 - accuracy: 0.7055 - val_loss: 1.6617 - val_accuracy: 0.4788\n",
      "Epoch 20/20\n",
      "29/31 [===========================>..] - ETA: 0s - loss: 0.8453 - accuracy: 0.6983"
     ]
    }
   ],
   "source": [
    "steps_per_epoch = len(train_paths) // batch_size\n",
    "validation_steps = len(test_paths) // batch_size\n",
    "\n",
    "model.fit_generator(\n",
    "    train_dataset,\n",
    "    steps_per_epoch=steps_per_epoch,\n",
    "    validation_data=test_dataset,\n",
    "    validation_steps=validation_steps,\n",
    "    epochs=num_epochs,\n",
    "    callbacks=[checkpoint]\n",
    ")"
   ]
  },
  {
   "cell_type": "markdown",
   "metadata": {},
   "source": [
    "https://www.tensorflow.org/tensorboard/r2/image_summaries#setup"
   ]
  }
 ],
 "metadata": {
  "kernelspec": {
   "display_name": "Python 3",
   "language": "python",
   "name": "python3"
  },
  "language_info": {
   "codemirror_mode": {
    "name": "ipython",
    "version": 3
   },
   "file_extension": ".py",
   "mimetype": "text/x-python",
   "name": "python",
   "nbconvert_exporter": "python",
   "pygments_lexer": "ipython3",
   "version": "3.7.4"
  }
 },
 "nbformat": 4,
 "nbformat_minor": 2
}
