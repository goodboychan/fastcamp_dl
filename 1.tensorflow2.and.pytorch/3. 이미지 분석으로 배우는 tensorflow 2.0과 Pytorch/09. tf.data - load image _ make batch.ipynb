{
 "cells": [
  {
   "cell_type": "code",
   "execution_count": 1,
   "metadata": {},
   "outputs": [],
   "source": [
    "import os \n",
    "from glob import glob\n",
    "\n",
    "import numpy as np\n",
    "import tensorflow as tf\n",
    "\n",
    "import matplotlib.pyplot as plt\n",
    "%matplotlib inline"
   ]
  },
  {
   "cell_type": "code",
   "execution_count": 3,
   "metadata": {},
   "outputs": [
    {
     "data": {
      "text/plain": [
       "['./dataset/cifar/train/23927_frog.png',\n",
       " './dataset/cifar/train/3442_deer.png',\n",
       " './dataset/cifar/train/11364_cat.png',\n",
       " './dataset/cifar/train/17265_dog.png',\n",
       " './dataset/cifar/train/36801_bird.png',\n",
       " './dataset/cifar/train/8324_bird.png',\n",
       " './dataset/cifar/train/15345_cat.png',\n",
       " './dataset/cifar/train/18061_dog.png',\n",
       " './dataset/cifar/train/19872_cat.png',\n",
       " './dataset/cifar/train/32396_frog.png',\n",
       " './dataset/cifar/train/3000_cat.png',\n",
       " './dataset/cifar/train/16169_airplane.png',\n",
       " './dataset/cifar/train/39484_automobile.png',\n",
       " './dataset/cifar/train/33799_frog.png',\n",
       " './dataset/cifar/train/9345_cat.png',\n",
       " './dataset/cifar/train/18245_dog.png',\n",
       " './dataset/cifar/train/4060_airplane.png',\n",
       " './dataset/cifar/train/36808_frog.png',\n",
       " './dataset/cifar/train/42857_truck.png',\n",
       " './dataset/cifar/train/5713_cat.png',\n",
       " './dataset/cifar/train/23016_airplane.png',\n",
       " './dataset/cifar/train/22840_dog.png',\n",
       " './dataset/cifar/train/12245_truck.png',\n",
       " './dataset/cifar/train/14056_airplane.png',\n",
       " './dataset/cifar/train/24349_airplane.png',\n",
       " './dataset/cifar/train/11820_deer.png',\n",
       " './dataset/cifar/train/23499_frog.png',\n",
       " './dataset/cifar/train/42723_frog.png',\n",
       " './dataset/cifar/train/41718_dog.png',\n",
       " './dataset/cifar/train/19403_frog.png',\n",
       " './dataset/cifar/train/40317_airplane.png',\n",
       " './dataset/cifar/train/5513_frog.png',\n",
       " './dataset/cifar/train/5895_automobile.png',\n",
       " './dataset/cifar/train/20804_truck.png',\n",
       " './dataset/cifar/train/14440_deer.png',\n",
       " './dataset/cifar/train/27321_automobile.png',\n",
       " './dataset/cifar/train/10923_ship.png',\n",
       " './dataset/cifar/train/9339_frog.png',\n",
       " './dataset/cifar/train/49935_horse.png',\n",
       " './dataset/cifar/train/9392_automobile.png',\n",
       " './dataset/cifar/train/24493_truck.png',\n",
       " './dataset/cifar/train/44868_cat.png',\n",
       " './dataset/cifar/train/33532_automobile.png',\n",
       " './dataset/cifar/train/6706_truck.png',\n",
       " './dataset/cifar/train/586_bird.png',\n",
       " './dataset/cifar/train/26664_ship.png',\n",
       " './dataset/cifar/train/19778_airplane.png',\n",
       " './dataset/cifar/train/10335_deer.png',\n",
       " './dataset/cifar/train/26015_ship.png',\n",
       " './dataset/cifar/train/35082_horse.png',\n",
       " './dataset/cifar/train/4723_ship.png',\n",
       " './dataset/cifar/train/11919_airplane.png',\n",
       " './dataset/cifar/train/6235_horse.png',\n",
       " './dataset/cifar/train/46014_bird.png',\n",
       " './dataset/cifar/train/20904_deer.png',\n",
       " './dataset/cifar/train/37510_cat.png',\n",
       " './dataset/cifar/train/29219_airplane.png',\n",
       " './dataset/cifar/train/46038_ship.png',\n",
       " './dataset/cifar/train/15938_deer.png',\n",
       " './dataset/cifar/train/45832_truck.png',\n",
       " './dataset/cifar/train/16040_horse.png',\n",
       " './dataset/cifar/train/45161_ship.png',\n",
       " './dataset/cifar/train/37514_cat.png',\n",
       " './dataset/cifar/train/7731_airplane.png',\n",
       " './dataset/cifar/train/1104_cat.png',\n",
       " './dataset/cifar/train/13212_deer.png',\n",
       " './dataset/cifar/train/5672_ship.png',\n",
       " './dataset/cifar/train/44108_cat.png',\n",
       " './dataset/cifar/train/9644_ship.png',\n",
       " './dataset/cifar/train/12039_cat.png',\n",
       " './dataset/cifar/train/35687_ship.png',\n",
       " './dataset/cifar/train/3756_cat.png',\n",
       " './dataset/cifar/train/29977_airplane.png',\n",
       " './dataset/cifar/train/41100_deer.png',\n",
       " './dataset/cifar/train/11250_deer.png',\n",
       " './dataset/cifar/train/4399_horse.png',\n",
       " './dataset/cifar/train/19447_cat.png',\n",
       " './dataset/cifar/train/18086_bird.png',\n",
       " './dataset/cifar/train/8884_automobile.png',\n",
       " './dataset/cifar/train/48903_horse.png',\n",
       " './dataset/cifar/train/44262_horse.png',\n",
       " './dataset/cifar/train/7572_automobile.png',\n",
       " './dataset/cifar/train/40003_automobile.png',\n",
       " './dataset/cifar/train/8464_dog.png',\n",
       " './dataset/cifar/train/43153_dog.png',\n",
       " './dataset/cifar/train/5606_dog.png',\n",
       " './dataset/cifar/train/24627_truck.png',\n",
       " './dataset/cifar/train/11835_airplane.png',\n",
       " './dataset/cifar/train/42209_frog.png',\n",
       " './dataset/cifar/train/17859_bird.png',\n",
       " './dataset/cifar/train/6914_cat.png',\n",
       " './dataset/cifar/train/23915_frog.png',\n",
       " './dataset/cifar/train/10774_frog.png',\n",
       " './dataset/cifar/train/40334_airplane.png',\n",
       " './dataset/cifar/train/26164_airplane.png',\n",
       " './dataset/cifar/train/48653_airplane.png',\n",
       " './dataset/cifar/train/10317_ship.png',\n",
       " './dataset/cifar/train/66_deer.png',\n",
       " './dataset/cifar/train/5206_frog.png',\n",
       " './dataset/cifar/train/24565_cat.png',\n",
       " './dataset/cifar/train/25333_dog.png',\n",
       " './dataset/cifar/train/11704_horse.png',\n",
       " './dataset/cifar/train/16960_frog.png',\n",
       " './dataset/cifar/train/10979_deer.png',\n",
       " './dataset/cifar/train/36021_automobile.png',\n",
       " './dataset/cifar/train/44079_deer.png',\n",
       " './dataset/cifar/train/29122_truck.png',\n",
       " './dataset/cifar/train/1761_frog.png',\n",
       " './dataset/cifar/train/13860_airplane.png',\n",
       " './dataset/cifar/train/39546_truck.png',\n",
       " './dataset/cifar/train/42193_bird.png',\n",
       " './dataset/cifar/train/27182_horse.png',\n",
       " './dataset/cifar/train/40010_horse.png',\n",
       " './dataset/cifar/train/47374_deer.png',\n",
       " './dataset/cifar/train/29604_truck.png',\n",
       " './dataset/cifar/train/18672_ship.png',\n",
       " './dataset/cifar/train/37679_horse.png',\n",
       " './dataset/cifar/train/16855_automobile.png',\n",
       " './dataset/cifar/train/10042_ship.png',\n",
       " './dataset/cifar/train/28525_airplane.png',\n",
       " './dataset/cifar/train/8283_ship.png',\n",
       " './dataset/cifar/train/19224_bird.png',\n",
       " './dataset/cifar/train/9097_truck.png',\n",
       " './dataset/cifar/train/37569_deer.png',\n",
       " './dataset/cifar/train/9553_bird.png',\n",
       " './dataset/cifar/train/15654_bird.png',\n",
       " './dataset/cifar/train/37105_cat.png',\n",
       " './dataset/cifar/train/23088_automobile.png',\n",
       " './dataset/cifar/train/47961_frog.png',\n",
       " './dataset/cifar/train/49001_truck.png',\n",
       " './dataset/cifar/train/34334_cat.png',\n",
       " './dataset/cifar/train/45933_cat.png',\n",
       " './dataset/cifar/train/2573_deer.png',\n",
       " './dataset/cifar/train/3797_deer.png',\n",
       " './dataset/cifar/train/42120_bird.png',\n",
       " './dataset/cifar/train/23984_airplane.png',\n",
       " './dataset/cifar/train/19440_bird.png',\n",
       " './dataset/cifar/train/42177_dog.png',\n",
       " './dataset/cifar/train/35707_ship.png',\n",
       " './dataset/cifar/train/47813_deer.png',\n",
       " './dataset/cifar/train/44656_deer.png',\n",
       " './dataset/cifar/train/23383_truck.png',\n",
       " './dataset/cifar/train/30427_frog.png',\n",
       " './dataset/cifar/train/32481_dog.png',\n",
       " './dataset/cifar/train/2455_automobile.png',\n",
       " './dataset/cifar/train/16531_airplane.png',\n",
       " './dataset/cifar/train/10640_deer.png',\n",
       " './dataset/cifar/train/19908_dog.png',\n",
       " './dataset/cifar/train/42836_frog.png',\n",
       " './dataset/cifar/train/4834_ship.png',\n",
       " './dataset/cifar/train/20927_frog.png',\n",
       " './dataset/cifar/train/3220_cat.png',\n",
       " './dataset/cifar/train/34446_horse.png',\n",
       " './dataset/cifar/train/401_airplane.png',\n",
       " './dataset/cifar/train/6137_automobile.png',\n",
       " './dataset/cifar/train/47317_airplane.png',\n",
       " './dataset/cifar/train/14836_automobile.png',\n",
       " './dataset/cifar/train/21351_cat.png',\n",
       " './dataset/cifar/train/28241_dog.png',\n",
       " './dataset/cifar/train/10481_horse.png',\n",
       " './dataset/cifar/train/25462_airplane.png',\n",
       " './dataset/cifar/train/32714_ship.png',\n",
       " './dataset/cifar/train/48763_cat.png',\n",
       " './dataset/cifar/train/45303_bird.png',\n",
       " './dataset/cifar/train/46975_ship.png',\n",
       " './dataset/cifar/train/39996_automobile.png',\n",
       " './dataset/cifar/train/8342_airplane.png',\n",
       " './dataset/cifar/train/20890_deer.png',\n",
       " './dataset/cifar/train/19123_ship.png',\n",
       " './dataset/cifar/train/38989_bird.png',\n",
       " './dataset/cifar/train/47543_ship.png',\n",
       " './dataset/cifar/train/269_truck.png',\n",
       " './dataset/cifar/train/4751_frog.png',\n",
       " './dataset/cifar/train/28146_deer.png',\n",
       " './dataset/cifar/train/42618_airplane.png',\n",
       " './dataset/cifar/train/19253_ship.png',\n",
       " './dataset/cifar/train/11886_ship.png',\n",
       " './dataset/cifar/train/49435_automobile.png',\n",
       " './dataset/cifar/train/46934_airplane.png',\n",
       " './dataset/cifar/train/48513_deer.png',\n",
       " './dataset/cifar/train/19656_ship.png',\n",
       " './dataset/cifar/train/34645_truck.png',\n",
       " './dataset/cifar/train/31550_bird.png',\n",
       " './dataset/cifar/train/43863_truck.png',\n",
       " './dataset/cifar/train/8414_ship.png',\n",
       " './dataset/cifar/train/12048_frog.png',\n",
       " './dataset/cifar/train/2109_ship.png',\n",
       " './dataset/cifar/train/20836_dog.png',\n",
       " './dataset/cifar/train/17963_airplane.png',\n",
       " './dataset/cifar/train/12978_bird.png',\n",
       " './dataset/cifar/train/18866_frog.png',\n",
       " './dataset/cifar/train/29687_frog.png',\n",
       " './dataset/cifar/train/40210_deer.png',\n",
       " './dataset/cifar/train/4189_bird.png',\n",
       " './dataset/cifar/train/28902_dog.png',\n",
       " './dataset/cifar/train/33179_airplane.png',\n",
       " './dataset/cifar/train/49741_cat.png',\n",
       " './dataset/cifar/train/29313_cat.png',\n",
       " './dataset/cifar/train/41147_automobile.png',\n",
       " './dataset/cifar/train/22914_cat.png',\n",
       " './dataset/cifar/train/44403_dog.png',\n",
       " './dataset/cifar/train/40556_airplane.png',\n",
       " './dataset/cifar/train/29788_ship.png',\n",
       " './dataset/cifar/train/480_truck.png',\n",
       " './dataset/cifar/train/23257_frog.png',\n",
       " './dataset/cifar/train/21259_airplane.png',\n",
       " './dataset/cifar/train/9967_deer.png',\n",
       " './dataset/cifar/train/38761_cat.png',\n",
       " './dataset/cifar/train/48148_airplane.png',\n",
       " './dataset/cifar/train/47827_ship.png',\n",
       " './dataset/cifar/train/46911_dog.png',\n",
       " './dataset/cifar/train/37318_ship.png',\n",
       " './dataset/cifar/train/24042_truck.png',\n",
       " './dataset/cifar/train/33270_bird.png',\n",
       " './dataset/cifar/train/25834_deer.png',\n",
       " './dataset/cifar/train/44084_cat.png',\n",
       " './dataset/cifar/train/3260_deer.png',\n",
       " './dataset/cifar/train/16820_ship.png',\n",
       " './dataset/cifar/train/18985_dog.png',\n",
       " './dataset/cifar/train/39826_airplane.png',\n",
       " './dataset/cifar/train/37848_bird.png',\n",
       " './dataset/cifar/train/28937_automobile.png',\n",
       " './dataset/cifar/train/4466_ship.png',\n",
       " './dataset/cifar/train/1016_frog.png',\n",
       " './dataset/cifar/train/1071_horse.png',\n",
       " './dataset/cifar/train/16229_horse.png',\n",
       " './dataset/cifar/train/46686_bird.png',\n",
       " './dataset/cifar/train/45169_frog.png',\n",
       " './dataset/cifar/train/9277_truck.png',\n",
       " './dataset/cifar/train/12089_dog.png',\n",
       " './dataset/cifar/train/27016_dog.png',\n",
       " './dataset/cifar/train/25321_frog.png',\n",
       " './dataset/cifar/train/13353_horse.png',\n",
       " './dataset/cifar/train/22625_horse.png',\n",
       " './dataset/cifar/train/18902_automobile.png',\n",
       " './dataset/cifar/train/13709_horse.png',\n",
       " './dataset/cifar/train/45095_ship.png',\n",
       " './dataset/cifar/train/23184_dog.png',\n",
       " './dataset/cifar/train/25442_frog.png',\n",
       " './dataset/cifar/train/49308_airplane.png',\n",
       " './dataset/cifar/train/3687_deer.png',\n",
       " './dataset/cifar/train/25670_dog.png',\n",
       " './dataset/cifar/train/42161_ship.png',\n",
       " './dataset/cifar/train/44817_frog.png',\n",
       " './dataset/cifar/train/2324_cat.png',\n",
       " './dataset/cifar/train/5217_ship.png',\n",
       " './dataset/cifar/train/17030_automobile.png',\n",
       " './dataset/cifar/train/19592_ship.png',\n",
       " './dataset/cifar/train/10311_frog.png',\n",
       " './dataset/cifar/train/47667_cat.png',\n",
       " './dataset/cifar/train/41630_truck.png',\n",
       " './dataset/cifar/train/47106_airplane.png',\n",
       " './dataset/cifar/train/37081_automobile.png',\n",
       " './dataset/cifar/train/33737_dog.png',\n",
       " './dataset/cifar/train/13819_bird.png',\n",
       " './dataset/cifar/train/19787_cat.png',\n",
       " './dataset/cifar/train/11049_ship.png',\n",
       " './dataset/cifar/train/10765_deer.png',\n",
       " './dataset/cifar/train/6272_automobile.png',\n",
       " './dataset/cifar/train/22264_airplane.png',\n",
       " './dataset/cifar/train/45537_ship.png',\n",
       " './dataset/cifar/train/5824_bird.png',\n",
       " './dataset/cifar/train/37435_bird.png',\n",
       " './dataset/cifar/train/23129_truck.png',\n",
       " './dataset/cifar/train/23561_horse.png',\n",
       " './dataset/cifar/train/25926_automobile.png',\n",
       " './dataset/cifar/train/18215_airplane.png',\n",
       " './dataset/cifar/train/1791_deer.png',\n",
       " './dataset/cifar/train/33533_ship.png',\n",
       " './dataset/cifar/train/9794_cat.png',\n",
       " './dataset/cifar/train/35824_bird.png',\n",
       " './dataset/cifar/train/1736_automobile.png',\n",
       " './dataset/cifar/train/30001_frog.png',\n",
       " './dataset/cifar/train/33890_bird.png',\n",
       " './dataset/cifar/train/5300_truck.png',\n",
       " './dataset/cifar/train/22972_deer.png',\n",
       " './dataset/cifar/train/39828_automobile.png',\n",
       " './dataset/cifar/train/27040_truck.png',\n",
       " './dataset/cifar/train/48240_dog.png',\n",
       " './dataset/cifar/train/14544_frog.png',\n",
       " './dataset/cifar/train/26122_frog.png',\n",
       " './dataset/cifar/train/26123_cat.png',\n",
       " './dataset/cifar/train/446_cat.png',\n",
       " './dataset/cifar/train/40927_frog.png',\n",
       " './dataset/cifar/train/38442_cat.png',\n",
       " './dataset/cifar/train/48460_frog.png',\n",
       " './dataset/cifar/train/29894_automobile.png',\n",
       " './dataset/cifar/train/15445_frog.png',\n",
       " './dataset/cifar/train/5260_cat.png',\n",
       " './dataset/cifar/train/43993_airplane.png',\n",
       " './dataset/cifar/train/10229_automobile.png',\n",
       " './dataset/cifar/train/41736_automobile.png',\n",
       " './dataset/cifar/train/47522_horse.png',\n",
       " './dataset/cifar/train/12879_frog.png',\n",
       " './dataset/cifar/train/47793_ship.png',\n",
       " './dataset/cifar/train/5757_airplane.png',\n",
       " './dataset/cifar/train/32844_cat.png',\n",
       " './dataset/cifar/train/40779_dog.png',\n",
       " './dataset/cifar/train/8840_truck.png',\n",
       " './dataset/cifar/train/37253_automobile.png',\n",
       " './dataset/cifar/train/30524_bird.png',\n",
       " './dataset/cifar/train/17831_cat.png',\n",
       " './dataset/cifar/train/24673_frog.png',\n",
       " './dataset/cifar/train/19972_dog.png',\n",
       " './dataset/cifar/train/21031_bird.png',\n",
       " './dataset/cifar/train/27832_airplane.png',\n",
       " './dataset/cifar/train/49351_frog.png',\n",
       " './dataset/cifar/train/32247_airplane.png',\n",
       " './dataset/cifar/train/17050_horse.png',\n",
       " './dataset/cifar/train/25662_dog.png',\n",
       " './dataset/cifar/train/48236_horse.png',\n",
       " './dataset/cifar/train/2399_horse.png',\n",
       " './dataset/cifar/train/7260_dog.png',\n",
       " './dataset/cifar/train/29992_truck.png',\n",
       " './dataset/cifar/train/26518_truck.png',\n",
       " './dataset/cifar/train/46267_dog.png',\n",
       " './dataset/cifar/train/7602_deer.png',\n",
       " './dataset/cifar/train/701_bird.png',\n",
       " './dataset/cifar/train/32354_horse.png',\n",
       " './dataset/cifar/train/31143_deer.png',\n",
       " './dataset/cifar/train/13614_ship.png',\n",
       " './dataset/cifar/train/7329_ship.png',\n",
       " './dataset/cifar/train/27212_cat.png',\n",
       " './dataset/cifar/train/18260_truck.png',\n",
       " './dataset/cifar/train/21397_automobile.png',\n",
       " './dataset/cifar/train/2742_bird.png',\n",
       " './dataset/cifar/train/31263_horse.png',\n",
       " './dataset/cifar/train/6287_horse.png',\n",
       " './dataset/cifar/train/31808_frog.png',\n",
       " './dataset/cifar/train/31416_frog.png',\n",
       " './dataset/cifar/train/33546_cat.png',\n",
       " './dataset/cifar/train/38305_dog.png',\n",
       " './dataset/cifar/train/2499_horse.png',\n",
       " './dataset/cifar/train/4228_bird.png',\n",
       " './dataset/cifar/train/30139_bird.png',\n",
       " './dataset/cifar/train/27428_deer.png',\n",
       " './dataset/cifar/train/8816_frog.png',\n",
       " './dataset/cifar/train/18268_horse.png',\n",
       " './dataset/cifar/train/18880_bird.png',\n",
       " './dataset/cifar/train/29027_ship.png',\n",
       " './dataset/cifar/train/19975_ship.png',\n",
       " './dataset/cifar/train/40813_dog.png',\n",
       " './dataset/cifar/train/21479_ship.png',\n",
       " './dataset/cifar/train/13151_dog.png',\n",
       " './dataset/cifar/train/44862_frog.png',\n",
       " './dataset/cifar/train/37580_truck.png',\n",
       " './dataset/cifar/train/13553_ship.png',\n",
       " './dataset/cifar/train/25561_cat.png',\n",
       " './dataset/cifar/train/8489_ship.png',\n",
       " './dataset/cifar/train/12448_bird.png',\n",
       " './dataset/cifar/train/18613_dog.png',\n",
       " './dataset/cifar/train/45102_airplane.png',\n",
       " './dataset/cifar/train/17538_bird.png',\n",
       " './dataset/cifar/train/8915_deer.png',\n",
       " './dataset/cifar/train/41153_automobile.png',\n",
       " './dataset/cifar/train/3633_truck.png',\n",
       " './dataset/cifar/train/15793_cat.png',\n",
       " './dataset/cifar/train/19246_cat.png',\n",
       " './dataset/cifar/train/10964_automobile.png',\n",
       " './dataset/cifar/train/7345_dog.png',\n",
       " './dataset/cifar/train/15338_frog.png',\n",
       " './dataset/cifar/train/19944_bird.png',\n",
       " './dataset/cifar/train/43365_bird.png',\n",
       " './dataset/cifar/train/21532_bird.png',\n",
       " './dataset/cifar/train/15946_airplane.png',\n",
       " './dataset/cifar/train/8922_ship.png',\n",
       " './dataset/cifar/train/386_horse.png',\n",
       " './dataset/cifar/train/27375_airplane.png',\n",
       " './dataset/cifar/train/41538_bird.png',\n",
       " './dataset/cifar/train/43339_cat.png',\n",
       " './dataset/cifar/train/18519_horse.png',\n",
       " './dataset/cifar/train/24319_airplane.png',\n",
       " './dataset/cifar/train/42721_dog.png',\n",
       " './dataset/cifar/train/42576_airplane.png',\n",
       " './dataset/cifar/train/35896_ship.png',\n",
       " './dataset/cifar/train/33681_horse.png',\n",
       " './dataset/cifar/train/20320_dog.png',\n",
       " './dataset/cifar/train/47713_ship.png',\n",
       " './dataset/cifar/train/16509_ship.png',\n",
       " './dataset/cifar/train/23928_horse.png',\n",
       " './dataset/cifar/train/928_dog.png',\n",
       " './dataset/cifar/train/44114_ship.png',\n",
       " './dataset/cifar/train/42334_frog.png',\n",
       " './dataset/cifar/train/20584_airplane.png',\n",
       " './dataset/cifar/train/4973_deer.png',\n",
       " './dataset/cifar/train/15540_truck.png',\n",
       " './dataset/cifar/train/45351_cat.png',\n",
       " './dataset/cifar/train/39660_dog.png',\n",
       " './dataset/cifar/train/13572_ship.png',\n",
       " './dataset/cifar/train/7150_dog.png',\n",
       " './dataset/cifar/train/25052_bird.png',\n",
       " './dataset/cifar/train/8903_ship.png',\n",
       " './dataset/cifar/train/6038_truck.png',\n",
       " './dataset/cifar/train/7818_deer.png',\n",
       " './dataset/cifar/train/34813_automobile.png',\n",
       " './dataset/cifar/train/2958_automobile.png',\n",
       " './dataset/cifar/train/41140_frog.png',\n",
       " './dataset/cifar/train/37538_truck.png',\n",
       " './dataset/cifar/train/28274_automobile.png',\n",
       " './dataset/cifar/train/30594_frog.png',\n",
       " './dataset/cifar/train/27028_deer.png',\n",
       " './dataset/cifar/train/25445_dog.png',\n",
       " './dataset/cifar/train/7611_horse.png',\n",
       " './dataset/cifar/train/40709_horse.png',\n",
       " './dataset/cifar/train/39179_airplane.png',\n",
       " './dataset/cifar/train/7642_deer.png',\n",
       " './dataset/cifar/train/38095_cat.png',\n",
       " './dataset/cifar/train/22125_cat.png',\n",
       " './dataset/cifar/train/38081_ship.png',\n",
       " './dataset/cifar/train/39625_truck.png',\n",
       " './dataset/cifar/train/36604_cat.png',\n",
       " './dataset/cifar/train/32819_ship.png',\n",
       " './dataset/cifar/train/15348_deer.png',\n",
       " './dataset/cifar/train/28864_cat.png',\n",
       " './dataset/cifar/train/34583_horse.png',\n",
       " './dataset/cifar/train/26146_bird.png',\n",
       " './dataset/cifar/train/5162_cat.png',\n",
       " './dataset/cifar/train/28643_automobile.png',\n",
       " './dataset/cifar/train/49573_bird.png',\n",
       " './dataset/cifar/train/38367_horse.png',\n",
       " './dataset/cifar/train/28427_dog.png',\n",
       " './dataset/cifar/train/9152_cat.png',\n",
       " './dataset/cifar/train/25511_frog.png',\n",
       " './dataset/cifar/train/47079_deer.png',\n",
       " './dataset/cifar/train/8465_horse.png',\n",
       " './dataset/cifar/train/37351_frog.png',\n",
       " './dataset/cifar/train/37684_bird.png',\n",
       " './dataset/cifar/train/28805_automobile.png',\n",
       " './dataset/cifar/train/48085_cat.png',\n",
       " './dataset/cifar/train/29928_ship.png',\n",
       " './dataset/cifar/train/9108_ship.png',\n",
       " './dataset/cifar/train/9391_dog.png',\n",
       " './dataset/cifar/train/21231_airplane.png',\n",
       " './dataset/cifar/train/12398_bird.png',\n",
       " './dataset/cifar/train/24457_bird.png',\n",
       " './dataset/cifar/train/36460_frog.png',\n",
       " './dataset/cifar/train/24904_bird.png',\n",
       " './dataset/cifar/train/1249_airplane.png',\n",
       " './dataset/cifar/train/42423_horse.png',\n",
       " './dataset/cifar/train/127_truck.png',\n",
       " './dataset/cifar/train/17964_automobile.png',\n",
       " './dataset/cifar/train/2511_automobile.png',\n",
       " './dataset/cifar/train/1495_horse.png',\n",
       " './dataset/cifar/train/23091_truck.png',\n",
       " './dataset/cifar/train/22769_airplane.png',\n",
       " './dataset/cifar/train/27972_truck.png',\n",
       " './dataset/cifar/train/19827_cat.png',\n",
       " './dataset/cifar/train/32817_dog.png',\n",
       " './dataset/cifar/train/5498_horse.png',\n",
       " './dataset/cifar/train/542_dog.png',\n",
       " './dataset/cifar/train/29176_automobile.png',\n",
       " './dataset/cifar/train/1101_frog.png',\n",
       " './dataset/cifar/train/12929_automobile.png',\n",
       " './dataset/cifar/train/47473_airplane.png',\n",
       " './dataset/cifar/train/45188_airplane.png',\n",
       " './dataset/cifar/train/45470_automobile.png',\n",
       " './dataset/cifar/train/26592_airplane.png',\n",
       " './dataset/cifar/train/28511_truck.png',\n",
       " './dataset/cifar/train/28913_deer.png',\n",
       " './dataset/cifar/train/12130_airplane.png',\n",
       " './dataset/cifar/train/5546_ship.png',\n",
       " './dataset/cifar/train/29879_airplane.png',\n",
       " './dataset/cifar/train/16692_ship.png',\n",
       " './dataset/cifar/train/18793_horse.png',\n",
       " './dataset/cifar/train/48432_ship.png',\n",
       " './dataset/cifar/train/29798_frog.png',\n",
       " './dataset/cifar/train/40565_frog.png',\n",
       " './dataset/cifar/train/28185_airplane.png',\n",
       " './dataset/cifar/train/34551_dog.png',\n",
       " './dataset/cifar/train/44194_frog.png',\n",
       " './dataset/cifar/train/41441_deer.png',\n",
       " './dataset/cifar/train/18165_horse.png',\n",
       " './dataset/cifar/train/44598_automobile.png',\n",
       " './dataset/cifar/train/21338_airplane.png',\n",
       " './dataset/cifar/train/42357_cat.png',\n",
       " './dataset/cifar/train/15303_bird.png',\n",
       " './dataset/cifar/train/24222_deer.png',\n",
       " './dataset/cifar/train/48496_automobile.png',\n",
       " './dataset/cifar/train/858_horse.png',\n",
       " './dataset/cifar/train/21924_airplane.png',\n",
       " './dataset/cifar/train/38562_automobile.png',\n",
       " './dataset/cifar/train/37676_dog.png',\n",
       " './dataset/cifar/train/40045_horse.png',\n",
       " './dataset/cifar/train/27721_bird.png',\n",
       " './dataset/cifar/train/10303_deer.png',\n",
       " './dataset/cifar/train/42636_deer.png',\n",
       " './dataset/cifar/train/9857_automobile.png',\n",
       " './dataset/cifar/train/24118_cat.png',\n",
       " './dataset/cifar/train/9332_cat.png',\n",
       " './dataset/cifar/train/23724_dog.png',\n",
       " './dataset/cifar/train/24596_horse.png',\n",
       " './dataset/cifar/train/46501_bird.png',\n",
       " './dataset/cifar/train/8819_bird.png',\n",
       " './dataset/cifar/train/37078_airplane.png',\n",
       " './dataset/cifar/train/23881_frog.png',\n",
       " './dataset/cifar/train/39535_bird.png',\n",
       " './dataset/cifar/train/49420_airplane.png',\n",
       " './dataset/cifar/train/5947_automobile.png',\n",
       " './dataset/cifar/train/34604_deer.png',\n",
       " './dataset/cifar/train/25098_deer.png',\n",
       " './dataset/cifar/train/12132_deer.png',\n",
       " './dataset/cifar/train/7677_dog.png',\n",
       " './dataset/cifar/train/19095_automobile.png',\n",
       " './dataset/cifar/train/9506_deer.png',\n",
       " './dataset/cifar/train/17962_ship.png',\n",
       " './dataset/cifar/train/17742_frog.png',\n",
       " './dataset/cifar/train/16646_cat.png',\n",
       " './dataset/cifar/train/48747_frog.png',\n",
       " './dataset/cifar/train/16780_cat.png',\n",
       " './dataset/cifar/train/17582_bird.png',\n",
       " './dataset/cifar/train/25359_cat.png',\n",
       " './dataset/cifar/train/36761_cat.png',\n",
       " './dataset/cifar/train/9099_dog.png',\n",
       " './dataset/cifar/train/23239_cat.png',\n",
       " './dataset/cifar/train/36759_bird.png',\n",
       " './dataset/cifar/train/44371_dog.png',\n",
       " './dataset/cifar/train/12326_dog.png',\n",
       " './dataset/cifar/train/2524_truck.png',\n",
       " './dataset/cifar/train/34659_dog.png',\n",
       " './dataset/cifar/train/23556_dog.png',\n",
       " './dataset/cifar/train/26949_dog.png',\n",
       " './dataset/cifar/train/509_ship.png',\n",
       " './dataset/cifar/train/38381_ship.png',\n",
       " './dataset/cifar/train/5314_airplane.png',\n",
       " './dataset/cifar/train/2454_ship.png',\n",
       " './dataset/cifar/train/20747_dog.png',\n",
       " './dataset/cifar/train/36294_deer.png',\n",
       " './dataset/cifar/train/7076_horse.png',\n",
       " './dataset/cifar/train/6913_cat.png',\n",
       " './dataset/cifar/train/23502_frog.png',\n",
       " './dataset/cifar/train/46406_automobile.png',\n",
       " './dataset/cifar/train/44372_truck.png',\n",
       " './dataset/cifar/train/16069_frog.png',\n",
       " './dataset/cifar/train/4198_bird.png',\n",
       " './dataset/cifar/train/10365_airplane.png',\n",
       " './dataset/cifar/train/26282_bird.png',\n",
       " './dataset/cifar/train/41900_airplane.png',\n",
       " './dataset/cifar/train/17701_automobile.png',\n",
       " './dataset/cifar/train/23630_frog.png',\n",
       " './dataset/cifar/train/32750_horse.png',\n",
       " './dataset/cifar/train/11546_automobile.png',\n",
       " './dataset/cifar/train/14180_bird.png',\n",
       " './dataset/cifar/train/44999_frog.png',\n",
       " './dataset/cifar/train/16622_bird.png',\n",
       " './dataset/cifar/train/12749_airplane.png',\n",
       " './dataset/cifar/train/33653_cat.png',\n",
       " './dataset/cifar/train/16253_airplane.png',\n",
       " './dataset/cifar/train/38326_airplane.png',\n",
       " './dataset/cifar/train/47572_horse.png',\n",
       " './dataset/cifar/train/31618_truck.png',\n",
       " './dataset/cifar/train/31111_dog.png',\n",
       " './dataset/cifar/train/26213_bird.png',\n",
       " './dataset/cifar/train/10297_airplane.png',\n",
       " './dataset/cifar/train/18317_dog.png',\n",
       " './dataset/cifar/train/22161_cat.png',\n",
       " './dataset/cifar/train/26812_deer.png',\n",
       " './dataset/cifar/train/18762_dog.png',\n",
       " './dataset/cifar/train/20364_horse.png',\n",
       " './dataset/cifar/train/11323_horse.png',\n",
       " './dataset/cifar/train/35870_bird.png',\n",
       " './dataset/cifar/train/35613_automobile.png',\n",
       " './dataset/cifar/train/1834_cat.png',\n",
       " './dataset/cifar/train/45008_truck.png',\n",
       " './dataset/cifar/train/4860_ship.png',\n",
       " './dataset/cifar/train/31354_ship.png',\n",
       " './dataset/cifar/train/11992_bird.png',\n",
       " './dataset/cifar/train/19391_horse.png',\n",
       " './dataset/cifar/train/27232_horse.png',\n",
       " './dataset/cifar/train/7916_frog.png',\n",
       " './dataset/cifar/train/45669_horse.png',\n",
       " './dataset/cifar/train/46415_deer.png',\n",
       " './dataset/cifar/train/37643_ship.png',\n",
       " './dataset/cifar/train/30308_dog.png',\n",
       " './dataset/cifar/train/44352_truck.png',\n",
       " './dataset/cifar/train/49490_airplane.png',\n",
       " './dataset/cifar/train/27224_dog.png',\n",
       " './dataset/cifar/train/34017_airplane.png',\n",
       " './dataset/cifar/train/21764_ship.png',\n",
       " './dataset/cifar/train/29091_truck.png',\n",
       " './dataset/cifar/train/8921_horse.png',\n",
       " './dataset/cifar/train/49201_ship.png',\n",
       " './dataset/cifar/train/33794_truck.png',\n",
       " './dataset/cifar/train/14393_airplane.png',\n",
       " './dataset/cifar/train/12981_automobile.png',\n",
       " './dataset/cifar/train/40286_deer.png',\n",
       " './dataset/cifar/train/25574_airplane.png',\n",
       " './dataset/cifar/train/15508_deer.png',\n",
       " './dataset/cifar/train/43101_ship.png',\n",
       " './dataset/cifar/train/25844_frog.png',\n",
       " './dataset/cifar/train/42195_cat.png',\n",
       " './dataset/cifar/train/35562_ship.png',\n",
       " './dataset/cifar/train/28240_horse.png',\n",
       " './dataset/cifar/train/39043_truck.png',\n",
       " './dataset/cifar/train/42725_deer.png',\n",
       " './dataset/cifar/train/5229_deer.png',\n",
       " './dataset/cifar/train/41019_airplane.png',\n",
       " './dataset/cifar/train/22905_cat.png',\n",
       " './dataset/cifar/train/33072_ship.png',\n",
       " './dataset/cifar/train/45437_bird.png',\n",
       " './dataset/cifar/train/25090_horse.png',\n",
       " './dataset/cifar/train/10687_horse.png',\n",
       " './dataset/cifar/train/44333_ship.png',\n",
       " './dataset/cifar/train/15402_frog.png',\n",
       " './dataset/cifar/train/37650_automobile.png',\n",
       " './dataset/cifar/train/5540_bird.png',\n",
       " './dataset/cifar/train/14686_horse.png',\n",
       " './dataset/cifar/train/25554_horse.png',\n",
       " './dataset/cifar/train/30136_automobile.png',\n",
       " './dataset/cifar/train/16800_automobile.png',\n",
       " './dataset/cifar/train/5409_frog.png',\n",
       " './dataset/cifar/train/30592_horse.png',\n",
       " './dataset/cifar/train/38366_dog.png',\n",
       " './dataset/cifar/train/33801_cat.png',\n",
       " './dataset/cifar/train/20785_deer.png',\n",
       " './dataset/cifar/train/38253_dog.png',\n",
       " './dataset/cifar/train/46498_ship.png',\n",
       " './dataset/cifar/train/13152_automobile.png',\n",
       " './dataset/cifar/train/38218_ship.png',\n",
       " './dataset/cifar/train/36928_truck.png',\n",
       " './dataset/cifar/train/37019_horse.png',\n",
       " './dataset/cifar/train/18863_bird.png',\n",
       " './dataset/cifar/train/32948_horse.png',\n",
       " './dataset/cifar/train/26765_bird.png',\n",
       " './dataset/cifar/train/37140_frog.png',\n",
       " './dataset/cifar/train/21100_horse.png',\n",
       " './dataset/cifar/train/4391_frog.png',\n",
       " './dataset/cifar/train/49638_dog.png',\n",
       " './dataset/cifar/train/43694_deer.png',\n",
       " './dataset/cifar/train/3267_truck.png',\n",
       " './dataset/cifar/train/11326_bird.png',\n",
       " './dataset/cifar/train/25224_automobile.png',\n",
       " './dataset/cifar/train/13183_deer.png',\n",
       " './dataset/cifar/train/7290_cat.png',\n",
       " './dataset/cifar/train/24336_automobile.png',\n",
       " './dataset/cifar/train/37185_bird.png',\n",
       " './dataset/cifar/train/8901_horse.png',\n",
       " './dataset/cifar/train/7798_horse.png',\n",
       " './dataset/cifar/train/23848_airplane.png',\n",
       " './dataset/cifar/train/7452_bird.png',\n",
       " './dataset/cifar/train/3170_ship.png',\n",
       " './dataset/cifar/train/40295_horse.png',\n",
       " './dataset/cifar/train/25594_horse.png',\n",
       " './dataset/cifar/train/2884_dog.png',\n",
       " './dataset/cifar/train/38890_horse.png',\n",
       " './dataset/cifar/train/37761_airplane.png',\n",
       " './dataset/cifar/train/21157_ship.png',\n",
       " './dataset/cifar/train/29612_bird.png',\n",
       " './dataset/cifar/train/19507_horse.png',\n",
       " './dataset/cifar/train/28397_bird.png',\n",
       " './dataset/cifar/train/17052_truck.png',\n",
       " './dataset/cifar/train/19984_frog.png',\n",
       " './dataset/cifar/train/24259_horse.png',\n",
       " './dataset/cifar/train/46178_truck.png',\n",
       " './dataset/cifar/train/2379_truck.png',\n",
       " './dataset/cifar/train/4839_deer.png',\n",
       " './dataset/cifar/train/34495_bird.png',\n",
       " './dataset/cifar/train/38284_horse.png',\n",
       " './dataset/cifar/train/49162_horse.png',\n",
       " './dataset/cifar/train/25223_frog.png',\n",
       " './dataset/cifar/train/27692_ship.png',\n",
       " './dataset/cifar/train/39767_horse.png',\n",
       " './dataset/cifar/train/10632_dog.png',\n",
       " './dataset/cifar/train/39706_dog.png',\n",
       " './dataset/cifar/train/20064_ship.png',\n",
       " './dataset/cifar/train/36909_airplane.png',\n",
       " './dataset/cifar/train/11917_frog.png',\n",
       " './dataset/cifar/train/21816_horse.png',\n",
       " './dataset/cifar/train/30561_deer.png',\n",
       " './dataset/cifar/train/5408_truck.png',\n",
       " './dataset/cifar/train/15789_bird.png',\n",
       " './dataset/cifar/train/31873_horse.png',\n",
       " './dataset/cifar/train/11752_cat.png',\n",
       " './dataset/cifar/train/46942_horse.png',\n",
       " './dataset/cifar/train/13057_dog.png',\n",
       " './dataset/cifar/train/9943_cat.png',\n",
       " './dataset/cifar/train/15243_deer.png',\n",
       " './dataset/cifar/train/16665_horse.png',\n",
       " './dataset/cifar/train/15759_ship.png',\n",
       " './dataset/cifar/train/8688_deer.png',\n",
       " './dataset/cifar/train/14554_cat.png',\n",
       " './dataset/cifar/train/9508_automobile.png',\n",
       " './dataset/cifar/train/39057_frog.png',\n",
       " './dataset/cifar/train/45247_frog.png',\n",
       " './dataset/cifar/train/36684_truck.png',\n",
       " './dataset/cifar/train/8760_cat.png',\n",
       " './dataset/cifar/train/450_dog.png',\n",
       " './dataset/cifar/train/14605_cat.png',\n",
       " './dataset/cifar/train/25724_horse.png',\n",
       " './dataset/cifar/train/8687_horse.png',\n",
       " './dataset/cifar/train/15241_ship.png',\n",
       " './dataset/cifar/train/29475_ship.png',\n",
       " './dataset/cifar/train/9494_automobile.png',\n",
       " './dataset/cifar/train/9236_airplane.png',\n",
       " './dataset/cifar/train/12329_cat.png',\n",
       " './dataset/cifar/train/2608_horse.png',\n",
       " './dataset/cifar/train/6295_automobile.png',\n",
       " './dataset/cifar/train/16288_bird.png',\n",
       " './dataset/cifar/train/44506_dog.png',\n",
       " './dataset/cifar/train/49226_horse.png',\n",
       " './dataset/cifar/train/19356_truck.png',\n",
       " './dataset/cifar/train/2163_bird.png',\n",
       " './dataset/cifar/train/29763_automobile.png',\n",
       " './dataset/cifar/train/32565_frog.png',\n",
       " './dataset/cifar/train/25346_deer.png',\n",
       " './dataset/cifar/train/1696_cat.png',\n",
       " './dataset/cifar/train/38165_dog.png',\n",
       " './dataset/cifar/train/44561_dog.png',\n",
       " './dataset/cifar/train/40122_ship.png',\n",
       " './dataset/cifar/train/32322_ship.png',\n",
       " './dataset/cifar/train/2438_ship.png',\n",
       " './dataset/cifar/train/32514_horse.png',\n",
       " './dataset/cifar/train/7698_truck.png',\n",
       " './dataset/cifar/train/22407_dog.png',\n",
       " './dataset/cifar/train/33166_dog.png',\n",
       " './dataset/cifar/train/8842_airplane.png',\n",
       " './dataset/cifar/train/17013_ship.png',\n",
       " './dataset/cifar/train/627_ship.png',\n",
       " './dataset/cifar/train/34006_truck.png',\n",
       " './dataset/cifar/train/12481_ship.png',\n",
       " './dataset/cifar/train/42180_bird.png',\n",
       " './dataset/cifar/train/26689_cat.png',\n",
       " './dataset/cifar/train/7008_bird.png',\n",
       " './dataset/cifar/train/28672_frog.png',\n",
       " './dataset/cifar/train/43370_horse.png',\n",
       " './dataset/cifar/train/45561_horse.png',\n",
       " './dataset/cifar/train/37664_airplane.png',\n",
       " './dataset/cifar/train/8182_bird.png',\n",
       " './dataset/cifar/train/29230_automobile.png',\n",
       " './dataset/cifar/train/26554_cat.png',\n",
       " './dataset/cifar/train/21888_automobile.png',\n",
       " './dataset/cifar/train/45277_bird.png',\n",
       " './dataset/cifar/train/32045_bird.png',\n",
       " './dataset/cifar/train/17657_bird.png',\n",
       " './dataset/cifar/train/11997_deer.png',\n",
       " './dataset/cifar/train/9703_dog.png',\n",
       " './dataset/cifar/train/23509_ship.png',\n",
       " './dataset/cifar/train/22143_cat.png',\n",
       " './dataset/cifar/train/43890_dog.png',\n",
       " './dataset/cifar/train/7619_deer.png',\n",
       " './dataset/cifar/train/107_dog.png',\n",
       " './dataset/cifar/train/15987_dog.png',\n",
       " './dataset/cifar/train/31142_frog.png',\n",
       " './dataset/cifar/train/25176_ship.png',\n",
       " './dataset/cifar/train/42014_bird.png',\n",
       " './dataset/cifar/train/40311_automobile.png',\n",
       " './dataset/cifar/train/12306_automobile.png',\n",
       " './dataset/cifar/train/10533_truck.png',\n",
       " './dataset/cifar/train/49716_automobile.png',\n",
       " './dataset/cifar/train/42135_ship.png',\n",
       " './dataset/cifar/train/30661_automobile.png',\n",
       " './dataset/cifar/train/32193_frog.png',\n",
       " './dataset/cifar/train/28550_dog.png',\n",
       " './dataset/cifar/train/16595_truck.png',\n",
       " './dataset/cifar/train/12564_dog.png',\n",
       " './dataset/cifar/train/4105_frog.png',\n",
       " './dataset/cifar/train/25336_ship.png',\n",
       " './dataset/cifar/train/29212_automobile.png',\n",
       " './dataset/cifar/train/6543_airplane.png',\n",
       " './dataset/cifar/train/32292_truck.png',\n",
       " './dataset/cifar/train/17482_ship.png',\n",
       " './dataset/cifar/train/1265_cat.png',\n",
       " './dataset/cifar/train/26901_horse.png',\n",
       " './dataset/cifar/train/19190_truck.png',\n",
       " './dataset/cifar/train/26648_bird.png',\n",
       " './dataset/cifar/train/11335_bird.png',\n",
       " './dataset/cifar/train/20674_automobile.png',\n",
       " './dataset/cifar/train/5752_ship.png',\n",
       " './dataset/cifar/train/47991_airplane.png',\n",
       " './dataset/cifar/train/8353_dog.png',\n",
       " './dataset/cifar/train/29777_automobile.png',\n",
       " './dataset/cifar/train/8578_airplane.png',\n",
       " './dataset/cifar/train/1869_automobile.png',\n",
       " './dataset/cifar/train/35534_dog.png',\n",
       " './dataset/cifar/train/24769_deer.png',\n",
       " './dataset/cifar/train/43072_cat.png',\n",
       " './dataset/cifar/train/28636_airplane.png',\n",
       " './dataset/cifar/train/33001_dog.png',\n",
       " './dataset/cifar/train/28609_cat.png',\n",
       " './dataset/cifar/train/18012_airplane.png',\n",
       " './dataset/cifar/train/46098_horse.png',\n",
       " './dataset/cifar/train/9862_frog.png',\n",
       " './dataset/cifar/train/43576_cat.png',\n",
       " './dataset/cifar/train/19058_horse.png',\n",
       " './dataset/cifar/train/36732_automobile.png',\n",
       " './dataset/cifar/train/6072_horse.png',\n",
       " './dataset/cifar/train/18845_dog.png',\n",
       " './dataset/cifar/train/16304_ship.png',\n",
       " './dataset/cifar/train/48610_automobile.png',\n",
       " './dataset/cifar/train/11375_dog.png',\n",
       " './dataset/cifar/train/15087_airplane.png',\n",
       " './dataset/cifar/train/46338_airplane.png',\n",
       " './dataset/cifar/train/40810_truck.png',\n",
       " './dataset/cifar/train/48486_horse.png',\n",
       " './dataset/cifar/train/42081_automobile.png',\n",
       " './dataset/cifar/train/48651_bird.png',\n",
       " './dataset/cifar/train/18859_automobile.png',\n",
       " './dataset/cifar/train/45817_horse.png',\n",
       " './dataset/cifar/train/36711_deer.png',\n",
       " './dataset/cifar/train/26832_truck.png',\n",
       " './dataset/cifar/train/37466_deer.png',\n",
       " './dataset/cifar/train/34840_deer.png',\n",
       " './dataset/cifar/train/10558_cat.png',\n",
       " './dataset/cifar/train/3947_frog.png',\n",
       " './dataset/cifar/train/30046_dog.png',\n",
       " './dataset/cifar/train/16422_ship.png',\n",
       " './dataset/cifar/train/46077_deer.png',\n",
       " './dataset/cifar/train/7824_frog.png',\n",
       " './dataset/cifar/train/49713_cat.png',\n",
       " './dataset/cifar/train/48384_bird.png',\n",
       " './dataset/cifar/train/9346_ship.png',\n",
       " './dataset/cifar/train/21438_frog.png',\n",
       " './dataset/cifar/train/47276_frog.png',\n",
       " './dataset/cifar/train/8520_cat.png',\n",
       " './dataset/cifar/train/32546_horse.png',\n",
       " './dataset/cifar/train/16501_airplane.png',\n",
       " './dataset/cifar/train/41117_cat.png',\n",
       " './dataset/cifar/train/35056_horse.png',\n",
       " './dataset/cifar/train/21606_cat.png',\n",
       " './dataset/cifar/train/26834_frog.png',\n",
       " './dataset/cifar/train/8091_frog.png',\n",
       " './dataset/cifar/train/45337_horse.png',\n",
       " './dataset/cifar/train/46307_frog.png',\n",
       " './dataset/cifar/train/30428_airplane.png',\n",
       " './dataset/cifar/train/30711_dog.png',\n",
       " './dataset/cifar/train/49077_deer.png',\n",
       " './dataset/cifar/train/3438_airplane.png',\n",
       " './dataset/cifar/train/43195_automobile.png',\n",
       " './dataset/cifar/train/13781_dog.png',\n",
       " './dataset/cifar/train/8828_frog.png',\n",
       " './dataset/cifar/train/6126_bird.png',\n",
       " './dataset/cifar/train/8846_cat.png',\n",
       " './dataset/cifar/train/30976_frog.png',\n",
       " './dataset/cifar/train/28941_automobile.png',\n",
       " './dataset/cifar/train/15661_airplane.png',\n",
       " './dataset/cifar/train/36150_dog.png',\n",
       " './dataset/cifar/train/19033_deer.png',\n",
       " './dataset/cifar/train/7310_ship.png',\n",
       " './dataset/cifar/train/7465_bird.png',\n",
       " './dataset/cifar/train/46011_deer.png',\n",
       " './dataset/cifar/train/24254_bird.png',\n",
       " './dataset/cifar/train/22875_airplane.png',\n",
       " './dataset/cifar/train/7299_airplane.png',\n",
       " './dataset/cifar/train/47186_ship.png',\n",
       " './dataset/cifar/train/14082_deer.png',\n",
       " './dataset/cifar/train/26138_dog.png',\n",
       " './dataset/cifar/train/30259_frog.png',\n",
       " './dataset/cifar/train/25294_frog.png',\n",
       " './dataset/cifar/train/39586_truck.png',\n",
       " './dataset/cifar/train/21244_horse.png',\n",
       " './dataset/cifar/train/11507_dog.png',\n",
       " './dataset/cifar/train/33907_automobile.png',\n",
       " './dataset/cifar/train/23921_automobile.png',\n",
       " './dataset/cifar/train/43868_dog.png',\n",
       " './dataset/cifar/train/35290_horse.png',\n",
       " './dataset/cifar/train/32560_ship.png',\n",
       " './dataset/cifar/train/7911_frog.png',\n",
       " './dataset/cifar/train/47483_airplane.png',\n",
       " './dataset/cifar/train/29900_horse.png',\n",
       " './dataset/cifar/train/2171_airplane.png',\n",
       " './dataset/cifar/train/21436_dog.png',\n",
       " './dataset/cifar/train/8417_deer.png',\n",
       " './dataset/cifar/train/11179_automobile.png',\n",
       " './dataset/cifar/train/36420_deer.png',\n",
       " './dataset/cifar/train/43156_dog.png',\n",
       " './dataset/cifar/train/10173_frog.png',\n",
       " './dataset/cifar/train/15630_ship.png',\n",
       " './dataset/cifar/train/250_automobile.png',\n",
       " './dataset/cifar/train/8496_dog.png',\n",
       " './dataset/cifar/train/49145_frog.png',\n",
       " './dataset/cifar/train/43071_dog.png',\n",
       " './dataset/cifar/train/16836_airplane.png',\n",
       " './dataset/cifar/train/42942_bird.png',\n",
       " './dataset/cifar/train/32250_cat.png',\n",
       " './dataset/cifar/train/10793_truck.png',\n",
       " './dataset/cifar/train/24384_cat.png',\n",
       " './dataset/cifar/train/41971_airplane.png',\n",
       " './dataset/cifar/train/10410_dog.png',\n",
       " './dataset/cifar/train/4417_frog.png',\n",
       " './dataset/cifar/train/30646_automobile.png',\n",
       " './dataset/cifar/train/39837_truck.png',\n",
       " './dataset/cifar/train/1197_horse.png',\n",
       " './dataset/cifar/train/17746_automobile.png',\n",
       " './dataset/cifar/train/8605_horse.png',\n",
       " './dataset/cifar/train/46977_cat.png',\n",
       " './dataset/cifar/train/12374_frog.png',\n",
       " './dataset/cifar/train/11549_truck.png',\n",
       " './dataset/cifar/train/33595_frog.png',\n",
       " './dataset/cifar/train/35920_frog.png',\n",
       " './dataset/cifar/train/3120_automobile.png',\n",
       " './dataset/cifar/train/12184_dog.png',\n",
       " './dataset/cifar/train/31211_deer.png',\n",
       " './dataset/cifar/train/30134_dog.png',\n",
       " './dataset/cifar/train/27508_frog.png',\n",
       " './dataset/cifar/train/47762_ship.png',\n",
       " './dataset/cifar/train/42246_truck.png',\n",
       " './dataset/cifar/train/39088_horse.png',\n",
       " './dataset/cifar/train/13063_truck.png',\n",
       " './dataset/cifar/train/15638_bird.png',\n",
       " './dataset/cifar/train/27320_horse.png',\n",
       " './dataset/cifar/train/21692_horse.png',\n",
       " './dataset/cifar/train/30266_cat.png',\n",
       " './dataset/cifar/train/43976_automobile.png',\n",
       " './dataset/cifar/train/31966_ship.png',\n",
       " './dataset/cifar/train/48395_dog.png',\n",
       " './dataset/cifar/train/33124_ship.png',\n",
       " './dataset/cifar/train/43478_bird.png',\n",
       " './dataset/cifar/train/1681_automobile.png',\n",
       " './dataset/cifar/train/14321_cat.png',\n",
       " './dataset/cifar/train/33152_bird.png',\n",
       " './dataset/cifar/train/11137_bird.png',\n",
       " './dataset/cifar/train/963_bird.png',\n",
       " './dataset/cifar/train/5630_ship.png',\n",
       " './dataset/cifar/train/41098_dog.png',\n",
       " './dataset/cifar/train/29503_bird.png',\n",
       " './dataset/cifar/train/29128_deer.png',\n",
       " './dataset/cifar/train/5012_bird.png',\n",
       " './dataset/cifar/train/95_frog.png',\n",
       " './dataset/cifar/train/41047_ship.png',\n",
       " './dataset/cifar/train/27226_horse.png',\n",
       " './dataset/cifar/train/21952_cat.png',\n",
       " './dataset/cifar/train/6843_bird.png',\n",
       " './dataset/cifar/train/36275_cat.png',\n",
       " './dataset/cifar/train/33411_frog.png',\n",
       " './dataset/cifar/train/41830_frog.png',\n",
       " './dataset/cifar/train/25222_bird.png',\n",
       " './dataset/cifar/train/48177_horse.png',\n",
       " './dataset/cifar/train/18152_horse.png',\n",
       " './dataset/cifar/train/11170_truck.png',\n",
       " './dataset/cifar/train/21342_ship.png',\n",
       " './dataset/cifar/train/6352_dog.png',\n",
       " './dataset/cifar/train/42993_bird.png',\n",
       " './dataset/cifar/train/25809_horse.png',\n",
       " './dataset/cifar/train/41112_ship.png',\n",
       " './dataset/cifar/train/13098_automobile.png',\n",
       " './dataset/cifar/train/30033_frog.png',\n",
       " './dataset/cifar/train/35419_ship.png',\n",
       " './dataset/cifar/train/30550_ship.png',\n",
       " './dataset/cifar/train/46739_ship.png',\n",
       " './dataset/cifar/train/12319_ship.png',\n",
       " './dataset/cifar/train/43546_frog.png',\n",
       " './dataset/cifar/train/47976_frog.png',\n",
       " './dataset/cifar/train/20589_bird.png',\n",
       " './dataset/cifar/train/31915_ship.png',\n",
       " './dataset/cifar/train/12938_ship.png',\n",
       " './dataset/cifar/train/9227_bird.png',\n",
       " './dataset/cifar/train/29363_bird.png',\n",
       " './dataset/cifar/train/27577_frog.png',\n",
       " './dataset/cifar/train/43352_cat.png',\n",
       " './dataset/cifar/train/21768_deer.png',\n",
       " './dataset/cifar/train/40574_truck.png',\n",
       " './dataset/cifar/train/41027_cat.png',\n",
       " './dataset/cifar/train/30604_airplane.png',\n",
       " './dataset/cifar/train/22479_automobile.png',\n",
       " './dataset/cifar/train/41725_cat.png',\n",
       " './dataset/cifar/train/14157_bird.png',\n",
       " './dataset/cifar/train/39343_frog.png',\n",
       " './dataset/cifar/train/19503_airplane.png',\n",
       " './dataset/cifar/train/19021_dog.png',\n",
       " './dataset/cifar/train/40768_airplane.png',\n",
       " './dataset/cifar/train/18787_cat.png',\n",
       " './dataset/cifar/train/46555_cat.png',\n",
       " './dataset/cifar/train/5677_deer.png',\n",
       " './dataset/cifar/train/36941_automobile.png',\n",
       " './dataset/cifar/train/24953_dog.png',\n",
       " './dataset/cifar/train/14812_bird.png',\n",
       " './dataset/cifar/train/19798_frog.png',\n",
       " './dataset/cifar/train/2417_ship.png',\n",
       " './dataset/cifar/train/20318_bird.png',\n",
       " './dataset/cifar/train/20947_truck.png',\n",
       " './dataset/cifar/train/17709_truck.png',\n",
       " './dataset/cifar/train/28934_bird.png',\n",
       " './dataset/cifar/train/7280_dog.png',\n",
       " './dataset/cifar/train/44825_frog.png',\n",
       " './dataset/cifar/train/35122_horse.png',\n",
       " './dataset/cifar/train/16912_airplane.png',\n",
       " './dataset/cifar/train/35608_airplane.png',\n",
       " './dataset/cifar/train/836_frog.png',\n",
       " './dataset/cifar/train/45586_deer.png',\n",
       " './dataset/cifar/train/19682_airplane.png',\n",
       " './dataset/cifar/train/34706_frog.png',\n",
       " './dataset/cifar/train/8264_bird.png',\n",
       " './dataset/cifar/train/28743_ship.png',\n",
       " './dataset/cifar/train/40807_airplane.png',\n",
       " './dataset/cifar/train/20913_ship.png',\n",
       " './dataset/cifar/train/37958_dog.png',\n",
       " './dataset/cifar/train/49930_airplane.png',\n",
       " './dataset/cifar/train/37599_deer.png',\n",
       " './dataset/cifar/train/14569_bird.png',\n",
       " './dataset/cifar/train/13616_ship.png',\n",
       " './dataset/cifar/train/19322_frog.png',\n",
       " './dataset/cifar/train/32809_bird.png',\n",
       " './dataset/cifar/train/33138_dog.png',\n",
       " './dataset/cifar/train/8242_airplane.png',\n",
       " './dataset/cifar/train/35596_bird.png',\n",
       " './dataset/cifar/train/39267_ship.png',\n",
       " './dataset/cifar/train/20746_automobile.png',\n",
       " './dataset/cifar/train/38312_airplane.png',\n",
       " './dataset/cifar/train/29103_frog.png',\n",
       " './dataset/cifar/train/32362_frog.png',\n",
       " './dataset/cifar/train/46728_bird.png',\n",
       " ...]"
      ]
     },
     "execution_count": 3,
     "metadata": {},
     "output_type": "execute_result"
    }
   ],
   "source": [
    "data_paths = glob('./dataset/cifar/train/*.png')\n",
    "data_paths"
   ]
  },
  {
   "cell_type": "code",
   "execution_count": 4,
   "metadata": {},
   "outputs": [
    {
     "data": {
      "text/plain": [
       "'./dataset/cifar/train/23927_frog.png'"
      ]
     },
     "execution_count": 4,
     "metadata": {},
     "output_type": "execute_result"
    }
   ],
   "source": [
    "path = data_paths[0]\n",
    "path"
   ]
  },
  {
   "cell_type": "code",
   "execution_count": 5,
   "metadata": {},
   "outputs": [],
   "source": [
    "gfile = tf.io.read_file(path)\n",
    "image = tf.io.decode_image(gfile)"
   ]
  },
  {
   "cell_type": "code",
   "execution_count": 6,
   "metadata": {},
   "outputs": [
    {
     "data": {
      "text/plain": [
       "TensorShape([32, 32, 3])"
      ]
     },
     "execution_count": 6,
     "metadata": {},
     "output_type": "execute_result"
    }
   ],
   "source": [
    "image.shape"
   ]
  },
  {
   "cell_type": "code",
   "execution_count": 8,
   "metadata": {},
   "outputs": [
    {
     "data": {
      "text/plain": [
       "<matplotlib.image.AxesImage at 0x7f64ce22af90>"
      ]
     },
     "execution_count": 8,
     "metadata": {},
     "output_type": "execute_result"
    },
    {
     "data": {
      "image/png": "[encoded data removed]",
      "text/plain": [
       "<Figure size 432x288 with 1 Axes>"
      ]
     },
     "metadata": {
      "needs_background": "light"
     },
     "output_type": "display_data"
    }
   ],
   "source": [
    "plt.title(os.path.basename(path))\n",
    "plt.imshow(image)"
   ]
  },
  {
   "cell_type": "markdown",
   "metadata": {},
   "source": [
    "# tf.data"
   ]
  },
  {
   "cell_type": "code",
   "execution_count": 9,
   "metadata": {},
   "outputs": [
    {
     "data": {
      "text/plain": [
       "['./dataset/cifar/train/23927_frog.png',\n",
       " './dataset/cifar/train/3442_deer.png',\n",
       " './dataset/cifar/train/11364_cat.png',\n",
       " './dataset/cifar/train/17265_dog.png',\n",
       " './dataset/cifar/train/36801_bird.png',\n",
       " './dataset/cifar/train/8324_bird.png',\n",
       " './dataset/cifar/train/15345_cat.png',\n",
       " './dataset/cifar/train/18061_dog.png',\n",
       " './dataset/cifar/train/19872_cat.png',\n",
       " './dataset/cifar/train/32396_frog.png']"
      ]
     },
     "execution_count": 9,
     "metadata": {},
     "output_type": "execute_result"
    }
   ],
   "source": [
    "data_paths[:10]"
   ]
  },
  {
   "cell_type": "code",
   "execution_count": 10,
   "metadata": {},
   "outputs": [],
   "source": [
    "def read_image(path):\n",
    "    gfile = tf.io.read_file(path)\n",
    "    image = tf.io.decode_image(gfile)\n",
    "    return image"
   ]
  },
  {
   "cell_type": "code",
   "execution_count": 12,
   "metadata": {},
   "outputs": [
    {
     "data": {
      "text/plain": [
       "<TensorSliceDataset shapes: (), types: tf.string>"
      ]
     },
     "execution_count": 12,
     "metadata": {},
     "output_type": "execute_result"
    }
   ],
   "source": [
    "dataset = tf.data.Dataset.from_tensor_slices(data_paths)\n",
    "dataset"
   ]
  },
  {
   "cell_type": "code",
   "execution_count": 13,
   "metadata": {},
   "outputs": [],
   "source": [
    "dataset = dataset.map(read_image)"
   ]
  },
  {
   "cell_type": "code",
   "execution_count": 14,
   "metadata": {},
   "outputs": [
    {
     "data": {
      "text/plain": [
       "TensorShape([32, 32, 3])"
      ]
     },
     "execution_count": 14,
     "metadata": {},
     "output_type": "execute_result"
    }
   ],
   "source": [
    "tf_image = next(iter(dataset))\n",
    "tf_image.shape"
   ]
  },
  {
   "cell_type": "code",
   "execution_count": 15,
   "metadata": {},
   "outputs": [
    {
     "data": {
      "text/plain": [
       "<matplotlib.image.AxesImage at 0x7f64c06e6ed0>"
      ]
     },
     "execution_count": 15,
     "metadata": {},
     "output_type": "execute_result"
    },
    {
     "data": {
      "image/png": "[encoded data removed]",
      "text/plain": [
       "<Figure size 432x288 with 1 Axes>"
      ]
     },
     "metadata": {
      "needs_background": "light"
     },
     "output_type": "display_data"
    }
   ],
   "source": [
    "plt.imshow(tf_image)"
   ]
  },
  {
   "cell_type": "markdown",
   "metadata": {},
   "source": [
    "## Batch로 묶기"
   ]
  },
  {
   "cell_type": "code",
   "execution_count": 16,
   "metadata": {},
   "outputs": [],
   "source": [
    "batch_size = 32"
   ]
  },
  {
   "cell_type": "code",
   "execution_count": 17,
   "metadata": {},
   "outputs": [],
   "source": [
    "dataset = tf.data.Dataset.from_tensor_slices(data_paths)\n",
    "dataset = dataset.map(read_image)\n",
    "dataset = dataset.batch(batch_size)"
   ]
  },
  {
   "cell_type": "code",
   "execution_count": 18,
   "metadata": {},
   "outputs": [],
   "source": [
    "tf_image = next(iter(dataset))"
   ]
  },
  {
   "cell_type": "code",
   "execution_count": 19,
   "metadata": {},
   "outputs": [
    {
     "data": {
      "text/plain": [
       "TensorShape([32, 32, 32, 3])"
      ]
     },
     "execution_count": 19,
     "metadata": {},
     "output_type": "execute_result"
    }
   ],
   "source": [
    "tf_image.shape"
   ]
  },
  {
   "cell_type": "code",
   "execution_count": 20,
   "metadata": {},
   "outputs": [
    {
     "data": {
      "text/plain": [
       "<matplotlib.image.AxesImage at 0x7f64c01ec310>"
      ]
     },
     "execution_count": 20,
     "metadata": {},
     "output_type": "execute_result"
    },
    {
     "data": {
      "image/png": "[encoded data removed]",
      "text/plain": [
       "<Figure size 432x288 with 1 Axes>"
      ]
     },
     "metadata": {
      "needs_background": "light"
     },
     "output_type": "display_data"
    }
   ],
   "source": [
    "plt.imshow(tf_image[0])"
   ]
  },
  {
   "cell_type": "markdown",
   "metadata": {},
   "source": [
    "## Shuffle 하기"
   ]
  },
  {
   "cell_type": "code",
   "execution_count": 21,
   "metadata": {},
   "outputs": [],
   "source": [
    "dataset = tf.data.Dataset.from_tensor_slices(data_paths)\n",
    "dataset = dataset.map(read_image)\n",
    "dataset = dataset.batch(batch_size)\n",
    "dataset = dataset.shuffle(buffer_size=len(data_paths))"
   ]
  },
  {
   "cell_type": "code",
   "execution_count": 25,
   "metadata": {},
   "outputs": [
    {
     "data": {
      "text/plain": [
       "<matplotlib.image.AxesImage at 0x7f64643a6490>"
      ]
     },
     "execution_count": 25,
     "metadata": {},
     "output_type": "execute_result"
    },
    {
     "data": {
      "image/png": "[encoded data removed]",
      "text/plain": [
       "<Figure size 432x288 with 1 Axes>"
      ]
     },
     "metadata": {
      "needs_background": "light"
     },
     "output_type": "display_data"
    }
   ],
   "source": [
    "tf_image = next(iter(dataset))\n",
    "\n",
    "plt.imshow(tf_image[0])"
   ]
  },
  {
   "cell_type": "code",
   "execution_count": 26,
   "metadata": {},
   "outputs": [
    {
     "data": {
      "text/plain": [
       "<matplotlib.image.AxesImage at 0x7f6464312110>"
      ]
     },
     "execution_count": 26,
     "metadata": {},
     "output_type": "execute_result"
    },
    {
     "data": {
      "image/png": "[encoded data removed]",
      "text/plain": [
       "<Figure size 432x288 with 1 Axes>"
      ]
     },
     "metadata": {
      "needs_background": "light"
     },
     "output_type": "display_data"
    }
   ],
   "source": [
    "tf_image = next(iter(dataset))\n",
    "\n",
    "plt.imshow(tf_image[0])"
   ]
  },
  {
   "cell_type": "markdown",
   "metadata": {},
   "source": [
    "## Label하고 같이 넣기 "
   ]
  },
  {
   "cell_type": "code",
   "execution_count": 27,
   "metadata": {},
   "outputs": [
    {
     "data": {
      "text/plain": [
       "'./dataset/cifar/train/23927_frog.png'"
      ]
     },
     "execution_count": 27,
     "metadata": {},
     "output_type": "execute_result"
    }
   ],
   "source": [
    "path"
   ]
  },
  {
   "cell_type": "code",
   "execution_count": 30,
   "metadata": {},
   "outputs": [
    {
     "data": {
      "text/plain": [
       "'frog'"
      ]
     },
     "execution_count": 30,
     "metadata": {},
     "output_type": "execute_result"
    }
   ],
   "source": [
    "class_name = path.split('_')[-1].replace('.png', '')\n",
    "class_name"
   ]
  },
  {
   "cell_type": "code",
   "execution_count": 31,
   "metadata": {},
   "outputs": [],
   "source": [
    "def get_label(path):\n",
    "    return path.split('_')[-1].replace('.png', '')"
   ]
  },
  {
   "cell_type": "code",
   "execution_count": 32,
   "metadata": {},
   "outputs": [
    {
     "data": {
      "text/plain": [
       "('./dataset/cifar/train/23927_frog.png', 'frog')"
      ]
     },
     "execution_count": 32,
     "metadata": {},
     "output_type": "execute_result"
    }
   ],
   "source": [
    "path, get_label(path)"
   ]
  },
  {
   "cell_type": "code",
   "execution_count": 33,
   "metadata": {},
   "outputs": [
    {
     "data": {
      "text/plain": [
       "['frog', 'deer', 'cat', 'dog', 'bird', 'bird', 'cat', 'dog', 'cat', 'frog']"
      ]
     },
     "execution_count": 33,
     "metadata": {},
     "output_type": "execute_result"
    }
   ],
   "source": [
    "label_names = [ get_label(path) for path in data_paths]\n",
    "label_names[:10]"
   ]
  },
  {
   "cell_type": "code",
   "execution_count": 34,
   "metadata": {},
   "outputs": [
    {
     "data": {
      "text/plain": [
       "array(['airplane', 'automobile', 'bird', 'cat', 'deer', 'dog', 'frog',\n",
       "       'horse', 'ship', 'truck'], dtype='<U10')"
      ]
     },
     "execution_count": 34,
     "metadata": {},
     "output_type": "execute_result"
    }
   ],
   "source": [
    "class_names = np.unique(label_names)\n",
    "class_names"
   ]
  },
  {
   "cell_type": "code",
   "execution_count": 35,
   "metadata": {},
   "outputs": [
    {
     "data": {
      "text/plain": [
       "array([False, False, False, False, False, False,  True, False, False,\n",
       "       False])"
      ]
     },
     "execution_count": 35,
     "metadata": {},
     "output_type": "execute_result"
    }
   ],
   "source": [
    "class_names == 'frog'"
   ]
  },
  {
   "cell_type": "code",
   "execution_count": 37,
   "metadata": {},
   "outputs": [
    {
     "data": {
      "text/plain": [
       "array([0, 0, 0, 0, 0, 0, 1, 0, 0, 0], dtype=uint8)"
      ]
     },
     "execution_count": 37,
     "metadata": {},
     "output_type": "execute_result"
    }
   ],
   "source": [
    "onehot_encoding = np.array(class_names=='frog', dtype=np.uint8)\n",
    "onehot_encoding"
   ]
  },
  {
   "cell_type": "code",
   "execution_count": 38,
   "metadata": {},
   "outputs": [],
   "source": [
    "def onehot_encoding(label):\n",
    "    return np.array(class_names == label, dtype=np.uint8)"
   ]
  },
  {
   "cell_type": "code",
   "execution_count": 39,
   "metadata": {},
   "outputs": [
    {
     "data": {
      "text/plain": [
       "['./dataset/cifar/train/23927_frog.png',\n",
       " './dataset/cifar/train/3442_deer.png',\n",
       " './dataset/cifar/train/11364_cat.png',\n",
       " './dataset/cifar/train/17265_dog.png',\n",
       " './dataset/cifar/train/36801_bird.png',\n",
       " './dataset/cifar/train/8324_bird.png',\n",
       " './dataset/cifar/train/15345_cat.png',\n",
       " './dataset/cifar/train/18061_dog.png',\n",
       " './dataset/cifar/train/19872_cat.png',\n",
       " './dataset/cifar/train/32396_frog.png']"
      ]
     },
     "execution_count": 39,
     "metadata": {},
     "output_type": "execute_result"
    }
   ],
   "source": [
    "data_paths[:10]"
   ]
  },
  {
   "cell_type": "code",
   "execution_count": 40,
   "metadata": {},
   "outputs": [
    {
     "data": {
      "text/plain": [
       "['frog', 'deer', 'cat', 'dog', 'bird', 'bird', 'cat', 'dog', 'cat', 'frog']"
      ]
     },
     "execution_count": 40,
     "metadata": {},
     "output_type": "execute_result"
    }
   ],
   "source": [
    "label_names[:10]"
   ]
  },
  {
   "cell_type": "code",
   "execution_count": 41,
   "metadata": {},
   "outputs": [],
   "source": [
    "def read_image_label(path, label):\n",
    "    gfile = tf.io.read_file(path)\n",
    "    image = tf.io.decode_image(gfile)\n",
    "    return image, label"
   ]
  },
  {
   "cell_type": "code",
   "execution_count": 42,
   "metadata": {},
   "outputs": [],
   "source": [
    "dataset = tf.data.Dataset.from_tensor_slices((data_paths, label_names))\n",
    "dataset = dataset.map(read_image_label)\n",
    "dataset = dataset.batch(batch_size)\n",
    "dataset = dataset.repeat()"
   ]
  },
  {
   "cell_type": "code",
   "execution_count": 43,
   "metadata": {},
   "outputs": [],
   "source": [
    "image, label = next(iter(dataset))"
   ]
  },
  {
   "cell_type": "code",
   "execution_count": 44,
   "metadata": {
    "scrolled": false
   },
   "outputs": [
    {
     "data": {
      "text/plain": [
       "(TensorShape([32, 32, 32, 3]), TensorShape([32]))"
      ]
     },
     "execution_count": 44,
     "metadata": {},
     "output_type": "execute_result"
    }
   ],
   "source": [
    "image.shape, label.shape"
   ]
  },
  {
   "cell_type": "code",
   "execution_count": 45,
   "metadata": {},
   "outputs": [
    {
     "data": {
      "text/plain": [
       "<tf.Tensor: id=479, shape=(), dtype=string, numpy=b'frog'>"
      ]
     },
     "execution_count": 45,
     "metadata": {},
     "output_type": "execute_result"
    }
   ],
   "source": [
    "label[0]"
   ]
  },
  {
   "cell_type": "code",
   "execution_count": 49,
   "metadata": {},
   "outputs": [
    {
     "data": {
      "text/plain": [
       "Text(0.5, 1.0, \"b'frog'\")"
      ]
     },
     "execution_count": 49,
     "metadata": {},
     "output_type": "execute_result"
    },
    {
     "data": {
      "image/png": "[encoded data removed]",
      "text/plain": [
       "<Figure size 432x288 with 1 Axes>"
      ]
     },
     "metadata": {
      "needs_background": "light"
     },
     "output_type": "display_data"
    }
   ],
   "source": [
    "plt.imshow(image[0])\n",
    "plt.title(label[0].numpy())"
   ]
  },
  {
   "cell_type": "code",
   "execution_count": 50,
   "metadata": {
    "scrolled": false
   },
   "outputs": [
    {
     "name": "stderr",
     "output_type": "stream",
     "text": [
      "/home/chanseok/anaconda3/lib/python3.7/site-packages/matplotlib/text.py:1150: FutureWarning: elementwise comparison failed; returning scalar instead, but in the future will perform elementwise comparison\n",
      "  if s != self._text:\n"
     ]
    },
    {
     "data": {
      "text/plain": [
       "Text(0.5, 1.0, '[0 0 0 0 1 0 0 0 0 0]')"
      ]
     },
     "execution_count": 50,
     "metadata": {},
     "output_type": "execute_result"
    },
    {
     "data": {
      "image/png": "[encoded data removed]",
      "text/plain": [
       "<Figure size 432x288 with 1 Axes>"
      ]
     },
     "metadata": {
      "needs_background": "light"
     },
     "output_type": "display_data"
    }
   ],
   "source": [
    "plt.imshow(image[1])\n",
    "plt.title(onehot_encoding(label[1]))"
   ]
  },
  {
   "cell_type": "markdown",
   "metadata": {},
   "source": [
    "## tensorflow 함수로 label 얻기"
   ]
  },
  {
   "cell_type": "code",
   "execution_count": 52,
   "metadata": {},
   "outputs": [
    {
     "data": {
      "text/plain": [
       "'./dataset/cifar/train/23927_frog.png'"
      ]
     },
     "execution_count": 52,
     "metadata": {},
     "output_type": "execute_result"
    }
   ],
   "source": [
    "path"
   ]
  },
  {
   "cell_type": "code",
   "execution_count": 54,
   "metadata": {},
   "outputs": [
    {
     "data": {
      "text/plain": [
       "array([0, 0, 0, 0, 0, 0, 1, 0, 0, 0], dtype=uint8)"
      ]
     },
     "execution_count": 54,
     "metadata": {},
     "output_type": "execute_result"
    }
   ],
   "source": [
    "onehot_encoding('frog')"
   ]
  },
  {
   "cell_type": "code",
   "execution_count": 56,
   "metadata": {},
   "outputs": [
    {
     "data": {
      "text/plain": [
       "<tf.Tensor: id=726, shape=(), dtype=string, numpy=b'frog.png'>"
      ]
     },
     "execution_count": 56,
     "metadata": {},
     "output_type": "execute_result"
    }
   ],
   "source": [
    "fname = tf.strings.split(path, '_')[-1]\n",
    "fname"
   ]
  },
  {
   "cell_type": "code",
   "execution_count": 57,
   "metadata": {},
   "outputs": [
    {
     "data": {
      "text/plain": [
       "<tf.Tensor: id=727, shape=(), dtype=string, numpy=b'frog'>"
      ]
     },
     "execution_count": 57,
     "metadata": {},
     "output_type": "execute_result"
    }
   ],
   "source": [
    "cls_name = tf.strings.regex_replace(fname, '.png', '')\n",
    "cls_name"
   ]
  },
  {
   "cell_type": "code",
   "execution_count": 58,
   "metadata": {},
   "outputs": [
    {
     "data": {
      "text/plain": [
       "array(['airplane', 'automobile', 'bird', 'cat', 'deer', 'dog', 'frog',\n",
       "       'horse', 'ship', 'truck'], dtype='<U10')"
      ]
     },
     "execution_count": 58,
     "metadata": {},
     "output_type": "execute_result"
    }
   ],
   "source": [
    "class_names"
   ]
  },
  {
   "cell_type": "code",
   "execution_count": 60,
   "metadata": {},
   "outputs": [
    {
     "data": {
      "text/plain": [
       "<tf.Tensor: id=729, shape=(10,), dtype=bool, numpy=\n",
       "array([False, False, False, False, False, False,  True, False, False,\n",
       "       False])>"
      ]
     },
     "execution_count": 60,
     "metadata": {},
     "output_type": "execute_result"
    }
   ],
   "source": [
    "class_names == cls_name"
   ]
  },
  {
   "cell_type": "code",
   "execution_count": 61,
   "metadata": {},
   "outputs": [
    {
     "data": {
      "text/plain": [
       "<tf.Tensor: id=732, shape=(10,), dtype=uint8, numpy=array([0, 0, 0, 0, 0, 0, 1, 0, 0, 0], dtype=uint8)>"
      ]
     },
     "execution_count": 61,
     "metadata": {},
     "output_type": "execute_result"
    }
   ],
   "source": [
    "onehot = tf.cast(class_names == cls_name, tf.uint8)\n",
    "onehot"
   ]
  },
  {
   "cell_type": "code",
   "execution_count": 62,
   "metadata": {},
   "outputs": [],
   "source": [
    "def get_label1(path):\n",
    "    fname = tf.strings.split(path, '_')[-1]\n",
    "    cls_name = tf.strings.regex_replace(fname, '.png', '')\n",
    "    onehot = tf.cast(class_names == cls_name, tf.uint8)\n",
    "    return onehot"
   ]
  },
  {
   "cell_type": "code",
   "execution_count": 65,
   "metadata": {},
   "outputs": [],
   "source": [
    "def read_image_label(path):\n",
    "    # read image\n",
    "    gfile = tf.io.read_file(path)\n",
    "    image = tf.io.decode_image(gfile)\n",
    "    \n",
    "    # get label\n",
    "    label = get_label1(path)\n",
    "    return image, label"
   ]
  },
  {
   "cell_type": "code",
   "execution_count": 66,
   "metadata": {},
   "outputs": [],
   "source": [
    "dataset = tf.data.Dataset.from_tensor_slices(data_paths)\n",
    "dataset = dataset.map(read_image_label)\n",
    "dataset = dataset.batch(batch_size)\n",
    "dataset = dataset.repeat()"
   ]
  },
  {
   "cell_type": "code",
   "execution_count": 67,
   "metadata": {},
   "outputs": [],
   "source": [
    "image, label = next(iter(dataset))"
   ]
  },
  {
   "cell_type": "code",
   "execution_count": 68,
   "metadata": {},
   "outputs": [
    {
     "data": {
      "text/plain": [
       "(TensorShape([32, 32, 32, 3]), TensorShape([32, 10]))"
      ]
     },
     "execution_count": 68,
     "metadata": {},
     "output_type": "execute_result"
    }
   ],
   "source": [
    "image.shape, label.shape"
   ]
  },
  {
   "cell_type": "code",
   "execution_count": 69,
   "metadata": {},
   "outputs": [
    {
     "data": {
      "text/plain": [
       "<tf.Tensor: id=994, shape=(10,), dtype=uint8, numpy=array([0, 0, 0, 0, 0, 0, 1, 0, 0, 0], dtype=uint8)>"
      ]
     },
     "execution_count": 69,
     "metadata": {},
     "output_type": "execute_result"
    }
   ],
   "source": [
    "label[0]"
   ]
  },
  {
   "cell_type": "code",
   "execution_count": 70,
   "metadata": {},
   "outputs": [
    {
     "name": "stderr",
     "output_type": "stream",
     "text": [
      "/home/chanseok/anaconda3/lib/python3.7/site-packages/matplotlib/text.py:1150: FutureWarning: elementwise comparison failed; returning scalar instead, but in the future will perform elementwise comparison\n",
      "  if s != self._text:\n"
     ]
    },
    {
     "data": {
      "text/plain": [
       "Text(0.5, 1.0, '[0 0 0 0 0 0 1 0 0 0]')"
      ]
     },
     "execution_count": 70,
     "metadata": {},
     "output_type": "execute_result"
    },
    {
     "data": {
      "image/png": "[encoded data removed]",
      "text/plain": [
       "<Figure size 432x288 with 1 Axes>"
      ]
     },
     "metadata": {
      "needs_background": "light"
     },
     "output_type": "display_data"
    }
   ],
   "source": [
    "plt.imshow(image[0])\n",
    "plt.title(label[0].numpy())"
   ]
  }
 ],
 "metadata": {
  "kernelspec": {
   "display_name": "Python 3",
   "language": "python",
   "name": "python3"
  },
  "language_info": {
   "codemirror_mode": {
    "name": "ipython",
    "version": 3
   },
   "file_extension": ".py",
   "mimetype": "text/x-python",
   "name": "python",
   "nbconvert_exporter": "python",
   "pygments_lexer": "ipython3",
   "version": "3.7.4"
  }
 },
 "nbformat": 4,
 "nbformat_minor": 2
}
