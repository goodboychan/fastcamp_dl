{
 "cells": [
  {
   "cell_type": "markdown",
   "metadata": {},
   "source": [
    "## Implement Vanilla CNN"
   ]
  },
  {
   "cell_type": "code",
   "execution_count": 1,
   "metadata": {},
   "outputs": [],
   "source": [
    "import tensorflow as tf\n",
    "import numpy as np"
   ]
  },
  {
   "cell_type": "code",
   "execution_count": 2,
   "metadata": {},
   "outputs": [],
   "source": [
    "EPOCHS = 10"
   ]
  },
  {
   "cell_type": "code",
   "execution_count": 3,
   "metadata": {},
   "outputs": [],
   "source": [
    "class ConvNet(tf.keras.Model):\n",
    "    def __init__(self):\n",
    "        super(ConvNet, self).__init__()\n",
    "        self.sequence = [] \n",
    "        self.sequence.append(tf.keras.layers.Conv2D(16, (3, 3), \n",
    "                                                    padding='same', \n",
    "                                                    activation='relu')) # 28x28x16 input_data\n",
    "        self.sequence.append(tf.keras.layers.Conv2D(16, (3, 3),\n",
    "                                                    padding='same', activation='relu'))\n",
    "        self.sequence.append(tf.keras.layers.MaxPool2D((2, 2))) # 14x14x16\n",
    "        self.sequence.append(tf.keras.layers.Conv2D(32, (3, 3), \n",
    "                                                    padding='same', \n",
    "                                                    activation='relu')) # 14x14x32 input_data\n",
    "        self.sequence.append(tf.keras.layers.Conv2D(32, (3, 3),\n",
    "                                                    padding='same', activation='relu'))\n",
    "        self.sequence.append(tf.keras.layers.MaxPool2D((2, 2))) # 7x7x32\n",
    "        self.sequence.append(tf.keras.layers.Conv2D(64, (3, 3), \n",
    "                                                    padding='same', \n",
    "                                                    activation='relu')) # 7x7x64 input_data\n",
    "        self.sequence.append(tf.keras.layers.Conv2D(64, (3, 3),\n",
    "                                                    padding='same', activation='relu'))\n",
    "        self.sequence.append(tf.keras.layers.Flatten()) #-> 7*7*64=1568 Convert feature vector\n",
    "        self.sequence.append(tf.keras.layers.Dense(2048, activation='relu'))\n",
    "        self.sequence.append(tf.keras.layers.Dense(10, activation='softmax')) # 10 class classification\n",
    "        \n",
    "    def call(self, x, training=False, mask=None):\n",
    "        for layer in self.sequence:\n",
    "            x = layer(x)\n",
    "        return x"
   ]
  },
  {
   "cell_type": "markdown",
   "metadata": {},
   "source": [
    "## Training/test loop"
   ]
  },
  {
   "cell_type": "code",
   "execution_count": 4,
   "metadata": {},
   "outputs": [],
   "source": [
    "@tf.function\n",
    "def train_step(model, images, labels, loss_object, optimizer, train_loss, train_accuracy):\n",
    "    with tf.GradientTape() as tape:\n",
    "        predictions = model(images)\n",
    "        loss = loss_object(labels, predictions)\n",
    "    gradients = tape.gradient(loss, model.trainable_variables)\n",
    "    \n",
    "    optimizer.apply_gradients(zip(gradients, model.trainable_variables))\n",
    "    train_loss(loss)\n",
    "    train_accuracy(labels, predictions)\n",
    "    \n",
    "@tf.function\n",
    "def test_step(model, images, labels, loss_object, optimizer, test_loss, test_accuracy):\n",
    "    predictions = model(images)\n",
    "    \n",
    "    t_loss = loss_object(labels, predictions)\n",
    "    test_loss(t_loss)\n",
    "    test_accuracy(labels, predictions)"
   ]
  },
  {
   "cell_type": "markdown",
   "metadata": {},
   "source": [
    "## Prepare Dataset"
   ]
  },
  {
   "cell_type": "code",
   "execution_count": 5,
   "metadata": {},
   "outputs": [
    {
     "name": "stdout",
     "output_type": "stream",
     "text": [
      "Downloading data from https://storage.googleapis.com/tensorflow/tf-keras-datasets/mnist.npz\n",
      "11493376/11490434 [==============================] - 1s 0us/step\n"
     ]
    }
   ],
   "source": [
    "mnist = tf.keras.datasets.mnist\n",
    "\n",
    "(x_train, y_train), (x_test, y_test) = mnist.load_data()\n",
    "# Normalize\n",
    "x_train, x_test = x_train / 255.0, x_test / 255.0\n",
    "\n",
    "# x_train: (NUM_SAMPLE, 28, 28) -> (NUM_SAMPLE, 28, 28, 1) - Increase one dimension\n",
    "x_train = x_train[..., tf.newaxis].astype(np.float32)\n",
    "x_test = x_test[..., tf.newaxis].astype(np.float32)\n",
    "\n",
    "train_ds = tf.data.Dataset.from_tensor_slices((x_train, y_train)).shuffle(10000).batch(32)\n",
    "test_ds = tf.data.Dataset.from_tensor_slices((x_test, y_test)).batch(32)"
   ]
  },
  {
   "cell_type": "markdown",
   "metadata": {},
   "source": [
    "## Define training parameter"
   ]
  },
  {
   "cell_type": "code",
   "execution_count": 6,
   "metadata": {},
   "outputs": [],
   "source": [
    "# Create model\n",
    "model = ConvNet()\n",
    "\n",
    "# Define loss and optimizer\n",
    "loss_object = tf.keras.losses.SparseCategoricalCrossentropy()\n",
    "optimizer = tf.keras.optimizers.Adam()\n",
    "\n",
    "# Define performance metrics\n",
    "train_loss = tf.keras.metrics.Mean(name='train_loss')\n",
    "train_accuracy = tf.keras.metrics.SparseCategoricalAccuracy(name='train_accuracy')\n",
    "\n",
    "test_loss = tf.keras.metrics.Mean(name='test_loss')\n",
    "test_accuracy = tf.keras.metrics.SparseCategoricalAccuracy(name='test_accuracy')"
   ]
  },
  {
   "cell_type": "markdown",
   "metadata": {},
   "source": [
    "## Training"
   ]
  },
  {
   "cell_type": "code",
   "execution_count": 7,
   "metadata": {},
   "outputs": [
    {
     "name": "stdout",
     "output_type": "stream",
     "text": [
      "Epoch 1, Loss: 0.12106101214885712, Accuracy: 96.24333190917969, Test Loss: 0.037823934108018875, Test Accuracy: 98.8699951171875\n",
      "Epoch 2, Loss: 0.08268128335475922, Accuracy: 97.413330078125, Test Loss: 0.04028121381998062, Test Accuracy: 98.81999969482422\n",
      "Epoch 3, Loss: 0.06608900427818298, Accuracy: 97.94611358642578, Test Loss: 0.038423892110586166, Test Accuracy: 98.87666320800781\n",
      "Epoch 4, Loss: 0.05650171637535095, Accuracy: 98.24666595458984, Test Loss: 0.03696388006210327, Test Accuracy: 98.92500305175781\n",
      "Epoch 5, Loss: 0.049776963889598846, Accuracy: 98.45433044433594, Test Loss: 0.03524621203541756, Test Accuracy: 98.97599792480469\n",
      "Epoch 6, Loss: 0.04489044472575188, Accuracy: 98.6097183227539, Test Loss: 0.03338497504591942, Test Accuracy: 99.03333282470703\n",
      "Epoch 7, Loss: 0.04102345183491707, Accuracy: 98.73428344726562, Test Loss: 0.034042734652757645, Test Accuracy: 99.0585708618164\n",
      "Epoch 8, Loss: 0.038058966398239136, Accuracy: 98.82770538330078, Test Loss: 0.03401799127459526, Test Accuracy: 99.0562515258789\n",
      "Epoch 9, Loss: 0.03554224967956543, Accuracy: 98.90740203857422, Test Loss: 0.033998582512140274, Test Accuracy: 99.07110595703125\n",
      "Epoch 10, Loss: 0.03363064303994179, Accuracy: 98.97100067138672, Test Loss: 0.03424586355686188, Test Accuracy: 99.07500457763672\n"
     ]
    }
   ],
   "source": [
    "for epoch in range(EPOCHS):\n",
    "    for images, labels in train_ds:\n",
    "        train_step(model, images, labels, loss_object, optimizer, train_loss, train_accuracy)\n",
    "        \n",
    "    for test_images, test_labels in test_ds:\n",
    "        test_step(model, test_images, test_labels, \n",
    "                  loss_object, optimizer, test_loss, test_accuracy)\n",
    "        \n",
    "    template = 'Epoch {}, Loss: {}, Accuracy: {}, Test Loss: {}, Test Accuracy: {}'\n",
    "    print(template.format(epoch+1, \n",
    "                          train_loss.result(),\n",
    "                          train_accuracy.result() * 100,\n",
    "                          test_loss.result(),\n",
    "                          test_accuracy.result() * 100))"
   ]
  }
 ],
 "metadata": {
  "kernelspec": {
   "display_name": "Python 3",
   "language": "python",
   "name": "python3"
  },
  "language_info": {
   "codemirror_mode": {
    "name": "ipython",
    "version": 3
   },
   "file_extension": ".py",
   "mimetype": "text/x-python",
   "name": "python",
   "nbconvert_exporter": "python",
   "pygments_lexer": "ipython3",
   "version": "3.7.6"
  }
 },
 "nbformat": 4,
 "nbformat_minor": 4
}
