{
 "cells": [
  {
   "cell_type": "markdown",
   "metadata": {},
   "source": [
    "## 수치 미분을 이용한 심층 신경망 학습"
   ]
  },
  {
   "cell_type": "code",
   "execution_count": 7,
   "metadata": {},
   "outputs": [],
   "source": [
    "import time\n",
    "import numpy as np"
   ]
  },
  {
   "cell_type": "markdown",
   "metadata": {},
   "source": [
    "## 유틸리티 함수"
   ]
  },
  {
   "cell_type": "code",
   "execution_count": 8,
   "metadata": {
    "code_folding": []
   },
   "outputs": [],
   "source": [
    "epsilon = 0.0001\n",
    "\n",
    "def _t(x):\n",
    "    return np.transpose(x)\n",
    "\n",
    "def _m(A, B):\n",
    "    return np.matmul(A, B)\n",
    "\n",
    "def sigmoid(x):\n",
    "    return 1 / (1 + np.exp(-x))\n",
    "\n",
    "def mean_squared_error(h, y):\n",
    "    return 1 / 2 * np.mean(np.square(h - y))"
   ]
  },
  {
   "cell_type": "markdown",
   "metadata": {},
   "source": [
    "## 뉴런 구현"
   ]
  },
  {
   "cell_type": "code",
   "execution_count": 9,
   "metadata": {},
   "outputs": [],
   "source": [
    "%config IPCompleter.greedy=True"
   ]
  },
  {
   "cell_type": "code",
   "execution_count": 15,
   "metadata": {},
   "outputs": [],
   "source": [
    "class Neuron:\n",
    "    def __init__(self, W, b, a):\n",
    "        # Model Parameters\n",
    "        self.W = W\n",
    "        self.b = b\n",
    "        self.a = a\n",
    "        \n",
    "        # Gradients\n",
    "        self.dW = np.zeros_like(self.W)\n",
    "        self.db = np.zeros_like(self.b)\n",
    "\n",
    "    def __call__(self, x):\n",
    "        return self.a(_m(_t(self.W), x) + self.b)"
   ]
  },
  {
   "cell_type": "markdown",
   "metadata": {},
   "source": [
    "## 심층신경망 구현"
   ]
  },
  {
   "cell_type": "code",
   "execution_count": 17,
   "metadata": {},
   "outputs": [],
   "source": [
    "class DNN:\n",
    "    def __init__(self, hidden_depth, num_neuron, num_input, num_output, activation=sigmoid):\n",
    "        def init_var(i, o):\n",
    "            return np.random.normal(0.0, 0.01, (i, o)), np.zeros((o,))\n",
    "\n",
    "        self.sequence = list()\n",
    "        # First hidden layer\n",
    "        W, b = init_var(num_input, num_neuron)\n",
    "        self.sequence.append(Neuron(W, b, activation))\n",
    "        \n",
    "        # Hidden layers\n",
    "        for _ in range(hidden_depth):\n",
    "            W, b = init_var(num_neuron, num_neuron)\n",
    "            self.sequence.append(Neuron(W, b, activation))\n",
    "\n",
    "        # Output layer\n",
    "        W, b = init_var(num_neuron, num_output)\n",
    "        self.sequence.append(Neuron(W, b, activation))\n",
    "\n",
    "    def __call__(self, x):\n",
    "        for layer in self.sequence:\n",
    "            x = layer(x)\n",
    "        return x\n",
    "\n",
    "    def calc_gradient(self, x, y, loss_func):\n",
    "        def get_new_sequence(layer_index, new_neuron):\n",
    "            new_sequence = list()\n",
    "            for i, layer in enumerate(self.sequence):\n",
    "                if i == layer_index:\n",
    "                    new_sequence.append(new_neuron)\n",
    "                else:\n",
    "                    new_sequence.append(layer)\n",
    "            return new_sequence\n",
    "        \n",
    "        def eval_sequence(x, sequence):\n",
    "            for layer in sequence:\n",
    "                x = layer(x)\n",
    "            return x\n",
    "        \n",
    "        loss = loss_func(self(x), y)\n",
    "        \n",
    "        for layer_id, layer in enumerate(self.sequence): # iterate layer\n",
    "            for w_i, w in enumerate(layer.W): # iterate W (row)\n",
    "                for w_j, ww in enumerate(w): # iterate w (col)\n",
    "                    W = np.copy(layer.W)\n",
    "                    W[w_i][w_j] = ww + epsilon\n",
    "                    \n",
    "                    new_neuron = Neuron(W, layer.b, layer.a)\n",
    "                    new_seq = get_new_sequence(layer_id, new_neuron)\n",
    "                    h = eval_sequence(x, new_seq)\n",
    "                    \n",
    "                    num_grad = (loss_func(h, y) - loss) / epsilon\n",
    "                    layer.dW[w_i][w_j] = num_grad\n",
    "                    \n",
    "                for b_i, bb in enumerate(layer.b):\n",
    "                    b = np.copy(layer.b)\n",
    "                    b[b_i] = bb + epsilon\n",
    "                    \n",
    "                    new_neuron = Neuron(layer.W, b, layer.a)\n",
    "                    new_seq = get_new_sequence(layer_id, new_neuron)\n",
    "                    h = eval_sequence(x, new_seq)\n",
    "                    \n",
    "                    num_grad = (loss_func(h, y) - loss) / epsilon\n",
    "                    layer.db[b_i] = num_grad\n",
    "        \n",
    "        return loss"
   ]
  },
  {
   "cell_type": "markdown",
   "metadata": {},
   "source": [
    "## 경사하강 학습법"
   ]
  },
  {
   "cell_type": "code",
   "execution_count": 18,
   "metadata": {},
   "outputs": [],
   "source": [
    "def gradient_descent(network, x, y, loss_obj, alpha=0.01):\n",
    "    loss = network.calc_gradient(x, y, loss_obj)\n",
    "    for layer in network.sequence:\n",
    "        layer.W += -alpha * layer.dW\n",
    "        layer.b += -alpha * layer.db\n",
    "    return loss"
   ]
  },
  {
   "cell_type": "markdown",
   "metadata": {},
   "source": [
    "## 동작 테스트"
   ]
  },
  {
   "cell_type": "code",
   "execution_count": 19,
   "metadata": {},
   "outputs": [
    {
     "name": "stdout",
     "output_type": "stream",
     "text": [
      "Epoch 0: Test loss 1.1124140560515952\n",
      "Epoch 1: Test loss 1.1061694039762475\n",
      "Epoch 2: Test loss 1.0999680119497117\n",
      "Epoch 3: Test loss 1.0938128429727172\n",
      "Epoch 4: Test loss 1.0877067292299283\n",
      "Epoch 5: Test loss 1.0816523666640014\n",
      "Epoch 6: Test loss 1.0756523104089377\n",
      "Epoch 7: Test loss 1.069708971084974\n",
      "Epoch 8: Test loss 1.0638246119423536\n",
      "Epoch 9: Test loss 1.0580013468408613\n",
      "Epoch 10: Test loss 1.0522411390375814\n",
      "Epoch 11: Test loss 1.0465458007544344\n",
      "Epoch 12: Test loss 1.0409169934859597\n",
      "Epoch 13: Test loss 1.0353562290068061\n",
      "Epoch 14: Test loss 1.029864871034192\n",
      "Epoch 15: Test loss 1.024444137492984\n",
      "Epoch 16: Test loss 1.019095103335337\n",
      "Epoch 17: Test loss 1.0138187038579076\n",
      "Epoch 18: Test loss 1.0086157384669556\n",
      "Epoch 19: Test loss 1.00348687483432\n",
      "Epoch 20: Test loss 0.9984326533911289\n",
      "Epoch 21: Test loss 0.9934534921092135\n",
      "Epoch 22: Test loss 0.9885496915172962\n",
      "Epoch 23: Test loss 0.9837214399048085\n",
      "Epoch 24: Test loss 0.9789688186667571\n",
      "Epoch 25: Test loss 0.9742918077470061\n",
      "Epoch 26: Test loss 0.969690291139031\n",
      "Epoch 27: Test loss 0.9651640624076299\n",
      "Epoch 28: Test loss 0.9607128301966854\n",
      "Epoch 29: Test loss 0.9563362236931294\n",
      "Epoch 30: Test loss 0.9520337980187836\n",
      "Epoch 31: Test loss 0.9478050395259151\n",
      "Epoch 32: Test loss 0.9436493709751907\n",
      "Epoch 33: Test loss 0.9395661565775449\n",
      "Epoch 34: Test loss 0.9355547068842818\n",
      "Epoch 35: Test loss 0.9316142835124837\n",
      "Epoch 36: Test loss 0.9277441036951848\n",
      "Epoch 37: Test loss 0.9239433446483255\n",
      "Epoch 38: Test loss 0.9202111477482673\n",
      "Epoch 39: Test loss 0.9165466225156097\n",
      "Epoch 40: Test loss 0.9129488504033246\n",
      "Epoch 41: Test loss 0.909416888387882\n",
      "Epoch 42: Test loss 0.905949772364428\n",
      "Epoch 43: Test loss 0.9025465203474234\n",
      "Epoch 44: Test loss 0.8992061354798284\n",
      "Epoch 45: Test loss 0.8959276088545469\n",
      "Epoch 46: Test loss 0.8927099221526024\n",
      "Epoch 47: Test loss 0.8895520501033435\n",
      "Epoch 48: Test loss 0.8864529627723527\n",
      "Epoch 49: Test loss 0.8834116276832277\n",
      "Epoch 50: Test loss 0.8804270117796094\n",
      "Epoch 51: Test loss 0.8774980832341802\n",
      "Epoch 52: Test loss 0.874623813111459\n",
      "Epoch 53: Test loss 0.8718031768914636\n",
      "Epoch 54: Test loss 0.8690351558610379\n",
      "Epoch 55: Test loss 0.8663187383796142\n",
      "Epoch 56: Test loss 0.863652921026687\n",
      "Epoch 57: Test loss 0.8610367096373555\n",
      "Epoch 58: Test loss 0.858469120232633\n",
      "Epoch 59: Test loss 0.8559491798510193\n",
      "Epoch 60: Test loss 0.8534759272874146\n",
      "Epoch 61: Test loss 0.8510484137455961\n",
      "Epoch 62: Test loss 0.8486657034096977\n",
      "Epoch 63: Test loss 0.8463268739406018\n",
      "Epoch 64: Test loss 0.8440310169024526\n",
      "Epoch 65: Test loss 0.8417772381241324\n",
      "Epoch 66: Test loss 0.8395646580008508\n",
      "Epoch 67: Test loss 0.8373924117402323\n",
      "Epoch 68: Test loss 0.8352596495572658\n",
      "Epoch 69: Test loss 0.8331655368223074\n",
      "Epoch 70: Test loss 0.8311092541658007\n",
      "Epoch 71: Test loss 0.8290899975436161\n",
      "Epoch 72: Test loss 0.827106978266183\n",
      "Epoch 73: Test loss 0.8251594229949205\n",
      "Epoch 74: Test loss 0.8232465737085246\n",
      "Epoch 75: Test loss 0.821367687642472\n",
      "Epoch 76: Test loss 0.819522037203828\n",
      "Epoch 77: Test loss 0.8177089098641934\n",
      "Epoch 78: Test loss 0.8159276080329222\n",
      "Epoch 79: Test loss 0.8141774489126932\n",
      "Epoch 80: Test loss 0.8124577643393518\n",
      "Epoch 81: Test loss 0.8107679006080446\n",
      "Epoch 82: Test loss 0.8091072182871025\n",
      "Epoch 83: Test loss 0.8074750920213155\n",
      "Epoch 84: Test loss 0.8058709103260976\n",
      "Epoch 85: Test loss 0.8042940753736721\n",
      "Epoch 86: Test loss 0.8027440027726419\n",
      "Epoch 87: Test loss 0.8012201213420783\n",
      "Epoch 88: Test loss 0.7997218728809936\n",
      "Epoch 89: Test loss 0.7982487119342555\n",
      "Epoch 90: Test loss 0.796800105555731\n",
      "Epoch 91: Test loss 0.7953755330694395\n",
      "Epoch 92: Test loss 0.7939744858295018\n",
      "Epoch 93: Test loss 0.7925964669793524\n",
      "Epoch 94: Test loss 0.7912409912109508\n",
      "Epoch 95: Test loss 0.7899075845244836\n",
      "Epoch 96: Test loss 0.7885957839889041\n",
      "Epoch 97: Test loss 0.7873051375039264\n",
      "Epoch 98: Test loss 0.7860352035636351\n",
      "Epoch 99: Test loss 0.7847855510223223\n",
      "82.22035360336304 seconds elapsed.\n"
     ]
    }
   ],
   "source": [
    "x = np.random.normal(0.0, 1.0, (10,))\n",
    "y = np.random.normal(0.0, 1.0, (2,))\n",
    "\n",
    "dnn = DNN(hidden_depth=5, num_neuron=32, num_input=10, num_output=2, activation=sigmoid)\n",
    "\n",
    "t = time.time()\n",
    "for epoch in range(100):\n",
    "    loss = gradient_descent(dnn, x, y, mean_squared_error, 0.01)\n",
    "    print('Epoch {}: Test loss {}'.format(epoch, loss))\n",
    "print('{} seconds elapsed.'.format(time.time() - t))"
   ]
  }
 ],
 "metadata": {
  "kernelspec": {
   "display_name": "Python 3",
   "language": "python",
   "name": "python3"
  },
  "language_info": {
   "codemirror_mode": {
    "name": "ipython",
    "version": 3
   },
   "file_extension": ".py",
   "mimetype": "text/x-python",
   "name": "python",
   "nbconvert_exporter": "python",
   "pygments_lexer": "ipython3",
   "version": "3.7.6"
  }
 },
 "nbformat": 4,
 "nbformat_minor": 2
}
