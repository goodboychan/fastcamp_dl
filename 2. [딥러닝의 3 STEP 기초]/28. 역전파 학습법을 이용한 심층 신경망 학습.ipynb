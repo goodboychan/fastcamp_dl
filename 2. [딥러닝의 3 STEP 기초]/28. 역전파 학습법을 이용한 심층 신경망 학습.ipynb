{
 "cells": [
  {
   "cell_type": "markdown",
   "metadata": {},
   "source": [
    "## 수치 미분을 이용한 심층 신경망 학습"
   ]
  },
  {
   "cell_type": "code",
   "execution_count": 1,
   "metadata": {},
   "outputs": [],
   "source": [
    "import time\n",
    "import numpy as np"
   ]
  },
  {
   "cell_type": "markdown",
   "metadata": {},
   "source": [
    "## 유틸리티 함수"
   ]
  },
  {
   "cell_type": "code",
   "execution_count": 2,
   "metadata": {},
   "outputs": [],
   "source": [
    "def _t(x):\n",
    "    return np.transpose(x)\n",
    "\n",
    "def _m(A, B):\n",
    "    return np.matmul(A, B)"
   ]
  },
  {
   "cell_type": "markdown",
   "metadata": {},
   "source": [
    "## Sigmoid 구현"
   ]
  },
  {
   "cell_type": "code",
   "execution_count": 6,
   "metadata": {},
   "outputs": [],
   "source": [
    "class Sigmoid:\n",
    "    def __init__(self):\n",
    "        self.last_o = 1\n",
    "\n",
    "    def __call__(self, x):\n",
    "        self.last_o = 1 / (1.0 + np.exp(-x))\n",
    "        return self.last_o\n",
    "\n",
    "    def grad(self): # sigmoid(x)(1 - sigmoid(x))\n",
    "        return self.last_o * (1 - self.last_o)"
   ]
  },
  {
   "cell_type": "markdown",
   "metadata": {},
   "source": [
    "## Mean Squared Error 구현"
   ]
  },
  {
   "cell_type": "code",
   "execution_count": 7,
   "metadata": {},
   "outputs": [],
   "source": [
    "class MeanSquaredError:\n",
    "    def __init__(self):\n",
    "        # To calculate gradient\n",
    "        self.dh = 1\n",
    "        self.last_diff = 1\n",
    "\n",
    "    def __call__(self, h, y): # 1 / 2 * mean((h - y)^2)\n",
    "        self.last_diff = h - y\n",
    "        return 1 / 2 * np.mean(np.square(h - y))\n",
    "\n",
    "    def grad(self): # h - y\n",
    "        return self.last_diff"
   ]
  },
  {
   "cell_type": "markdown",
   "metadata": {},
   "source": [
    "## 뉴런 구현"
   ]
  },
  {
   "cell_type": "code",
   "execution_count": 8,
   "metadata": {},
   "outputs": [],
   "source": [
    "class Neuron:\n",
    "    def __init__(self, W, b, a_obj):\n",
    "        # Model Parameters\n",
    "        self.W = W\n",
    "        self.b = b\n",
    "        self.a = a_obj()\n",
    "        \n",
    "        # gradient\n",
    "        self.dW = np.zeros_like(self.W)\n",
    "        self.db = np.zeros_like(self.b)\n",
    "        self.dh = np.zeros_like(_t(self.W))\n",
    "        \n",
    "        self.last_x = np.zeros((self.W.shape[0]))\n",
    "        self.last_h = np.zeros((self.W.shape[1]))\n",
    "\n",
    "    def __call__(self, x):\n",
    "        self.last_x = x\n",
    "        self.last_h = _m(_t(self.W), x) + self.b\n",
    "        return self.a(self.last_h)\n",
    "\n",
    "    def grad(self):\n",
    "        return self.W * self.a.grad()\n",
    "\n",
    "    def grad_W(self, dh):\n",
    "        grad = np.ones_like(self.W)\n",
    "        grad_a = self.a.grad()\n",
    "        \n",
    "        for j in range(grad.shape[1]):\n",
    "            grad[:, j] = dh[j] * grad_a[j] * self.last_x\n",
    "        return grad\n",
    "\n",
    "    def grad_b(self, dh):\n",
    "        return dh * self.a.grad()"
   ]
  },
  {
   "cell_type": "markdown",
   "metadata": {},
   "source": [
    "## 심층신경망 구현"
   ]
  },
  {
   "cell_type": "code",
   "execution_count": 9,
   "metadata": {},
   "outputs": [],
   "source": [
    "class DNN:\n",
    "    def __init__(self, hidden_depth, num_neuron, input, output, activation=Sigmoid):\n",
    "        def init_var(i, o):\n",
    "            return np.random.normal(0.0, 0.01, (i, o)), np.zeros((o,))\n",
    "\n",
    "        self.sequence = list()\n",
    "        # First hidden layer\n",
    "        W, b = init_var(input, num_neuron)\n",
    "        self.sequence.append(Neuron(W, b, activation))\n",
    "\n",
    "        # Hidden Layers\n",
    "        for index in range(hidden_depth):\n",
    "            W, b = init_var(num_neuron, num_neuron)\n",
    "            self.sequence.append(Neuron(W, b, activation))\n",
    "\n",
    "        # Output Layer\n",
    "        W, b = init_var(num_neuron, output)\n",
    "        self.sequence.append(Neuron(W, b, activation))\n",
    "\n",
    "    def __call__(self, x):\n",
    "        for layer in self.sequence:\n",
    "            x = layer(x)\n",
    "        return x\n",
    "\n",
    "    def calc_gradient(self, loss_obj):\n",
    "        loss_obj.dh = loss_obj.grad()\n",
    "        self.sequence.append(loss_obj)\n",
    "        \n",
    "        # Back-propagation\n",
    "        for i in range(len(self.sequence)- 1, 0, -1):\n",
    "            l1 = self.sequence[i]\n",
    "            l0 = self.sequence[i - 1]\n",
    "            \n",
    "            l0.dh = _m(l0.grad(), l1.dh) \n",
    "            l0.dW = l0.grad_W(l1.dh)\n",
    "            l0.db = l0.grad_b(l1.dh)\n",
    "        \n",
    "        self.sequence.remove(loss_obj)"
   ]
  },
  {
   "cell_type": "markdown",
   "metadata": {},
   "source": [
    "## 경사하강 학습법"
   ]
  },
  {
   "cell_type": "code",
   "execution_count": 10,
   "metadata": {},
   "outputs": [],
   "source": [
    "def gradient_descent(network, x, y, loss_obj, alpha=0.01):\n",
    "    loss = loss_obj(network(x), y)  # Forward inference\n",
    "    network.calc_gradient(loss_obj)  # Back-propagation\n",
    "    for layer in network.sequence:\n",
    "        layer.W += -alpha * layer.dW\n",
    "        layer.b += -alpha * layer.db\n",
    "    return loss"
   ]
  },
  {
   "cell_type": "markdown",
   "metadata": {},
   "source": [
    "## 동작 테스트"
   ]
  },
  {
   "cell_type": "code",
   "execution_count": 11,
   "metadata": {},
   "outputs": [
    {
     "name": "stdout",
     "output_type": "stream",
     "text": [
      "Epoch 0: Test loss 0.9929433115270807\n",
      "Epoch 1: Test loss 0.9817925794649889\n",
      "Epoch 2: Test loss 0.970773064277347\n",
      "Epoch 3: Test loss 0.9599009541151322\n",
      "Epoch 4: Test loss 0.9491911661069669\n",
      "Epoch 5: Test loss 0.9386572544386839\n",
      "Epoch 6: Test loss 0.9283113459320426\n",
      "Epoch 7: Test loss 0.918164102636813\n",
      "Epoch 8: Test loss 0.9082247101207139\n",
      "Epoch 9: Test loss 0.8985008894533657\n",
      "Epoch 10: Test loss 0.8889989303528061\n",
      "Epoch 11: Test loss 0.879723742602532\n",
      "Epoch 12: Test loss 0.8706789226483506\n",
      "Epoch 13: Test loss 0.8618668322331997\n",
      "Epoch 14: Test loss 0.8532886860037426\n",
      "Epoch 15: Test loss 0.8449446452002974\n",
      "Epoch 16: Test loss 0.8368339147956297\n",
      "Epoch 17: Test loss 0.8289548417530433\n",
      "Epoch 18: Test loss 0.8213050124071496\n",
      "Epoch 19: Test loss 0.8138813473119164\n",
      "Epoch 20: Test loss 0.8066801922341936\n",
      "Epoch 21: Test loss 0.7996974042847989\n",
      "Epoch 22: Test loss 0.7929284324650332\n",
      "Epoch 23: Test loss 0.7863683921590493\n",
      "Epoch 24: Test loss 0.7800121333194713\n",
      "Epoch 25: Test loss 0.773854302274807\n",
      "Epoch 26: Test loss 0.7678893972340084\n",
      "Epoch 27: Test loss 0.7621118176785374\n",
      "Epoch 28: Test loss 0.7565159079188044\n",
      "Epoch 29: Test loss 0.7510959951534453\n",
      "Epoch 30: Test loss 0.7458464224103696\n",
      "Epoch 31: Test loss 0.7407615767713619\n",
      "Epoch 32: Test loss 0.7358359132907113\n",
      "Epoch 33: Test loss 0.7310639750158054\n",
      "Epoch 34: Test loss 0.7264404095065924\n",
      "Epoch 35: Test loss 0.7219599822335251\n",
      "Epoch 36: Test loss 0.7176175872119754\n",
      "Epoch 37: Test loss 0.7134082552067315\n",
      "Epoch 38: Test loss 0.7093271598142847\n",
      "Epoch 39: Test loss 0.7053696217042125\n",
      "Epoch 40: Test loss 0.7015311112747733\n",
      "Epoch 41: Test loss 0.6978072499524586\n",
      "Epoch 42: Test loss 0.6941938103410217\n",
      "Epoch 43: Test loss 0.690686715402774\n",
      "Epoch 44: Test loss 0.6872820368337741\n",
      "Epoch 45: Test loss 0.6839759927750844\n",
      "Epoch 46: Test loss 0.680764944984509\n",
      "Epoch 47: Test loss 0.6776453955771352\n",
      "Epoch 48: Test loss 0.6746139834285212\n",
      "Epoch 49: Test loss 0.6716674803214145\n",
      "Epoch 50: Test loss 0.6688027869053512\n",
      "Epoch 51: Test loss 0.6660169285282656\n",
      "Epoch 52: Test loss 0.6633070509902311\n",
      "Epoch 53: Test loss 0.6606704162615351\n",
      "Epoch 54: Test loss 0.6581043982003717\n",
      "Epoch 55: Test loss 0.6556064782994018\n",
      "Epoch 56: Test loss 0.653174241485194\n",
      "Epoch 57: Test loss 0.6508053719900357\n",
      "Epoch 58: Test loss 0.6484976493116972\n",
      "Epoch 59: Test loss 0.6462489442733893\n",
      "Epoch 60: Test loss 0.6440572151932935\n",
      "Epoch 61: Test loss 0.6419205041706073\n",
      "Epoch 62: Test loss 0.6398369334929899\n",
      "Epoch 63: Test loss 0.637804702168554\n",
      "Epoch 64: Test loss 0.6358220825840962\n",
      "Epoch 65: Test loss 0.6338874172900427\n",
      "Epoch 66: Test loss 0.6319991159115989\n",
      "Epoch 67: Test loss 0.6301556521847566\n",
      "Epoch 68: Test loss 0.628355561115164\n",
      "Epoch 69: Test loss 0.6265974362573277\n",
      "Epoch 70: Test loss 0.6248799271111972\n",
      "Epoch 71: Test loss 0.6232017366328737\n",
      "Epoch 72: Test loss 0.6215616188559341\n",
      "Epoch 73: Test loss 0.6199583766197064\n",
      "Epoch 74: Test loss 0.6183908594007129\n",
      "Epoch 75: Test loss 0.6168579612434367\n",
      "Epoch 76: Test loss 0.6153586187865536\n",
      "Epoch 77: Test loss 0.6138918093807684\n",
      "Epoch 78: Test loss 0.612456549294447\n",
      "Epoch 79: Test loss 0.6110518920032849\n",
      "Epoch 80: Test loss 0.6096769265603348\n",
      "Epoch 81: Test loss 0.6083307760428068\n",
      "Epoch 82: Test loss 0.6070125960721543\n",
      "Epoch 83: Test loss 0.6057215734040663\n",
      "Epoch 84: Test loss 0.6044569245851065\n",
      "Epoch 85: Test loss 0.6032178946728503\n",
      "Epoch 86: Test loss 0.6020037560164966\n",
      "Epoch 87: Test loss 0.6008138070950503\n",
      "Epoch 88: Test loss 0.5996473714102876\n",
      "Epoch 89: Test loss 0.5985037964318445\n",
      "Epoch 90: Test loss 0.5973824525918746\n",
      "Epoch 91: Test loss 0.5962827323268481\n",
      "Epoch 92: Test loss 0.5952040491641675\n",
      "Epoch 93: Test loss 0.594145836851387\n",
      "Epoch 94: Test loss 0.593107548525931\n",
      "Epoch 95: Test loss 0.5920886559233015\n",
      "Epoch 96: Test loss 0.5910886486218694\n",
      "Epoch 97: Test loss 0.5901070333224331\n",
      "Epoch 98: Test loss 0.5891433331608192\n",
      "Epoch 99: Test loss 0.5881970870518913\n",
      "0.09502148628234863 seconds elapsed.\n"
     ]
    }
   ],
   "source": [
    "x = np.random.normal(0.0, 1.0, (10,))\n",
    "y = np.random.normal(0.0, 1.0, (2,))\n",
    "\n",
    "t = time.time()\n",
    "dnn = DNN(hidden_depth=5, num_neuron=32, input=10, output=2, activation=Sigmoid)\n",
    "loss_obj = MeanSquaredError()\n",
    "for epoch in range(100):\n",
    "    loss = gradient_descent(dnn, x, y, loss_obj, alpha=0.01)\n",
    "    print('Epoch {}: Test loss {}'.format(epoch, loss))\n",
    "print('{} seconds elapsed.'.format(time.time() - t))"
   ]
  }
 ],
 "metadata": {
  "kernelspec": {
   "display_name": "Python 3",
   "language": "python",
   "name": "python3"
  },
  "language_info": {
   "codemirror_mode": {
    "name": "ipython",
    "version": 3
   },
   "file_extension": ".py",
   "mimetype": "text/x-python",
   "name": "python",
   "nbconvert_exporter": "python",
   "pygments_lexer": "ipython3",
   "version": "3.7.6"
  }
 },
 "nbformat": 4,
 "nbformat_minor": 2
}
